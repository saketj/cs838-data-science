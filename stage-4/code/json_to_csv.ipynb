{
 "cells": [
  {
   "cell_type": "code",
   "execution_count": 20,
   "metadata": {
    "collapsed": false,
    "deletable": true,
    "editable": true
   },
   "outputs": [
    {
     "name": "stdout",
     "output_type": "stream",
     "text": [
      "Done\n"
     ]
    }
   ],
   "source": [
    "import csv\n",
    "import json\n",
    "\n",
    "x = json.load(open('../../stage-1/datasets/yelp_data.json'))\n",
    "\n",
    "f = csv.writer(open(\"../datasets/yelp_data.csv\", \"w\"))\n",
    "\n",
    "# Write CSV Header\n",
    "'''\"price\": \"$$\", \n",
    "        \"rating\": 4.5, \n",
    "        \"review_count\": 343, '''\n",
    "f.writerow([\"name\", \"address\", \"zipcode\", \"cuisine\", \"price\", \"rating\", \"review_count\"])\n",
    "for x in x:\n",
    "    if('price' in x):\n",
    "        address = \"\";\n",
    "        if(x[\"location\"][\"address1\"] is not None):\n",
    "            address = address + x[\"location\"][\"address1\"]    \n",
    "        if(x[\"location\"][\"address2\"] is not None):\n",
    "            address = address + \", \" + x[\"location\"][\"address2\"]\n",
    "        if(x[\"location\"][\"address3\"] is not None):\n",
    "            address = address + \", \" + x[\"location\"][\"address3\"]\n",
    "        address = str(address.strip())\n",
    "        zipcode = str(x[\"location\"][\"zip_code\"].strip())\n",
    "        name = str(x[\"name\"]).strip()\n",
    "        #print(x[\"price\"])\n",
    "        price = str(x[\"price\"]).strip()\n",
    "        rating = str(x[\"rating\"]).strip()\n",
    "        review_count = str(x[\"review_count\"]).strip()\n",
    "\n",
    "        # Extract the cuisine information from the categories\n",
    "        cuisine = \"\"\n",
    "        for category in x[\"categories\"]:\n",
    "            cuisine = cuisine + \" \" + category['title']\n",
    "        cuisine = cuisine.strip()\n",
    "        if(len(name)>=1 and len(cuisine) >= 1 and len(zipcode) >= 1 and len(address) >= 1 and len(price) >=1 and len(rating) >= 1 and len(review_count) >= 1):\n",
    "            f.writerow([name.lower(), address.lower(), zipcode, cuisine.lower(), price, rating, review_count])\n",
    "print(\"Done\")"
   ]
  },
  {
   "cell_type": "code",
   "execution_count": 23,
   "metadata": {
    "collapsed": false,
    "deletable": true,
    "editable": true
   },
   "outputs": [
    {
     "name": "stdout",
     "output_type": "stream",
     "text": [
      "Done\n"
     ]
    }
   ],
   "source": [
    "import re\n",
    "import csv\n",
    "import json\n",
    "\n",
    "reader = csv.DictReader(open('../../stage-1/datasets/health_inspection_data.csv'))\n",
    "\n",
    "f = csv.writer(open(\"../datasets/inspection_data.csv\", \"w\"))\n",
    "\n",
    "# Write CSV Header\n",
    "f.writerow([\"name\", \"address\", \"zipcode\", \"cuisine\", \"violation_code\", \"critical_flag\", \"grade\"])\n",
    "# violation code,Critical flag, Score, grade\n",
    "row = 1\n",
    "dict = {}\n",
    "for x in reader:\n",
    "    key = x['CAMIS']\n",
    "    if(key not in dict):\n",
    "        dict[key] = 'a';\n",
    "        name = x['DBA']\n",
    "        address = x['BUILDING'] + \" \" + x['STREET']\n",
    "        zipcode = x['ZIPCODE']\n",
    "        cuisine = x['CUISINE DESCRIPTION']\n",
    "        violation_code = x['VIOLATION CODE']\n",
    "        critical_flag = x['CRITICAL FLAG']\n",
    "        grade = x['GRADE']\n",
    "\n",
    "        if(len(name)>=1 and len(zipcode) >= 1 and len(address) >= 1 and\n",
    "           x['CRITICAL FLAG'] != 'Not Applicable' and\n",
    "           len(cuisine) >= 1 and len(violation_code) >= 1 and len(critical_flag) >= 1 and len(grade) == 1):\n",
    "            f.writerow([name.lower(), address.lower(), zipcode, cuisine.lower(), violation_code, critical_flag, grade])\n",
    "        row = row + 1\n",
    "print(\"Done\")"
   ]
  },
  {
   "cell_type": "code",
   "execution_count": 35,
   "metadata": {
    "collapsed": false
   },
   "outputs": [
    {
     "name": "stdout",
     "output_type": "stream",
     "text": [
      "Done\n"
     ]
    }
   ],
   "source": [
    "import re\n",
    "import csv\n",
    "import json\n",
    "\n",
    "reader = csv.DictReader(open(\"../datasets/matched_A_B.csv\"))\n",
    "\n",
    "f = csv.writer(open(\"../datasets/matched_A_B_positive.csv\", \"w\"))\n",
    "\n",
    "# Write CSV Header\n",
    "f.writerow(['_id', 'ltable_ID', 'rtable_ID','ltable_name', 'ltable_address', 'ltable_zipcode', 'ltable_cuisine', 'ltable_price', 'rtable_name', 'rtable_address', 'rtable_zipcode', 'rtable_cuisine', 'rtable_violation_code', 'rtable_critical_flag', 'rtable_grade'])\n",
    "# violation code,Critical flag, Score, grade\n",
    "for x in reader:\n",
    "    if(x['predicted'] == '1'):\n",
    "        f.writerow([x['_id'],x['ltable_ID'],x['rtable_ID'],x['ltable_name'],x['ltable_address'],x['ltable_zipcode'],x['ltable_cuisine'],x['ltable_price'],x['rtable_name'],x['rtable_address'],x['rtable_zipcode'],x['rtable_cuisine'],x['rtable_violation_code'],x['rtable_critical_flag'],x['rtable_grade']])\n",
    "print(\"Done\")"
   ]
  },
  {
   "cell_type": "code",
   "execution_count": 33,
   "metadata": {
    "collapsed": false
   },
   "outputs": [
    {
     "name": "stdout",
     "output_type": "stream",
     "text": [
      "x['_id'],x['ltable_ID'],x['rtable_ID'],x['ltable_name'],x['ltable_address'],x['ltable_zipcode'],x['ltable_cuisine'],x['ltable_price'],x['rtable_name'],x['rtable_address'],x['rtable_zipcode'],x['rtable_cuisine'],x['rtable_violation_code'],x['rtable_critical_flag'],x['rtable_grade'],"
     ]
    }
   ],
   "source": [
    "a = ['_id', 'ltable_ID', 'rtable_ID','ltable_name', 'ltable_address', 'ltable_zipcode', 'ltable_cuisine', 'ltable_price', 'rtable_name', 'rtable_address', 'rtable_zipcode', 'rtable_cuisine', 'rtable_violation_code', 'rtable_critical_flag', 'rtable_grade']\n",
    "for i in a:\n",
    "    print ('x[\\'' + i + '\\'],', end='')"
   ]
  }
 ],
 "metadata": {
  "kernelspec": {
   "display_name": "Python 3",
   "language": "python",
   "name": "python3"
  },
  "language_info": {
   "codemirror_mode": {
    "name": "ipython",
    "version": 3
   },
   "file_extension": ".py",
   "mimetype": "text/x-python",
   "name": "python",
   "nbconvert_exporter": "python",
   "pygments_lexer": "ipython3",
   "version": "3.6.0"
  }
 },
 "nbformat": 4,
 "nbformat_minor": 2
}
