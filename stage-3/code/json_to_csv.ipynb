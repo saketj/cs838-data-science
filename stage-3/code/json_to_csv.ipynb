{
 "cells": [
  {
   "cell_type": "code",
   "execution_count": 8,
   "metadata": {
    "collapsed": false,
    "deletable": true,
    "editable": true
   },
   "outputs": [
    {
     "name": "stdout",
     "output_type": "stream",
     "text": [
      "Done\n"
     ]
    }
   ],
   "source": [
    "import csv\n",
    "import json\n",
    "\n",
    "x = json.load(open('../../stage-1/datasets/yelp_data.json'))\n",
    "\n",
    "f = csv.writer(open(\"../datasets/yelp_data.csv\", \"w\"))\n",
    "\n",
    "# Write CSV Header\n",
    "f.writerow([\"name\", \"address\", \"zipcode\", \"cuisine\"])\n",
    "for x in x:\n",
    "    address = \"\";\n",
    "    if(x[\"location\"][\"address1\"] is not None):\n",
    "        address = address + x[\"location\"][\"address1\"]    \n",
    "    if(x[\"location\"][\"address2\"] is not None):\n",
    "        address = address + \", \" + x[\"location\"][\"address2\"]\n",
    "    if(x[\"location\"][\"address3\"] is not None):\n",
    "        address = address + \", \" + x[\"location\"][\"address3\"]\n",
    "    address = str(address.strip())\n",
    "    zipcode = str(x[\"location\"][\"zip_code\"].strip())\n",
    "    name = str(x[\"name\"]).strip()\n",
    "    # Extract the cuisine information from the categories\n",
    "    cuisine = \"\"\n",
    "    for category in x[\"categories\"]:\n",
    "        cuisine = cuisine + \" \" + category['title']\n",
    "    cuisine = cuisine.strip()\n",
    "    if(len(name)>=1 and len(cuisine) >= 1 and len(zipcode) >= 1 and len(address) >= 1):\n",
    "        f.writerow([name.lower(), address.lower(), zipcode, cuisine.lower()])\n",
    "print(\"Done\")"
   ]
  },
  {
   "cell_type": "code",
   "execution_count": 9,
   "metadata": {
    "collapsed": false,
    "deletable": true,
    "editable": true
   },
   "outputs": [
    {
     "name": "stdout",
     "output_type": "stream",
     "text": [
      "Done\n"
     ]
    }
   ],
   "source": [
    "import re\n",
    "import csv\n",
    "import json\n",
    "\n",
    "reader = csv.DictReader(open('../../stage-1/datasets/DOHMH_New_York_City_Restaurant_Inspection_Results.csv'))\n",
    "\n",
    "f = csv.writer(open(\"../datasets/inspection_data.csv\", \"w\"))\n",
    "\n",
    "# Write CSV Header\n",
    "f.writerow([\"name\", \"address\", \"zipcode\", \"cuisine\"])\n",
    "row = 1\n",
    "for x in reader:\n",
    "    name = x['DBA']\n",
    "    address = x['BUILDING'] + \" \" + x['STREET']\n",
    "    zipcode = x['ZIPCODE']\n",
    "    cuisine = x['CUISINE DESCRIPTION']\n",
    "    if(len(name)>=1 and len(zipcode) >= 1 and len(address) >= 1 and len(cuisine) >= 1 and row % 10 == 0):\n",
    "        f.writerow([name.lower(), address.lower(), zipcode, cuisine.lower()])\n",
    "    row = row + 1\n",
    "print(\"Done\")"
   ]
  }
 ],
 "metadata": {
  "kernelspec": {
   "display_name": "Python 3",
   "language": "python",
   "name": "python3"
  },
  "language_info": {
   "codemirror_mode": {
    "name": "ipython",
    "version": 3
   },
   "file_extension": ".py",
   "mimetype": "text/x-python",
   "name": "python",
   "nbconvert_exporter": "python",
   "pygments_lexer": "ipython3",
   "version": "3.6.1"
  }
 },
 "nbformat": 4,
 "nbformat_minor": 2
}
