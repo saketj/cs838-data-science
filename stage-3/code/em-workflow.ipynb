{
 "cells": [
  {
   "cell_type": "code",
   "execution_count": 3,
   "metadata": {
    "collapsed": false,
    "deletable": true,
    "editable": true
   },
   "outputs": [
    {
     "name": "stderr",
     "output_type": "stream",
     "text": [
      "Metadata file is not present in the given path; proceeding to read the csv file.\n",
      "Metadata file is not present in the given path; proceeding to read the csv file.\n"
     ]
    },
    {
     "name": "stdout",
     "output_type": "stream",
     "text": [
      "19270\n",
      "23907\n"
     ]
    }
   ],
   "source": [
    "# Read the csv dataset\n",
    "import py_entitymatching as em\n",
    "A = em.read_csv_metadata('../datasets/yelp_data.csv')\n",
    "A['ID'] = range(0, len(A))\n",
    "em.set_key(A, 'ID')\n",
    "\n",
    "B = em.read_csv_metadata('../datasets/inspection_data.csv')\n",
    "B['ID'] = range(0, len(B))\n",
    "em.set_key(B, 'ID')\n",
    "\n",
    "print(len(A))\n",
    "print(len(B))"
   ]
  },
  {
   "cell_type": "code",
   "execution_count": null,
   "metadata": {
    "collapsed": false,
    "deletable": true,
    "editable": true
   },
   "outputs": [
    {
     "data": {
      "text/html": [
       "<div>\n",
       "<table border=\"1\" class=\"dataframe\">\n",
       "  <thead>\n",
       "    <tr style=\"text-align: right;\">\n",
       "      <th></th>\n",
       "      <th>name</th>\n",
       "      <th>address</th>\n",
       "      <th>zipcode</th>\n",
       "      <th>cuisine</th>\n",
       "      <th>ID</th>\n",
       "    </tr>\n",
       "  </thead>\n",
       "  <tbody>\n",
       "    <tr>\n",
       "      <th>0</th>\n",
       "      <td>barn joo 35</td>\n",
       "      <td>34 w 35th st, ,</td>\n",
       "      <td>10001</td>\n",
       "      <td>korean gastropubs tapas/small plates</td>\n",
       "      <td>0</td>\n",
       "    </tr>\n",
       "    <tr>\n",
       "      <th>1</th>\n",
       "      <td>friedman's</td>\n",
       "      <td>132 w 31st st, ,</td>\n",
       "      <td>10001</td>\n",
       "      <td>american (new) gluten-free breakfast &amp; brunch</td>\n",
       "      <td>1</td>\n",
       "    </tr>\n",
       "    <tr>\n",
       "      <th>2</th>\n",
       "      <td>juniper</td>\n",
       "      <td>237 w 35th st,</td>\n",
       "      <td>10001</td>\n",
       "      <td>cocktail bars american (new)</td>\n",
       "      <td>2</td>\n",
       "    </tr>\n",
       "    <tr>\n",
       "      <th>3</th>\n",
       "      <td>haymaker bar and kitchen</td>\n",
       "      <td>252 w 29th st, ,</td>\n",
       "      <td>10001</td>\n",
       "      <td>gastropubs beer bar</td>\n",
       "      <td>3</td>\n",
       "    </tr>\n",
       "    <tr>\n",
       "      <th>4</th>\n",
       "      <td>izakaya mew</td>\n",
       "      <td>53 w 35th st, basement,</td>\n",
       "      <td>10001</td>\n",
       "      <td>sushi bars izakaya cocktail bars</td>\n",
       "      <td>4</td>\n",
       "    </tr>\n",
       "  </tbody>\n",
       "</table>\n",
       "</div>"
      ],
      "text/plain": [
       "                       name                  address  zipcode  \\\n",
       "0               barn joo 35          34 w 35th st, ,    10001   \n",
       "1                friedman's         132 w 31st st, ,    10001   \n",
       "2                   juniper           237 w 35th st,    10001   \n",
       "3  haymaker bar and kitchen         252 w 29th st, ,    10001   \n",
       "4               izakaya mew  53 w 35th st, basement,    10001   \n",
       "\n",
       "                                         cuisine  ID  \n",
       "0           korean gastropubs tapas/small plates   0  \n",
       "1  american (new) gluten-free breakfast & brunch   1  \n",
       "2                   cocktail bars american (new)   2  \n",
       "3                            gastropubs beer bar   3  \n",
       "4               sushi bars izakaya cocktail bars   4  "
      ]
     },
     "execution_count": 3,
     "metadata": {},
     "output_type": "execute_result"
    }
   ],
   "source": [
    "A.head()"
   ]
  },
  {
   "cell_type": "markdown",
   "metadata": {
    "deletable": true,
    "editable": true
   },
   "source": [
    "## Down-sample"
   ]
  },
  {
   "cell_type": "code",
   "execution_count": null,
   "metadata": {
    "collapsed": false,
    "deletable": true,
    "editable": true
   },
   "outputs": [
    {
     "name": "stderr",
     "output_type": "stream",
     "text": [
      "0%                          100%\n",
      "[###################           ] | ETA: 00:00:49 | ETA: 00:00:48 | ETA: 00:00:46 | ETA: 00:00:43 | ETA: 00:00:41 | ETA: 00:00:37 | ETA: 00:00:36 | ETA: 00:00:36 | ETA: 00:00:36 | ETA: 00:00:35 | ETA: 00:00:32 | ETA: 00:00:30 | ETA: 00:00:28 | ETA: 00:00:26 | ETA: 00:00:25 | ETA: 00:00:24 | ETA: 00:00:23 | ETA: 00:00:22 | ETA: 00:00:21"
     ]
    }
   ],
   "source": [
    "sample_A, sample_B = em.down_sample(A, B, size=18000, y_param=2)\n",
    "# Save the datasets because it changes every time we perform down-sampling.\n",
    "em.to_csv_metadata(sample_A, '../datasets/sample_A_generated.csv')\n",
    "em.to_csv_metadata(sample_B, '../datasets/sample_B_generated.csv')"
   ]
  },
  {
   "cell_type": "markdown",
   "metadata": {
    "deletable": true,
    "editable": true
   },
   "source": [
    "## Blocking"
   ]
  },
  {
   "cell_type": "code",
   "execution_count": null,
   "metadata": {
    "collapsed": false,
    "deletable": true,
    "editable": true
   },
   "outputs": [],
   "source": [
    "# Perform blocking\n",
    "ab = em.AttrEquivalenceBlocker()\n",
    "C = ab.block_tables(sample_A, sample_B, 'zipcode', 'zipcode', l_output_attrs=['name', 'address', 'zipcode', 'cuisine'], r_output_attrs=['name', 'address', 'zipcode', 'cuisine'])\n",
    "ob = em.OverlapBlocker()\n",
    "D = ob.block_candset(C, 'address', 'address', overlap_size=4)"
   ]
  },
  {
   "cell_type": "code",
   "execution_count": null,
   "metadata": {
    "collapsed": false,
    "deletable": true,
    "editable": true
   },
   "outputs": [],
   "source": [
    "# Describe the candidate set\n",
    "print(len(D))\n",
    "D.head(2)"
   ]
  },
  {
   "cell_type": "code",
   "execution_count": null,
   "metadata": {
    "collapsed": false,
    "deletable": true,
    "editable": true
   },
   "outputs": [],
   "source": [
    "# Sample the candidate set.\n",
    "S = em.sample_table(D, sample_size=1000) # C is the candidate set to be sampled from.\n",
    "# Write the sample set to a file for further processing.\n",
    "em.to_csv_metadata(S, '../datasets/candidate_sample_generated.csv')"
   ]
  },
  {
   "cell_type": "markdown",
   "metadata": {
    "deletable": true,
    "editable": true
   },
   "source": [
    "## Feature extraction"
   ]
  },
  {
   "cell_type": "code",
   "execution_count": 4,
   "metadata": {
    "collapsed": false,
    "deletable": true,
    "editable": true,
    "scrolled": true
   },
   "outputs": [
    {
     "name": "stderr",
     "output_type": "stream",
     "text": [
      "Metadata file is not present in the given path; proceeding to read the csv file.\n",
      "Metadata file is not present in the given path; proceeding to read the csv file.\n"
     ]
    }
   ],
   "source": [
    "# Loading the saved files\n",
    "import py_entitymatching as em\n",
    "sample_A = em.read_csv_metadata('../datasets/sample_A.csv')\n",
    "sample_B = em.read_csv_metadata('../datasets/sample_B.csv')\n",
    "S = em.read_csv_metadata('../datasets/candidate_sample.csv')\n",
    "G = em.read_csv_metadata('../datasets/candidate_sample_labeled.csv')\n",
    "\n",
    "# Adding metadata to the files\n",
    "em.set_key(sample_A, 'ID')\n",
    "em.set_key(sample_B, 'ID')\n",
    "\n",
    "em.set_key(S, '_id')\n",
    "em.set_fk_ltable(S, 'ltable_ID')\n",
    "em.set_fk_rtable(S, 'rtable_ID')\n",
    "em.set_ltable(S, sample_A)\n",
    "em.set_rtable(S, sample_B)\n",
    "\n",
    "em.set_key(G, '_id')\n",
    "em.set_fk_ltable(G, 'ltable_ID')\n",
    "em.set_fk_rtable(G, 'rtable_ID')\n",
    "em.set_ltable(G, sample_A)\n",
    "em.set_rtable(G, sample_B)\n",
    "IJ = em.split_train_test(G, train_proportion=0.5, random_state=0)\n",
    "I = IJ['train']\n",
    "J = IJ['test']"
   ]
  },
  {
   "cell_type": "code",
   "execution_count": 5,
   "metadata": {
    "collapsed": false,
    "deletable": true,
    "editable": true,
    "scrolled": true
   },
   "outputs": [
    {
     "data": {
      "text/html": [
       "<div>\n",
       "<table border=\"1\" class=\"dataframe\">\n",
       "  <thead>\n",
       "    <tr style=\"text-align: right;\">\n",
       "      <th></th>\n",
       "      <th>feature_name</th>\n",
       "      <th>left_attribute</th>\n",
       "      <th>right_attribute</th>\n",
       "      <th>left_attr_tokenizer</th>\n",
       "      <th>right_attr_tokenizer</th>\n",
       "      <th>simfunction</th>\n",
       "      <th>function</th>\n",
       "      <th>function_source</th>\n",
       "      <th>is_auto_generated</th>\n",
       "    </tr>\n",
       "  </thead>\n",
       "  <tbody>\n",
       "    <tr>\n",
       "      <th>0</th>\n",
       "      <td>custom_address_sim</td>\n",
       "      <td>None</td>\n",
       "      <td>None</td>\n",
       "      <td>None</td>\n",
       "      <td>None</td>\n",
       "      <td>None</td>\n",
       "      <td>&lt;function custom_address_sim at 0x11e242bf8&gt;</td>\n",
       "      <td>None</td>\n",
       "      <td>False</td>\n",
       "    </tr>\n",
       "    <tr>\n",
       "      <th>1</th>\n",
       "      <td>custom_name_jaccard</td>\n",
       "      <td>None</td>\n",
       "      <td>None</td>\n",
       "      <td>None</td>\n",
       "      <td>None</td>\n",
       "      <td>None</td>\n",
       "      <td>&lt;function custom_name_jaccard at 0x11e242d08&gt;</td>\n",
       "      <td>None</td>\n",
       "      <td>False</td>\n",
       "    </tr>\n",
       "    <tr>\n",
       "      <th>2</th>\n",
       "      <td>custom_address_overlap</td>\n",
       "      <td>None</td>\n",
       "      <td>None</td>\n",
       "      <td>None</td>\n",
       "      <td>None</td>\n",
       "      <td>None</td>\n",
       "      <td>&lt;function custom_address_overlap at 0x11e242d90&gt;</td>\n",
       "      <td>None</td>\n",
       "      <td>False</td>\n",
       "    </tr>\n",
       "    <tr>\n",
       "      <th>3</th>\n",
       "      <td>custom_name_cosine</td>\n",
       "      <td>None</td>\n",
       "      <td>None</td>\n",
       "      <td>None</td>\n",
       "      <td>None</td>\n",
       "      <td>None</td>\n",
       "      <td>&lt;function custom_name_cosine at 0x11e242f28&gt;</td>\n",
       "      <td>None</td>\n",
       "      <td>False</td>\n",
       "    </tr>\n",
       "    <tr>\n",
       "      <th>4</th>\n",
       "      <td>custom_address_cosine</td>\n",
       "      <td>None</td>\n",
       "      <td>None</td>\n",
       "      <td>None</td>\n",
       "      <td>None</td>\n",
       "      <td>None</td>\n",
       "      <td>&lt;function custom_address_cosine at 0x11e242ea0&gt;</td>\n",
       "      <td>None</td>\n",
       "      <td>False</td>\n",
       "    </tr>\n",
       "    <tr>\n",
       "      <th>5</th>\n",
       "      <td>custom_cuisine_overlap</td>\n",
       "      <td>None</td>\n",
       "      <td>None</td>\n",
       "      <td>None</td>\n",
       "      <td>None</td>\n",
       "      <td>None</td>\n",
       "      <td>&lt;function custom_cuisine_overlap at 0x11d193048&gt;</td>\n",
       "      <td>None</td>\n",
       "      <td>False</td>\n",
       "    </tr>\n",
       "  </tbody>\n",
       "</table>\n",
       "</div>"
      ],
      "text/plain": [
       "             feature_name left_attribute right_attribute left_attr_tokenizer  \\\n",
       "0      custom_address_sim           None            None                None   \n",
       "1     custom_name_jaccard           None            None                None   \n",
       "2  custom_address_overlap           None            None                None   \n",
       "3      custom_name_cosine           None            None                None   \n",
       "4   custom_address_cosine           None            None                None   \n",
       "5  custom_cuisine_overlap           None            None                None   \n",
       "\n",
       "  right_attr_tokenizer simfunction  \\\n",
       "0                 None        None   \n",
       "1                 None        None   \n",
       "2                 None        None   \n",
       "3                 None        None   \n",
       "4                 None        None   \n",
       "5                 None        None   \n",
       "\n",
       "                                           function function_source  \\\n",
       "0      <function custom_address_sim at 0x11e242bf8>            None   \n",
       "1     <function custom_name_jaccard at 0x11e242d08>            None   \n",
       "2  <function custom_address_overlap at 0x11e242d90>            None   \n",
       "3      <function custom_name_cosine at 0x11e242f28>            None   \n",
       "4   <function custom_address_cosine at 0x11e242ea0>            None   \n",
       "5  <function custom_cuisine_overlap at 0x11d193048>            None   \n",
       "\n",
       "  is_auto_generated  \n",
       "0             False  \n",
       "1             False  \n",
       "2             False  \n",
       "3             False  \n",
       "4             False  \n",
       "5             False  "
      ]
     },
     "execution_count": 5,
     "metadata": {},
     "output_type": "execute_result"
    }
   ],
   "source": [
    "# Manual Feature Extraction\n",
    "match_t = em.get_tokenizers_for_matching()\n",
    "match_s = em.get_sim_funs_for_matching()\n",
    "atypes1 = em.get_attr_types(A)\n",
    "atypes2 = em.get_attr_types(B)\n",
    "match_c = em.get_attr_corres(A, B)\n",
    "match_f = em.get_features(A, B, atypes1, atypes2, match_c, match_t, match_s)\n",
    "features_to_drop = list(range(0, 32))\n",
    "match_f = match_f.drop(features_to_drop)  # We drop all features, as we build features manually.\n",
    "\n",
    "# Create blackbox features\n",
    "import re\n",
    "def custom_address_sim(ltuple, rtuple):\n",
    "    sim = 0.0\n",
    "    # Extract all numbers from the address and count how many of them match-\n",
    "    numbers = re.findall(r'\\d+', ltuple['address'])\n",
    "    num_matches = 0\n",
    "    for number in numbers:\n",
    "        if number in rtuple['address']:\n",
    "            num_matches = num_matches + 1\n",
    "    if len(numbers) > 0:\n",
    "        sim = float(num_matches) / float(len(numbers)) # Normalize    \n",
    "    # Compute jaccard similarity for street names.\n",
    "    jaccard_sim = em.jaccard(em.tok_alphabetic(ltuple['address']), em.tok_alphabetic(rtuple['address']))\n",
    "    return sim * jaccard_sim\n",
    "\n",
    "def custom_name_jaccard(ltuple, rtuple):\n",
    "    jaccard_sim = em.jaccard(em.tok_alphabetic(ltuple['name']), em.tok_alphabetic(rtuple['name']))\n",
    "    return jaccard_sim\n",
    "\n",
    "def custom_address_overlap(ltuple, rtuple):    \n",
    "    sim = em.overlap_coeff(em.tok_alphanumeric(ltuple['address']), em.tok_alphanumeric(rtuple['address']))\n",
    "    return sim\n",
    "\n",
    "def custom_name_overlap(ltuple, rtuple):\n",
    "    overlap_sim = em.overlap_coeff(em.tok_alphabetic(ltuple['name']), em.tok_alphabetic(rtuple['name']))\n",
    "    return overlap_sim\n",
    "\n",
    "def custom_address_cosine(ltuple, rtuple):    \n",
    "    sim = em.cosine(em.tok_alphanumeric(ltuple['address']), em.tok_alphanumeric(rtuple['address']))\n",
    "    return sim\n",
    "\n",
    "def custom_name_cosine(ltuple, rtuple):\n",
    "    sim = em.cosine(em.tok_alphabetic(ltuple['name']), em.tok_alphabetic(rtuple['name']))\n",
    "    return sim\n",
    "\n",
    "def custom_cuisine_overlap(ltuple, rtuple):\n",
    "    sim = em.overlap_coeff(em.tok_alphabetic(ltuple['cuisine']), em.tok_alphabetic(rtuple['cuisine']))\n",
    "    return sim\n",
    "\n",
    "status = em.add_blackbox_feature(match_f, 'custom_address_sim', custom_address_sim)\n",
    "status = em.add_blackbox_feature(match_f, 'custom_name_jaccard', custom_name_jaccard)\n",
    "#status = em.add_blackbox_feature(match_f, 'custom_name_overlap', custom_name_overlap)\n",
    "status = em.add_blackbox_feature(match_f, 'custom_address_overlap', custom_address_overlap)\n",
    "status = em.add_blackbox_feature(match_f, 'custom_name_cosine', custom_name_cosine)\n",
    "status = em.add_blackbox_feature(match_f, 'custom_address_cosine', custom_address_cosine)\n",
    "status = em.add_blackbox_feature(match_f, 'custom_cuisine_overlap', custom_cuisine_overlap)\n",
    "\n",
    "match_f"
   ]
  },
  {
   "cell_type": "code",
   "execution_count": 6,
   "metadata": {
    "collapsed": false,
    "deletable": true,
    "editable": true
   },
   "outputs": [
    {
     "name": "stderr",
     "output_type": "stream",
     "text": [
      "0%                          100%\n",
      "[##############################] | ETA: 00:00:01 | ETA: 00:00:01 | ETA: 00:00:01 | ETA: 00:00:00 | ETA: 00:00:00 | ETA: 00:00:00 | ETA: 00:00:00 | ETA: 00:00:00 | ETA: 00:00:00 | ETA: 00:00:00 | ETA: 00:00:00 | ETA: 00:00:00 | ETA: 00:00:00 | ETA: 00:00:00 | ETA: 00:00:00 | ETA: 00:00:00 | ETA: 00:00:00 | ETA: 00:00:00 | ETA: 00:00:00 | ETA: 00:00:00 | ETA: 00:00:00 | ETA: 00:00:00 | ETA: 00:00:00 | ETA: 00:00:00 | ETA: 00:00:00 | ETA: 00:00:00 | ETA: 00:00:00 | ETA: 00:00:00 | ETA: 00:00:00 | ETA: 00:00:00 | ETA: 00:00:00\n",
      "Total time elapsed: 00:00:01\n"
     ]
    },
    {
     "data": {
      "text/html": [
       "<div>\n",
       "<table border=\"1\" class=\"dataframe\">\n",
       "  <thead>\n",
       "    <tr style=\"text-align: right;\">\n",
       "      <th></th>\n",
       "      <th>_id</th>\n",
       "      <th>ltable_ID</th>\n",
       "      <th>rtable_ID</th>\n",
       "      <th>custom_address_sim</th>\n",
       "      <th>custom_name_jaccard</th>\n",
       "      <th>custom_address_overlap</th>\n",
       "      <th>custom_name_cosine</th>\n",
       "      <th>custom_address_cosine</th>\n",
       "      <th>custom_cuisine_overlap</th>\n",
       "      <th>label</th>\n",
       "    </tr>\n",
       "  </thead>\n",
       "  <tbody>\n",
       "    <tr>\n",
       "      <th>631</th>\n",
       "      <td>1003068</td>\n",
       "      <td>5272</td>\n",
       "      <td>20785</td>\n",
       "      <td>0.000000</td>\n",
       "      <td>0.00</td>\n",
       "      <td>0.800000</td>\n",
       "      <td>0.000000</td>\n",
       "      <td>0.800000</td>\n",
       "      <td>0.0</td>\n",
       "      <td>0</td>\n",
       "    </tr>\n",
       "    <tr>\n",
       "      <th>185</th>\n",
       "      <td>469420</td>\n",
       "      <td>2029</td>\n",
       "      <td>20213</td>\n",
       "      <td>1.000000</td>\n",
       "      <td>0.00</td>\n",
       "      <td>1.000000</td>\n",
       "      <td>0.000000</td>\n",
       "      <td>1.000000</td>\n",
       "      <td>0.0</td>\n",
       "      <td>0</td>\n",
       "    </tr>\n",
       "    <tr>\n",
       "      <th>732</th>\n",
       "      <td>1123677</td>\n",
       "      <td>6975</td>\n",
       "      <td>23836</td>\n",
       "      <td>1.000000</td>\n",
       "      <td>0.50</td>\n",
       "      <td>1.000000</td>\n",
       "      <td>0.666667</td>\n",
       "      <td>1.000000</td>\n",
       "      <td>1.0</td>\n",
       "      <td>1</td>\n",
       "    </tr>\n",
       "    <tr>\n",
       "      <th>404</th>\n",
       "      <td>830665</td>\n",
       "      <td>3643</td>\n",
       "      <td>12177</td>\n",
       "      <td>1.000000</td>\n",
       "      <td>0.25</td>\n",
       "      <td>1.000000</td>\n",
       "      <td>0.408248</td>\n",
       "      <td>1.000000</td>\n",
       "      <td>0.0</td>\n",
       "      <td>1</td>\n",
       "    </tr>\n",
       "    <tr>\n",
       "      <th>194</th>\n",
       "      <td>476336</td>\n",
       "      <td>2057</td>\n",
       "      <td>22820</td>\n",
       "      <td>1.000000</td>\n",
       "      <td>0.00</td>\n",
       "      <td>1.000000</td>\n",
       "      <td>0.000000</td>\n",
       "      <td>1.000000</td>\n",
       "      <td>0.0</td>\n",
       "      <td>0</td>\n",
       "    </tr>\n",
       "    <tr>\n",
       "      <th>564</th>\n",
       "      <td>916386</td>\n",
       "      <td>4525</td>\n",
       "      <td>9904</td>\n",
       "      <td>0.000000</td>\n",
       "      <td>0.00</td>\n",
       "      <td>0.666667</td>\n",
       "      <td>0.000000</td>\n",
       "      <td>0.666667</td>\n",
       "      <td>0.0</td>\n",
       "      <td>0</td>\n",
       "    </tr>\n",
       "    <tr>\n",
       "      <th>401</th>\n",
       "      <td>826151</td>\n",
       "      <td>3603</td>\n",
       "      <td>11178</td>\n",
       "      <td>1.000000</td>\n",
       "      <td>1.00</td>\n",
       "      <td>1.000000</td>\n",
       "      <td>1.000000</td>\n",
       "      <td>1.000000</td>\n",
       "      <td>1.0</td>\n",
       "      <td>1</td>\n",
       "    </tr>\n",
       "    <tr>\n",
       "      <th>530</th>\n",
       "      <td>915897</td>\n",
       "      <td>4504</td>\n",
       "      <td>22782</td>\n",
       "      <td>0.000000</td>\n",
       "      <td>0.00</td>\n",
       "      <td>0.666667</td>\n",
       "      <td>0.000000</td>\n",
       "      <td>0.666667</td>\n",
       "      <td>0.0</td>\n",
       "      <td>0</td>\n",
       "    </tr>\n",
       "    <tr>\n",
       "      <th>656</th>\n",
       "      <td>1031298</td>\n",
       "      <td>5444</td>\n",
       "      <td>11745</td>\n",
       "      <td>0.666667</td>\n",
       "      <td>1.00</td>\n",
       "      <td>0.833333</td>\n",
       "      <td>1.000000</td>\n",
       "      <td>0.833333</td>\n",
       "      <td>1.0</td>\n",
       "      <td>1</td>\n",
       "    </tr>\n",
       "    <tr>\n",
       "      <th>441</th>\n",
       "      <td>853233</td>\n",
       "      <td>3913</td>\n",
       "      <td>8270</td>\n",
       "      <td>0.000000</td>\n",
       "      <td>0.00</td>\n",
       "      <td>0.833333</td>\n",
       "      <td>0.000000</td>\n",
       "      <td>0.833333</td>\n",
       "      <td>0.0</td>\n",
       "      <td>0</td>\n",
       "    </tr>\n",
       "  </tbody>\n",
       "</table>\n",
       "</div>"
      ],
      "text/plain": [
       "         _id  ltable_ID  rtable_ID  custom_address_sim  custom_name_jaccard  \\\n",
       "631  1003068       5272      20785            0.000000                 0.00   \n",
       "185   469420       2029      20213            1.000000                 0.00   \n",
       "732  1123677       6975      23836            1.000000                 0.50   \n",
       "404   830665       3643      12177            1.000000                 0.25   \n",
       "194   476336       2057      22820            1.000000                 0.00   \n",
       "564   916386       4525       9904            0.000000                 0.00   \n",
       "401   826151       3603      11178            1.000000                 1.00   \n",
       "530   915897       4504      22782            0.000000                 0.00   \n",
       "656  1031298       5444      11745            0.666667                 1.00   \n",
       "441   853233       3913       8270            0.000000                 0.00   \n",
       "\n",
       "     custom_address_overlap  custom_name_cosine  custom_address_cosine  \\\n",
       "631                0.800000            0.000000               0.800000   \n",
       "185                1.000000            0.000000               1.000000   \n",
       "732                1.000000            0.666667               1.000000   \n",
       "404                1.000000            0.408248               1.000000   \n",
       "194                1.000000            0.000000               1.000000   \n",
       "564                0.666667            0.000000               0.666667   \n",
       "401                1.000000            1.000000               1.000000   \n",
       "530                0.666667            0.000000               0.666667   \n",
       "656                0.833333            1.000000               0.833333   \n",
       "441                0.833333            0.000000               0.833333   \n",
       "\n",
       "     custom_cuisine_overlap  label  \n",
       "631                     0.0      0  \n",
       "185                     0.0      0  \n",
       "732                     1.0      1  \n",
       "404                     0.0      1  \n",
       "194                     0.0      0  \n",
       "564                     0.0      0  \n",
       "401                     1.0      1  \n",
       "530                     0.0      0  \n",
       "656                     1.0      1  \n",
       "441                     0.0      0  "
      ]
     },
     "execution_count": 6,
     "metadata": {},
     "output_type": "execute_result"
    }
   ],
   "source": [
    "H = em.extract_feature_vecs(I, feature_table=match_f,attrs_after=['label'])\n",
    "H.head(10)\n"
   ]
  },
  {
   "cell_type": "markdown",
   "metadata": {
    "collapsed": false,
    "deletable": true,
    "editable": true
   },
   "source": [
    "## Matching"
   ]
  },
  {
   "cell_type": "code",
   "execution_count": 7,
   "metadata": {
    "collapsed": false,
    "deletable": true,
    "editable": true
   },
   "outputs": [],
   "source": [
    "# Create a set of ML-matchers\n",
    "dt = em.DTMatcher(name='DecisionTree', random_state=0)\n",
    "nb = em.NBMatcher(name='NaiveBayes')\n",
    "svm = em.SVMMatcher(name='SVM', random_state=0)\n",
    "rf = em.RFMatcher(name='RF', random_state=0)\n",
    "lg = em.LogRegMatcher(name='LogReg', random_state=0)\n",
    "ln = em.LinRegMatcher(name='LinReg')"
   ]
  },
  {
   "cell_type": "code",
   "execution_count": 8,
   "metadata": {
    "collapsed": false,
    "deletable": true,
    "editable": true
   },
   "outputs": [
    {
     "name": "stderr",
     "output_type": "stream",
     "text": [
      "/Users/deepu/anaconda/lib/python3.6/site-packages/scipy/linalg/basic.py:1018: RuntimeWarning: internal gelsd driver lwork query error, required iwork dimension not returned. This is likely the result of LAPACK bug 0038, fixed in LAPACK 3.2.2 (released July 21, 2010). Falling back to 'gelss' driver.\n",
      "  warnings.warn(mesg, RuntimeWarning)\n"
     ]
    },
    {
     "data": {
      "text/html": [
       "<div>\n",
       "<table border=\"1\" class=\"dataframe\">\n",
       "  <thead>\n",
       "    <tr style=\"text-align: right;\">\n",
       "      <th></th>\n",
       "      <th>Name</th>\n",
       "      <th>Matcher</th>\n",
       "      <th>Num folds</th>\n",
       "      <th>Fold 1</th>\n",
       "      <th>Fold 2</th>\n",
       "      <th>Fold 3</th>\n",
       "      <th>Fold 4</th>\n",
       "      <th>Fold 5</th>\n",
       "      <th>Mean score</th>\n",
       "    </tr>\n",
       "  </thead>\n",
       "  <tbody>\n",
       "    <tr>\n",
       "      <th>0</th>\n",
       "      <td>DecisionTree</td>\n",
       "      <td>&lt;py_entitymatching.matcher.dtmatcher.DTMatcher object at 0x11c2f7f60&gt;</td>\n",
       "      <td>5</td>\n",
       "      <td>0.962264</td>\n",
       "      <td>0.904762</td>\n",
       "      <td>1.0</td>\n",
       "      <td>0.952381</td>\n",
       "      <td>0.906977</td>\n",
       "      <td>0.945277</td>\n",
       "    </tr>\n",
       "    <tr>\n",
       "      <th>1</th>\n",
       "      <td>NaiveBayes</td>\n",
       "      <td>&lt;py_entitymatching.matcher.nbmatcher.NBMatcher object at 0x11c2f7a90&gt;</td>\n",
       "      <td>5</td>\n",
       "      <td>0.927273</td>\n",
       "      <td>0.886364</td>\n",
       "      <td>1.0</td>\n",
       "      <td>0.977273</td>\n",
       "      <td>0.951220</td>\n",
       "      <td>0.948426</td>\n",
       "    </tr>\n",
       "    <tr>\n",
       "      <th>2</th>\n",
       "      <td>RF</td>\n",
       "      <td>&lt;py_entitymatching.matcher.rfmatcher.RFMatcher object at 0x11c2f7b38&gt;</td>\n",
       "      <td>5</td>\n",
       "      <td>0.944444</td>\n",
       "      <td>0.926829</td>\n",
       "      <td>1.0</td>\n",
       "      <td>0.953488</td>\n",
       "      <td>0.928571</td>\n",
       "      <td>0.950667</td>\n",
       "    </tr>\n",
       "    <tr>\n",
       "      <th>3</th>\n",
       "      <td>SVM</td>\n",
       "      <td>&lt;py_entitymatching.matcher.svmmatcher.SVMMatcher object at 0x11c2f7f98&gt;</td>\n",
       "      <td>5</td>\n",
       "      <td>0.944444</td>\n",
       "      <td>0.906977</td>\n",
       "      <td>1.0</td>\n",
       "      <td>0.976744</td>\n",
       "      <td>0.951220</td>\n",
       "      <td>0.955877</td>\n",
       "    </tr>\n",
       "    <tr>\n",
       "      <th>4</th>\n",
       "      <td>LinReg</td>\n",
       "      <td>&lt;py_entitymatching.matcher.linregmatcher.LinRegMatcher object at 0x11c2f7e80&gt;</td>\n",
       "      <td>5</td>\n",
       "      <td>0.944444</td>\n",
       "      <td>0.906977</td>\n",
       "      <td>1.0</td>\n",
       "      <td>0.977273</td>\n",
       "      <td>0.928571</td>\n",
       "      <td>0.951453</td>\n",
       "    </tr>\n",
       "    <tr>\n",
       "      <th>5</th>\n",
       "      <td>LogReg</td>\n",
       "      <td>&lt;py_entitymatching.matcher.logregmatcher.LogRegMatcher object at 0x11c2f7b70&gt;</td>\n",
       "      <td>5</td>\n",
       "      <td>0.944444</td>\n",
       "      <td>0.906977</td>\n",
       "      <td>1.0</td>\n",
       "      <td>0.976190</td>\n",
       "      <td>0.951220</td>\n",
       "      <td>0.955766</td>\n",
       "    </tr>\n",
       "  </tbody>\n",
       "</table>\n",
       "</div>"
      ],
      "text/plain": [
       "           Name  \\\n",
       "0  DecisionTree   \n",
       "1    NaiveBayes   \n",
       "2            RF   \n",
       "3           SVM   \n",
       "4        LinReg   \n",
       "5        LogReg   \n",
       "\n",
       "                                                                         Matcher  \\\n",
       "0          <py_entitymatching.matcher.dtmatcher.DTMatcher object at 0x11c2f7f60>   \n",
       "1          <py_entitymatching.matcher.nbmatcher.NBMatcher object at 0x11c2f7a90>   \n",
       "2          <py_entitymatching.matcher.rfmatcher.RFMatcher object at 0x11c2f7b38>   \n",
       "3        <py_entitymatching.matcher.svmmatcher.SVMMatcher object at 0x11c2f7f98>   \n",
       "4  <py_entitymatching.matcher.linregmatcher.LinRegMatcher object at 0x11c2f7e80>   \n",
       "5  <py_entitymatching.matcher.logregmatcher.LogRegMatcher object at 0x11c2f7b70>   \n",
       "\n",
       "   Num folds    Fold 1    Fold 2  Fold 3    Fold 4    Fold 5  Mean score  \n",
       "0          5  0.962264  0.904762     1.0  0.952381  0.906977    0.945277  \n",
       "1          5  0.927273  0.886364     1.0  0.977273  0.951220    0.948426  \n",
       "2          5  0.944444  0.926829     1.0  0.953488  0.928571    0.950667  \n",
       "3          5  0.944444  0.906977     1.0  0.976744  0.951220    0.955877  \n",
       "4          5  0.944444  0.906977     1.0  0.977273  0.928571    0.951453  \n",
       "5          5  0.944444  0.906977     1.0  0.976190  0.951220    0.955766  "
      ]
     },
     "execution_count": 8,
     "metadata": {},
     "output_type": "execute_result"
    }
   ],
   "source": [
    "# Report Precision\n",
    "result = em.select_matcher([dt, nb, rf, svm, ln, lg], table=H, \n",
    "        exclude_attrs=['_id', 'ltable_ID', 'rtable_ID', 'label'],\n",
    "        k=5,\n",
    "        target_attr='label', metric='precision', random_state=0)\n",
    "result['cv_stats']"
   ]
  },
  {
   "cell_type": "code",
   "execution_count": 9,
   "metadata": {
    "collapsed": false,
    "deletable": true,
    "editable": true
   },
   "outputs": [
    {
     "data": {
      "text/html": [
       "<div>\n",
       "<table border=\"1\" class=\"dataframe\">\n",
       "  <thead>\n",
       "    <tr style=\"text-align: right;\">\n",
       "      <th></th>\n",
       "      <th>Name</th>\n",
       "      <th>Matcher</th>\n",
       "      <th>Num folds</th>\n",
       "      <th>Fold 1</th>\n",
       "      <th>Fold 2</th>\n",
       "      <th>Fold 3</th>\n",
       "      <th>Fold 4</th>\n",
       "      <th>Fold 5</th>\n",
       "      <th>Mean score</th>\n",
       "    </tr>\n",
       "  </thead>\n",
       "  <tbody>\n",
       "    <tr>\n",
       "      <th>0</th>\n",
       "      <td>DecisionTree</td>\n",
       "      <td>&lt;py_entitymatching.matcher.dtmatcher.DTMatcher object at 0x11c2f7f60&gt;</td>\n",
       "      <td>5</td>\n",
       "      <td>1.0</td>\n",
       "      <td>0.950</td>\n",
       "      <td>0.893617</td>\n",
       "      <td>0.869565</td>\n",
       "      <td>0.906977</td>\n",
       "      <td>0.924032</td>\n",
       "    </tr>\n",
       "    <tr>\n",
       "      <th>1</th>\n",
       "      <td>NaiveBayes</td>\n",
       "      <td>&lt;py_entitymatching.matcher.nbmatcher.NBMatcher object at 0x11c2f7a90&gt;</td>\n",
       "      <td>5</td>\n",
       "      <td>1.0</td>\n",
       "      <td>0.975</td>\n",
       "      <td>0.978723</td>\n",
       "      <td>0.934783</td>\n",
       "      <td>0.906977</td>\n",
       "      <td>0.959097</td>\n",
       "    </tr>\n",
       "    <tr>\n",
       "      <th>2</th>\n",
       "      <td>RF</td>\n",
       "      <td>&lt;py_entitymatching.matcher.rfmatcher.RFMatcher object at 0x11c2f7b38&gt;</td>\n",
       "      <td>5</td>\n",
       "      <td>1.0</td>\n",
       "      <td>0.950</td>\n",
       "      <td>0.936170</td>\n",
       "      <td>0.891304</td>\n",
       "      <td>0.906977</td>\n",
       "      <td>0.936890</td>\n",
       "    </tr>\n",
       "    <tr>\n",
       "      <th>3</th>\n",
       "      <td>SVM</td>\n",
       "      <td>&lt;py_entitymatching.matcher.svmmatcher.SVMMatcher object at 0x11c2f7f98&gt;</td>\n",
       "      <td>5</td>\n",
       "      <td>1.0</td>\n",
       "      <td>0.975</td>\n",
       "      <td>0.957447</td>\n",
       "      <td>0.913043</td>\n",
       "      <td>0.906977</td>\n",
       "      <td>0.950493</td>\n",
       "    </tr>\n",
       "    <tr>\n",
       "      <th>4</th>\n",
       "      <td>LinReg</td>\n",
       "      <td>&lt;py_entitymatching.matcher.linregmatcher.LinRegMatcher object at 0x11c2f7e80&gt;</td>\n",
       "      <td>5</td>\n",
       "      <td>1.0</td>\n",
       "      <td>0.975</td>\n",
       "      <td>0.957447</td>\n",
       "      <td>0.934783</td>\n",
       "      <td>0.906977</td>\n",
       "      <td>0.954841</td>\n",
       "    </tr>\n",
       "    <tr>\n",
       "      <th>5</th>\n",
       "      <td>LogReg</td>\n",
       "      <td>&lt;py_entitymatching.matcher.logregmatcher.LogRegMatcher object at 0x11c2f7b70&gt;</td>\n",
       "      <td>5</td>\n",
       "      <td>1.0</td>\n",
       "      <td>0.975</td>\n",
       "      <td>0.957447</td>\n",
       "      <td>0.891304</td>\n",
       "      <td>0.906977</td>\n",
       "      <td>0.946146</td>\n",
       "    </tr>\n",
       "  </tbody>\n",
       "</table>\n",
       "</div>"
      ],
      "text/plain": [
       "           Name  \\\n",
       "0  DecisionTree   \n",
       "1    NaiveBayes   \n",
       "2            RF   \n",
       "3           SVM   \n",
       "4        LinReg   \n",
       "5        LogReg   \n",
       "\n",
       "                                                                         Matcher  \\\n",
       "0          <py_entitymatching.matcher.dtmatcher.DTMatcher object at 0x11c2f7f60>   \n",
       "1          <py_entitymatching.matcher.nbmatcher.NBMatcher object at 0x11c2f7a90>   \n",
       "2          <py_entitymatching.matcher.rfmatcher.RFMatcher object at 0x11c2f7b38>   \n",
       "3        <py_entitymatching.matcher.svmmatcher.SVMMatcher object at 0x11c2f7f98>   \n",
       "4  <py_entitymatching.matcher.linregmatcher.LinRegMatcher object at 0x11c2f7e80>   \n",
       "5  <py_entitymatching.matcher.logregmatcher.LogRegMatcher object at 0x11c2f7b70>   \n",
       "\n",
       "   Num folds  Fold 1  Fold 2    Fold 3    Fold 4    Fold 5  Mean score  \n",
       "0          5     1.0   0.950  0.893617  0.869565  0.906977    0.924032  \n",
       "1          5     1.0   0.975  0.978723  0.934783  0.906977    0.959097  \n",
       "2          5     1.0   0.950  0.936170  0.891304  0.906977    0.936890  \n",
       "3          5     1.0   0.975  0.957447  0.913043  0.906977    0.950493  \n",
       "4          5     1.0   0.975  0.957447  0.934783  0.906977    0.954841  \n",
       "5          5     1.0   0.975  0.957447  0.891304  0.906977    0.946146  "
      ]
     },
     "execution_count": 9,
     "metadata": {},
     "output_type": "execute_result"
    }
   ],
   "source": [
    "# Report Recall\n",
    "# Select the best ML matcher using CV\n",
    "result = em.select_matcher([dt, nb, rf, svm, ln, lg], table=H, \n",
    "        exclude_attrs=['_id', 'ltable_ID', 'rtable_ID', 'label'],\n",
    "        k=5,\n",
    "        target_attr='label', metric='recall', random_state=0)\n",
    "result['cv_stats']"
   ]
  },
  {
   "cell_type": "code",
   "execution_count": 10,
   "metadata": {
    "collapsed": false,
    "deletable": true,
    "editable": true,
    "scrolled": true
   },
   "outputs": [
    {
     "data": {
      "text/html": [
       "<div>\n",
       "<table border=\"1\" class=\"dataframe\">\n",
       "  <thead>\n",
       "    <tr style=\"text-align: right;\">\n",
       "      <th></th>\n",
       "      <th>Name</th>\n",
       "      <th>Matcher</th>\n",
       "      <th>Num folds</th>\n",
       "      <th>Fold 1</th>\n",
       "      <th>Fold 2</th>\n",
       "      <th>Fold 3</th>\n",
       "      <th>Fold 4</th>\n",
       "      <th>Fold 5</th>\n",
       "      <th>Mean score</th>\n",
       "    </tr>\n",
       "  </thead>\n",
       "  <tbody>\n",
       "    <tr>\n",
       "      <th>0</th>\n",
       "      <td>DecisionTree</td>\n",
       "      <td>&lt;py_entitymatching.matcher.dtmatcher.DTMatcher object at 0x11c2f7f60&gt;</td>\n",
       "      <td>5</td>\n",
       "      <td>0.980769</td>\n",
       "      <td>0.926829</td>\n",
       "      <td>0.943820</td>\n",
       "      <td>0.909091</td>\n",
       "      <td>0.906977</td>\n",
       "      <td>0.933497</td>\n",
       "    </tr>\n",
       "    <tr>\n",
       "      <th>1</th>\n",
       "      <td>NaiveBayes</td>\n",
       "      <td>&lt;py_entitymatching.matcher.nbmatcher.NBMatcher object at 0x11c2f7a90&gt;</td>\n",
       "      <td>5</td>\n",
       "      <td>0.962264</td>\n",
       "      <td>0.928571</td>\n",
       "      <td>0.989247</td>\n",
       "      <td>0.955556</td>\n",
       "      <td>0.928571</td>\n",
       "      <td>0.952842</td>\n",
       "    </tr>\n",
       "    <tr>\n",
       "      <th>2</th>\n",
       "      <td>RF</td>\n",
       "      <td>&lt;py_entitymatching.matcher.rfmatcher.RFMatcher object at 0x11c2f7b38&gt;</td>\n",
       "      <td>5</td>\n",
       "      <td>0.971429</td>\n",
       "      <td>0.938272</td>\n",
       "      <td>0.967033</td>\n",
       "      <td>0.921348</td>\n",
       "      <td>0.917647</td>\n",
       "      <td>0.943146</td>\n",
       "    </tr>\n",
       "    <tr>\n",
       "      <th>3</th>\n",
       "      <td>SVM</td>\n",
       "      <td>&lt;py_entitymatching.matcher.svmmatcher.SVMMatcher object at 0x11c2f7f98&gt;</td>\n",
       "      <td>5</td>\n",
       "      <td>0.971429</td>\n",
       "      <td>0.939759</td>\n",
       "      <td>0.978261</td>\n",
       "      <td>0.943820</td>\n",
       "      <td>0.928571</td>\n",
       "      <td>0.952368</td>\n",
       "    </tr>\n",
       "    <tr>\n",
       "      <th>4</th>\n",
       "      <td>LinReg</td>\n",
       "      <td>&lt;py_entitymatching.matcher.linregmatcher.LinRegMatcher object at 0x11c2f7e80&gt;</td>\n",
       "      <td>5</td>\n",
       "      <td>0.971429</td>\n",
       "      <td>0.939759</td>\n",
       "      <td>0.978261</td>\n",
       "      <td>0.955556</td>\n",
       "      <td>0.917647</td>\n",
       "      <td>0.952530</td>\n",
       "    </tr>\n",
       "    <tr>\n",
       "      <th>5</th>\n",
       "      <td>LogReg</td>\n",
       "      <td>&lt;py_entitymatching.matcher.logregmatcher.LogRegMatcher object at 0x11c2f7b70&gt;</td>\n",
       "      <td>5</td>\n",
       "      <td>0.971429</td>\n",
       "      <td>0.939759</td>\n",
       "      <td>0.978261</td>\n",
       "      <td>0.931818</td>\n",
       "      <td>0.928571</td>\n",
       "      <td>0.949968</td>\n",
       "    </tr>\n",
       "  </tbody>\n",
       "</table>\n",
       "</div>"
      ],
      "text/plain": [
       "           Name  \\\n",
       "0  DecisionTree   \n",
       "1    NaiveBayes   \n",
       "2            RF   \n",
       "3           SVM   \n",
       "4        LinReg   \n",
       "5        LogReg   \n",
       "\n",
       "                                                                         Matcher  \\\n",
       "0          <py_entitymatching.matcher.dtmatcher.DTMatcher object at 0x11c2f7f60>   \n",
       "1          <py_entitymatching.matcher.nbmatcher.NBMatcher object at 0x11c2f7a90>   \n",
       "2          <py_entitymatching.matcher.rfmatcher.RFMatcher object at 0x11c2f7b38>   \n",
       "3        <py_entitymatching.matcher.svmmatcher.SVMMatcher object at 0x11c2f7f98>   \n",
       "4  <py_entitymatching.matcher.linregmatcher.LinRegMatcher object at 0x11c2f7e80>   \n",
       "5  <py_entitymatching.matcher.logregmatcher.LogRegMatcher object at 0x11c2f7b70>   \n",
       "\n",
       "   Num folds    Fold 1    Fold 2    Fold 3    Fold 4    Fold 5  Mean score  \n",
       "0          5  0.980769  0.926829  0.943820  0.909091  0.906977    0.933497  \n",
       "1          5  0.962264  0.928571  0.989247  0.955556  0.928571    0.952842  \n",
       "2          5  0.971429  0.938272  0.967033  0.921348  0.917647    0.943146  \n",
       "3          5  0.971429  0.939759  0.978261  0.943820  0.928571    0.952368  \n",
       "4          5  0.971429  0.939759  0.978261  0.955556  0.917647    0.952530  \n",
       "5          5  0.971429  0.939759  0.978261  0.931818  0.928571    0.949968  "
      ]
     },
     "execution_count": 10,
     "metadata": {},
     "output_type": "execute_result"
    }
   ],
   "source": [
    "# Report F1\n",
    "# Select the best ML matcher using CV\n",
    "result = em.select_matcher([dt, nb, rf, svm, ln, lg], table=H, \n",
    "        exclude_attrs=['_id', 'ltable_ID', 'rtable_ID', 'label'],\n",
    "        k=5,\n",
    "        target_attr='label', metric='f1', random_state=0)\n",
    "result['cv_stats']"
   ]
  },
  {
   "cell_type": "markdown",
   "metadata": {
    "deletable": true,
    "editable": true
   },
   "source": [
    "# Debug Matcher"
   ]
  },
  {
   "cell_type": "code",
   "execution_count": 11,
   "metadata": {
    "collapsed": false
   },
   "outputs": [
    {
     "name": "stderr",
     "output_type": "stream",
     "text": [
      "0%                          100%\n",
      "[##############################] | ETA: 00:00:00 | ETA: 00:00:00 | ETA: 00:00:00 | ETA: 00:00:00 | ETA: 00:00:00 | ETA: 00:00:00 | ETA: 00:00:00 | ETA: 00:00:00 | ETA: 00:00:00 | ETA: 00:00:00 | ETA: 00:00:00 | ETA: 00:00:00 | ETA: 00:00:00 | ETA: 00:00:00 | ETA: 00:00:00 | ETA: 00:00:00 | ETA: 00:00:00 | ETA: 00:00:00 | ETA: 00:00:00 | ETA: 00:00:00 | ETA: 00:00:00 | ETA: 00:00:00 | ETA: 00:00:00 | ETA: 00:00:00 | ETA: 00:00:00 | ETA: 00:00:00 | ETA: 00:00:00 | ETA: 00:00:00 | ETA: 00:00:00 | ETA: 00:00:00 | ETA: 00:00:00\n",
      "Total time elapsed: 00:00:00\n",
      "0%                          100%\n",
      "[##############################] | ETA: 00:00:00 | ETA: 00:00:00 | ETA: 00:00:00 | ETA: 00:00:00 | ETA: 00:00:00 | ETA: 00:00:00 | ETA: 00:00:00 | ETA: 00:00:00 | ETA: 00:00:00 | ETA: 00:00:00 | ETA: 00:00:00 | ETA: 00:00:00 | ETA: 00:00:00 | ETA: 00:00:00 | ETA: 00:00:00 | ETA: 00:00:00 | ETA: 00:00:00 | ETA: 00:00:00 | ETA: 00:00:00 | ETA: 00:00:00 | ETA: 00:00:00 | ETA: 00:00:00 | ETA: 00:00:00 | ETA: 00:00:00 | ETA: 00:00:00 | ETA: 00:00:00 | ETA: 00:00:00 | ETA: 00:00:00 | ETA: 00:00:00 | ETA: 00:00:00 | ETA: 00:00:00\n",
      "Total time elapsed: 00:00:00\n"
     ]
    },
    {
     "name": "stdout",
     "output_type": "stream",
     "text": [
      "SVM\n",
      "Precision : 93.04% (107/115)\n",
      "Recall : 99.07% (107/108)\n",
      "F1 : 95.96%\n",
      "False positives : 8 (out of 115 positive predictions)\n",
      "False negatives : 1 (out of 135 negative predictions)\n"
     ]
    }
   ],
   "source": [
    "# Split H into P and Q\n",
    "PQ = em.split_train_test(H, train_proportion=0.5, random_state=0)\n",
    "P = PQ['train']\n",
    "Q = PQ['test']\n",
    "# Train using feature vectors from P\n",
    "Pf = em.extract_feature_vecs(P, feature_table=match_f, attrs_after='label')\n",
    "\n",
    "# Train using feature vectors from P\n",
    "matcher = svm\n",
    "name = 'SVM'\n",
    "matcher.fit(table=Pf, \n",
    "       exclude_attrs=['_id', 'ltable_ID', 'rtable_ID', 'label'], \n",
    "       target_attr='label')\n",
    "\n",
    "# Convert Q into a set of feature vectors using F\n",
    "Qf = em.extract_feature_vecs(Q, feature_table=match_f,attrs_after=['label'])\n",
    "\n",
    "# Predict on L \n",
    "predictions = matcher.predict(table=Qf, exclude_attrs=['_id', 'ltable_ID', 'rtable_ID', 'label'], \n",
    "              append=True, target_attr='predicted', inplace=False)\n",
    "# Evaluate the predictions\n",
    "eval_result = em.eval_matches(predictions, 'label', 'predicted')\n",
    "print(name)\n",
    "em.print_eval_summary(eval_result)\n",
    "eval_summary = em.eval_matches(predictions, 'label', 'predicted')"
   ]
  },
  {
   "cell_type": "code",
   "execution_count": 12,
   "metadata": {
    "collapsed": false,
    "scrolled": false
   },
   "outputs": [
    {
     "data": {
      "text/html": [
       "<div>\n",
       "<table border=\"1\" class=\"dataframe\">\n",
       "  <thead>\n",
       "    <tr style=\"text-align: right;\">\n",
       "      <th></th>\n",
       "      <th>_id</th>\n",
       "      <th>ltable_ID</th>\n",
       "      <th>rtable_ID</th>\n",
       "      <th>custom_address_sim</th>\n",
       "      <th>custom_name_jaccard</th>\n",
       "      <th>custom_address_overlap</th>\n",
       "      <th>custom_name_cosine</th>\n",
       "      <th>custom_address_cosine</th>\n",
       "      <th>custom_cuisine_overlap</th>\n",
       "      <th>label</th>\n",
       "    </tr>\n",
       "  </thead>\n",
       "  <tbody>\n",
       "    <tr>\n",
       "      <th>0</th>\n",
       "      <td>168252</td>\n",
       "      <td>546</td>\n",
       "      <td>20700</td>\n",
       "      <td>1.0</td>\n",
       "      <td>0.0</td>\n",
       "      <td>1.0</td>\n",
       "      <td>0.0</td>\n",
       "      <td>1.0</td>\n",
       "      <td>0.0</td>\n",
       "      <td>1</td>\n",
       "    </tr>\n",
       "  </tbody>\n",
       "</table>\n",
       "</div>"
      ],
      "text/plain": [
       "      _id  ltable_ID  rtable_ID  custom_address_sim  custom_name_jaccard  \\\n",
       "0  168252        546      20700                 1.0                  0.0   \n",
       "\n",
       "   custom_address_overlap  custom_name_cosine  custom_address_cosine  \\\n",
       "0                     1.0                 0.0                    1.0   \n",
       "\n",
       "   custom_cuisine_overlap  label  \n",
       "0                     0.0      1  "
      ]
     },
     "execution_count": 12,
     "metadata": {},
     "output_type": "execute_result"
    }
   ],
   "source": [
    "false_neg_df = em.get_false_negatives_as_df(Qf, eval_summary)\n",
    "false_neg_df"
   ]
  },
  {
   "cell_type": "code",
   "execution_count": 13,
   "metadata": {
    "collapsed": false,
    "scrolled": false
   },
   "outputs": [
    {
     "data": {
      "text/html": [
       "<div>\n",
       "<table border=\"1\" class=\"dataframe\">\n",
       "  <thead>\n",
       "    <tr style=\"text-align: right;\">\n",
       "      <th></th>\n",
       "      <th>_id</th>\n",
       "      <th>ltable_ID</th>\n",
       "      <th>rtable_ID</th>\n",
       "      <th>ltable_name</th>\n",
       "      <th>ltable_address</th>\n",
       "      <th>ltable_zipcode</th>\n",
       "      <th>ltable_cuisine</th>\n",
       "      <th>rtable_name</th>\n",
       "      <th>rtable_address</th>\n",
       "      <th>rtable_zipcode</th>\n",
       "      <th>rtable_cuisine</th>\n",
       "      <th>label</th>\n",
       "    </tr>\n",
       "  </thead>\n",
       "  <tbody>\n",
       "    <tr>\n",
       "      <th>680</th>\n",
       "      <td>1068947</td>\n",
       "      <td>6034</td>\n",
       "      <td>1846</td>\n",
       "      <td>piccolo pinos pizzeria</td>\n",
       "      <td>275 port richmond avenue, ,</td>\n",
       "      <td>10302</td>\n",
       "      <td>pizza</td>\n",
       "      <td>pino's pizza</td>\n",
       "      <td>275 port richmond avenue</td>\n",
       "      <td>10302</td>\n",
       "      <td>pizza</td>\n",
       "      <td>1</td>\n",
       "    </tr>\n",
       "  </tbody>\n",
       "</table>\n",
       "</div>"
      ],
      "text/plain": [
       "         _id  ltable_ID  rtable_ID             ltable_name  \\\n",
       "680  1068947       6034       1846  piccolo pinos pizzeria   \n",
       "\n",
       "                  ltable_address  ltable_zipcode ltable_cuisine   rtable_name  \\\n",
       "680  275 port richmond avenue, ,           10302          pizza  pino's pizza   \n",
       "\n",
       "               rtable_address  rtable_zipcode rtable_cuisine  label  \n",
       "680  275 port richmond avenue           10302          pizza      1  "
      ]
     },
     "execution_count": 13,
     "metadata": {},
     "output_type": "execute_result"
    }
   ],
   "source": [
    "G.query('_id == 1068947')\n",
    "#28806"
   ]
  },
  {
   "cell_type": "markdown",
   "metadata": {},
   "source": [
    "# Find Matcher after debugging"
   ]
  },
  {
   "cell_type": "code",
   "execution_count": 14,
   "metadata": {
    "collapsed": false,
    "deletable": true,
    "editable": true
   },
   "outputs": [
    {
     "name": "stderr",
     "output_type": "stream",
     "text": [
      "0%                          100%\n",
      "[##############################] | ETA: 00:00:01 | ETA: 00:00:01 | ETA: 00:00:01 | ETA: 00:00:01 | ETA: 00:00:01 | ETA: 00:00:00 | ETA: 00:00:00 | ETA: 00:00:00 | ETA: 00:00:00 | ETA: 00:00:00 | ETA: 00:00:00 | ETA: 00:00:00 | ETA: 00:00:00 | ETA: 00:00:00 | ETA: 00:00:00 | ETA: 00:00:00 | ETA: 00:00:00 | ETA: 00:00:00 | ETA: 00:00:00 | ETA: 00:00:00 | ETA: 00:00:00 | ETA: 00:00:00 | ETA: 00:00:00 | ETA: 00:00:00 | ETA: 00:00:00 | ETA: 00:00:00 | ETA: 00:00:00 | ETA: 00:00:00 | ETA: 00:00:00 | ETA: 00:00:00 | ETA: 00:00:00\n",
      "Total time elapsed: 00:00:01\n",
      "0%                          100%\n",
      "[####                          ] | ETA: 00:00:01 | ETA: 00:00:01 | ETA: 00:00:01 | ETA: 00:00:01"
     ]
    },
    {
     "name": "stdout",
     "output_type": "stream",
     "text": [
      "Decision Tree\n",
      "Precision : 98.13% (210/214)\n",
      "Recall : 89.36% (210/235)\n",
      "F1 : 93.54%\n",
      "False positives : 4 (out of 214 positive predictions)\n",
      "False negatives : 25 (out of 286 negative predictions)\n"
     ]
    },
    {
     "name": "stderr",
     "output_type": "stream",
     "text": [
      "[##############################] | ETA: 00:00:01 | ETA: 00:00:00 | ETA: 00:00:00 | ETA: 00:00:00 | ETA: 00:00:00 | ETA: 00:00:00 | ETA: 00:00:00 | ETA: 00:00:00 | ETA: 00:00:00 | ETA: 00:00:00 | ETA: 00:00:00 | ETA: 00:00:00 | ETA: 00:00:00 | ETA: 00:00:00 | ETA: 00:00:00 | ETA: 00:00:00 | ETA: 00:00:00 | ETA: 00:00:00 | ETA: 00:00:00 | ETA: 00:00:00 | ETA: 00:00:00 | ETA: 00:00:00 | ETA: 00:00:00 | ETA: 00:00:00 | ETA: 00:00:00 | ETA: 00:00:00 | ETA: 00:00:00\n",
      "Total time elapsed: 00:00:01\n",
      "0%                          100%\n",
      "[####                          ] | ETA: 00:00:01 | ETA: 00:00:01 | ETA: 00:00:01 | ETA: 00:00:01"
     ]
    },
    {
     "name": "stdout",
     "output_type": "stream",
     "text": [
      "Naive Bayes\n",
      "Precision : 96.48% (219/227)\n",
      "Recall : 93.19% (219/235)\n",
      "F1 : 94.81%\n",
      "False positives : 8 (out of 227 positive predictions)\n",
      "False negatives : 16 (out of 273 negative predictions)\n"
     ]
    },
    {
     "name": "stderr",
     "output_type": "stream",
     "text": [
      "[##############################] | ETA: 00:00:01 | ETA: 00:00:00 | ETA: 00:00:00 | ETA: 00:00:00 | ETA: 00:00:00 | ETA: 00:00:00 | ETA: 00:00:00 | ETA: 00:00:00 | ETA: 00:00:00 | ETA: 00:00:00 | ETA: 00:00:00 | ETA: 00:00:00 | ETA: 00:00:00 | ETA: 00:00:00 | ETA: 00:00:00 | ETA: 00:00:00 | ETA: 00:00:00 | ETA: 00:00:00 | ETA: 00:00:00 | ETA: 00:00:00 | ETA: 00:00:00 | ETA: 00:00:00 | ETA: 00:00:00 | ETA: 00:00:00 | ETA: 00:00:00 | ETA: 00:00:00 | ETA: 00:00:00\n",
      "Total time elapsed: 00:00:01\n",
      "0%                          100%\n",
      "[###                           ] | ETA: 00:00:01 | ETA: 00:00:01 | ETA: 00:00:01"
     ]
    },
    {
     "name": "stdout",
     "output_type": "stream",
     "text": [
      "Random Forest\n",
      "Precision : 96.83% (214/221)\n",
      "Recall : 91.06% (214/235)\n",
      "F1 : 93.86%\n",
      "False positives : 7 (out of 221 positive predictions)\n",
      "False negatives : 21 (out of 279 negative predictions)\n"
     ]
    },
    {
     "name": "stderr",
     "output_type": "stream",
     "text": [
      "[##############################] | ETA: 00:00:01 | ETA: 00:00:01 | ETA: 00:00:00 | ETA: 00:00:01 | ETA: 00:00:01 | ETA: 00:00:01 | ETA: 00:00:01 | ETA: 00:00:00 | ETA: 00:00:00 | ETA: 00:00:00 | ETA: 00:00:00 | ETA: 00:00:00 | ETA: 00:00:00 | ETA: 00:00:00 | ETA: 00:00:00 | ETA: 00:00:00 | ETA: 00:00:00 | ETA: 00:00:00 | ETA: 00:00:00 | ETA: 00:00:00 | ETA: 00:00:00 | ETA: 00:00:00 | ETA: 00:00:00 | ETA: 00:00:00 | ETA: 00:00:00 | ETA: 00:00:00 | ETA: 00:00:00 | ETA: 00:00:00\n",
      "Total time elapsed: 00:00:01\n",
      "0%                          100%\n",
      "[###                           ] | ETA: 00:00:02 | ETA: 00:00:01 | ETA: 00:00:01"
     ]
    },
    {
     "name": "stdout",
     "output_type": "stream",
     "text": [
      "SVM\n",
      "Precision : 96.49% (220/228)\n",
      "Recall : 93.62% (220/235)\n",
      "F1 : 95.03%\n",
      "False positives : 8 (out of 228 positive predictions)\n",
      "False negatives : 15 (out of 272 negative predictions)\n"
     ]
    },
    {
     "name": "stderr",
     "output_type": "stream",
     "text": [
      "[##############################] | ETA: 00:00:01 | ETA: 00:00:01 | ETA: 00:00:01 | ETA: 00:00:00 | ETA: 00:00:00 | ETA: 00:00:00 | ETA: 00:00:00 | ETA: 00:00:00 | ETA: 00:00:00 | ETA: 00:00:00 | ETA: 00:00:00 | ETA: 00:00:00 | ETA: 00:00:00 | ETA: 00:00:00 | ETA: 00:00:00 | ETA: 00:00:00 | ETA: 00:00:00 | ETA: 00:00:00 | ETA: 00:00:00 | ETA: 00:00:00 | ETA: 00:00:00 | ETA: 00:00:00 | ETA: 00:00:00 | ETA: 00:00:00 | ETA: 00:00:00 | ETA: 00:00:00 | ETA: 00:00:00 | ETA: 00:00:00\n",
      "Total time elapsed: 00:00:01\n",
      "0%                          100%\n",
      "[#####                         ] | ETA: 00:00:01 | ETA: 00:00:01 | ETA: 00:00:01 | ETA: 00:00:00 | ETA: 00:00:00"
     ]
    },
    {
     "name": "stdout",
     "output_type": "stream",
     "text": [
      "Linear Regression\n",
      "Precision : 95.26% (221/232)\n",
      "Recall : 94.04% (221/235)\n",
      "F1 : 94.65%\n",
      "False positives : 11 (out of 232 positive predictions)\n",
      "False negatives : 14 (out of 268 negative predictions)\n"
     ]
    },
    {
     "name": "stderr",
     "output_type": "stream",
     "text": [
      "[##############################] | ETA: 00:00:00 | ETA: 00:00:00 | ETA: 00:00:00 | ETA: 00:00:00 | ETA: 00:00:00 | ETA: 00:00:00 | ETA: 00:00:00 | ETA: 00:00:00 | ETA: 00:00:00 | ETA: 00:00:00 | ETA: 00:00:00 | ETA: 00:00:00 | ETA: 00:00:00 | ETA: 00:00:00 | ETA: 00:00:00 | ETA: 00:00:00 | ETA: 00:00:00 | ETA: 00:00:00 | ETA: 00:00:00 | ETA: 00:00:00 | ETA: 00:00:00 | ETA: 00:00:00 | ETA: 00:00:00 | ETA: 00:00:00 | ETA: 00:00:00 | ETA: 00:00:00\n",
      "Total time elapsed: 00:00:01\n"
     ]
    },
    {
     "name": "stdout",
     "output_type": "stream",
     "text": [
      "Logistic Regression\n",
      "Precision : 96.89% (218/225)\n",
      "Recall : 92.77% (218/235)\n",
      "F1 : 94.78%\n",
      "False positives : 7 (out of 225 positive predictions)\n",
      "False negatives : 17 (out of 275 negative predictions)\n"
     ]
    }
   ],
   "source": [
    "# Train using feature vectors from I\n",
    "matchers = [dt, nb, rf, svm, ln, lg];\n",
    "names = ['Decision Tree', 'Naive Bayes', 'Random Forest', 'SVM', 'Linear Regression', 'Logistic Regression']\n",
    "for i in range(0,len(matchers)):\n",
    "    matcher = matchers[i]\n",
    "    name = names[i]\n",
    "    matcher.fit(table=H, \n",
    "           exclude_attrs=['_id', 'ltable_ID', 'rtable_ID', 'label'], \n",
    "           target_attr='label')\n",
    "\n",
    "    # Convert J into a set of feature vectors using F\n",
    "    L = em.extract_feature_vecs(J, feature_table=match_f,attrs_after=['label'])\n",
    "\n",
    "    # Predict on L \n",
    "    predictions = matcher.predict(table=L, exclude_attrs=['_id', 'ltable_ID', 'rtable_ID', 'label'], \n",
    "                  append=True, target_attr='predicted', inplace=False)\n",
    "    # Evaluate the predictions\n",
    "    eval_result = em.eval_matches(predictions, 'label', 'predicted')\n",
    "    print(name)\n",
    "    em.print_eval_summary(eval_result)"
   ]
  },
  {
   "cell_type": "code",
   "execution_count": 17,
   "metadata": {
    "collapsed": false
   },
   "outputs": [
    {
     "name": "stderr",
     "output_type": "stream",
     "text": [
      "0%                          100%\n",
      "[##############################] | ETA: 00:00:02 | ETA: 00:00:01 | ETA: 00:00:01 | ETA: 00:00:01 | ETA: 00:00:01 | ETA: 00:00:01 | ETA: 00:00:01 | ETA: 00:00:01 | ETA: 00:00:01 | ETA: 00:00:01 | ETA: 00:00:01 | ETA: 00:00:01 | ETA: 00:00:01 | ETA: 00:00:00 | ETA: 00:00:00 | ETA: 00:00:00 | ETA: 00:00:00 | ETA: 00:00:00 | ETA: 00:00:00 | ETA: 00:00:00 | ETA: 00:00:00 | ETA: 00:00:00 | ETA: 00:00:00 | ETA: 00:00:00 | ETA: 00:00:00 | ETA: 00:00:00 | ETA: 00:00:00 | ETA: 00:00:00 | ETA: 00:00:00 | ETA: 00:00:00 | ETA: 00:00:00\n",
      "Total time elapsed: 00:00:01\n"
     ]
    },
    {
     "data": {
      "text/plain": [
       "['naive_bayes_trained.pkl']"
      ]
     },
     "execution_count": 17,
     "metadata": {},
     "output_type": "execute_result"
    }
   ],
   "source": [
    "from sklearn.externals import joblib\n",
    "matcher = matchers[1]\n",
    "name = names[1]\n",
    "# Convert G into a set of feature vectors\n",
    "L = em.extract_feature_vecs(G, feature_table=match_f,attrs_after=['label'])\n",
    "matcher.fit(table=L, \n",
    "       exclude_attrs=['_id', 'ltable_ID', 'rtable_ID', 'label'], \n",
    "       target_attr='label')\n",
    "joblib.dump(matcher, 'naive_bayes_trained.pkl')"
   ]
  }
 ],
 "metadata": {
  "kernelspec": {
   "display_name": "Python 3",
   "language": "python",
   "name": "python3"
  },
  "language_info": {
   "codemirror_mode": {
    "name": "ipython",
    "version": 3
   },
   "file_extension": ".py",
   "mimetype": "text/x-python",
   "name": "python",
   "nbconvert_exporter": "python",
   "pygments_lexer": "ipython3",
   "version": "3.6.0"
  }
 },
 "nbformat": 4,
 "nbformat_minor": 2
}
