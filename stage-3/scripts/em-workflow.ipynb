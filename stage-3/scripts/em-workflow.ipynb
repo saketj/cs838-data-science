{
 "cells": [
  {
   "cell_type": "code",
   "execution_count": 14,
   "metadata": {
    "collapsed": false,
    "deletable": true,
    "editable": true
   },
   "outputs": [
    {
     "name": "stderr",
     "output_type": "stream",
     "text": [
      "Metadata file is not present in the given path; proceeding to read the csv file.\n",
      "Metadata file is not present in the given path; proceeding to read the csv file.\n"
     ]
    },
    {
     "data": {
      "text/plain": [
       "True"
      ]
     },
     "execution_count": 14,
     "metadata": {},
     "output_type": "execute_result"
    }
   ],
   "source": [
    "# Read the csv dataset\n",
    "import py_entitymatching as em\n",
    "A = em.read_csv_metadata('../datasets/yelp_data.csv')\n",
    "A['ID'] = range(0, len(A))\n",
    "em.set_key(A, 'ID')\n",
    "\n",
    "B = em.read_csv_metadata('../datasets/inspection_data.csv')\n",
    "B['ID'] = range(0, len(B))\n",
    "em.set_key(B, 'ID')\n",
    "\n"
   ]
  },
  {
   "cell_type": "code",
   "execution_count": 15,
   "metadata": {
    "collapsed": false,
    "deletable": true,
    "editable": true
   },
   "outputs": [
    {
     "data": {
      "text/html": [
       "<div>\n",
       "<table border=\"1\" class=\"dataframe\">\n",
       "  <thead>\n",
       "    <tr style=\"text-align: right;\">\n",
       "      <th></th>\n",
       "      <th>name</th>\n",
       "      <th>address</th>\n",
       "      <th>zipcode</th>\n",
       "      <th>cuisine</th>\n",
       "      <th>ID</th>\n",
       "    </tr>\n",
       "  </thead>\n",
       "  <tbody>\n",
       "    <tr>\n",
       "      <th>0</th>\n",
       "      <td>barn joo 35</td>\n",
       "      <td>34 w 35th st, ,</td>\n",
       "      <td>10001</td>\n",
       "      <td>korean gastropubs tapas/small plates</td>\n",
       "      <td>0</td>\n",
       "    </tr>\n",
       "    <tr>\n",
       "      <th>1</th>\n",
       "      <td>friedman's</td>\n",
       "      <td>132 w 31st st, ,</td>\n",
       "      <td>10001</td>\n",
       "      <td>american (new) gluten-free breakfast &amp; brunch</td>\n",
       "      <td>1</td>\n",
       "    </tr>\n",
       "    <tr>\n",
       "      <th>2</th>\n",
       "      <td>juniper</td>\n",
       "      <td>237 w 35th st,</td>\n",
       "      <td>10001</td>\n",
       "      <td>cocktail bars american (new)</td>\n",
       "      <td>2</td>\n",
       "    </tr>\n",
       "    <tr>\n",
       "      <th>3</th>\n",
       "      <td>haymaker bar and kitchen</td>\n",
       "      <td>252 w 29th st, ,</td>\n",
       "      <td>10001</td>\n",
       "      <td>gastropubs beer bar</td>\n",
       "      <td>3</td>\n",
       "    </tr>\n",
       "    <tr>\n",
       "      <th>4</th>\n",
       "      <td>izakaya mew</td>\n",
       "      <td>53 w 35th st, basement,</td>\n",
       "      <td>10001</td>\n",
       "      <td>sushi bars izakaya cocktail bars</td>\n",
       "      <td>4</td>\n",
       "    </tr>\n",
       "  </tbody>\n",
       "</table>\n",
       "</div>"
      ],
      "text/plain": [
       "                       name                  address  zipcode  \\\n",
       "0               barn joo 35          34 w 35th st, ,    10001   \n",
       "1                friedman's         132 w 31st st, ,    10001   \n",
       "2                   juniper           237 w 35th st,    10001   \n",
       "3  haymaker bar and kitchen         252 w 29th st, ,    10001   \n",
       "4               izakaya mew  53 w 35th st, basement,    10001   \n",
       "\n",
       "                                         cuisine  ID  \n",
       "0           korean gastropubs tapas/small plates   0  \n",
       "1  american (new) gluten-free breakfast & brunch   1  \n",
       "2                   cocktail bars american (new)   2  \n",
       "3                            gastropubs beer bar   3  \n",
       "4               sushi bars izakaya cocktail bars   4  "
      ]
     },
     "execution_count": 15,
     "metadata": {},
     "output_type": "execute_result"
    }
   ],
   "source": [
    "A.head()"
   ]
  },
  {
   "cell_type": "markdown",
   "metadata": {},
   "source": [
    "## Down-sample"
   ]
  },
  {
   "cell_type": "code",
   "execution_count": 16,
   "metadata": {
    "collapsed": false,
    "deletable": true,
    "editable": true
   },
   "outputs": [
    {
     "name": "stderr",
     "output_type": "stream",
     "text": [
      "0%                          100%\n",
      "[##                            ] | ETA: 00:00:37 | ETA: 00:00:33"
     ]
    },
    {
     "ename": "KeyboardInterrupt",
     "evalue": "",
     "output_type": "error",
     "traceback": [
      "\u001b[0;31m---------------------------------------------------------------------------\u001b[0m",
      "\u001b[0;31mKeyboardInterrupt\u001b[0m                         Traceback (most recent call last)",
      "\u001b[0;32m<ipython-input-16-d3f61bfec8a0>\u001b[0m in \u001b[0;36m<module>\u001b[0;34m()\u001b[0m\n\u001b[0;32m----> 1\u001b[0;31m \u001b[0msample_A\u001b[0m\u001b[0;34m,\u001b[0m \u001b[0msample_B\u001b[0m \u001b[0;34m=\u001b[0m \u001b[0mem\u001b[0m\u001b[0;34m.\u001b[0m\u001b[0mdown_sample\u001b[0m\u001b[0;34m(\u001b[0m\u001b[0mA\u001b[0m\u001b[0;34m,\u001b[0m \u001b[0mB\u001b[0m\u001b[0;34m,\u001b[0m \u001b[0msize\u001b[0m\u001b[0;34m=\u001b[0m\u001b[0;36m18000\u001b[0m\u001b[0;34m,\u001b[0m \u001b[0my_param\u001b[0m\u001b[0;34m=\u001b[0m\u001b[0;36m2\u001b[0m\u001b[0;34m)\u001b[0m\u001b[0;34m\u001b[0m\u001b[0m\n\u001b[0m\u001b[1;32m      2\u001b[0m \u001b[0;31m# Save the datasets because it changes every time we perform down-sampling.\u001b[0m\u001b[0;34m\u001b[0m\u001b[0;34m\u001b[0m\u001b[0m\n\u001b[1;32m      3\u001b[0m \u001b[0mem\u001b[0m\u001b[0;34m.\u001b[0m\u001b[0mto_csv_metadata\u001b[0m\u001b[0;34m(\u001b[0m\u001b[0msample_A\u001b[0m\u001b[0;34m,\u001b[0m \u001b[0;34m'../datasets/sample_A_generated.csv'\u001b[0m\u001b[0;34m)\u001b[0m\u001b[0;34m\u001b[0m\u001b[0m\n\u001b[1;32m      4\u001b[0m \u001b[0mem\u001b[0m\u001b[0;34m.\u001b[0m\u001b[0mto_csv_metadata\u001b[0m\u001b[0;34m(\u001b[0m\u001b[0msample_B\u001b[0m\u001b[0;34m,\u001b[0m \u001b[0;34m'../datasets/sample_B_generated.csv'\u001b[0m\u001b[0;34m)\u001b[0m\u001b[0;34m\u001b[0m\u001b[0m\n",
      "\u001b[0;32m/Users/deepu/anaconda/lib/python3.6/site-packages/py_entitymatching/sampler/down_sample.py\u001b[0m in \u001b[0;36mdown_sample\u001b[0;34m(table_a, table_b, size, y_param, show_progress, verbose)\u001b[0m\n\u001b[1;32m    255\u001b[0m     \u001b[0;31m# Probe inverted index to find all tuples in A that share tokens with tuples in B'.\u001b[0m\u001b[0;34m\u001b[0m\u001b[0;34m\u001b[0m\u001b[0m\n\u001b[1;32m    256\u001b[0m     s_tbl_indices = _probe_index(table_b.ix[b_tbl_indices], y_param,\n\u001b[0;32m--> 257\u001b[0;31m                                  len(table_a), s_inv_index, show_progress)\n\u001b[0m\u001b[1;32m    258\u001b[0m     \u001b[0ms_tbl_indices\u001b[0m \u001b[0;34m=\u001b[0m \u001b[0mlist\u001b[0m\u001b[0;34m(\u001b[0m\u001b[0ms_tbl_indices\u001b[0m\u001b[0;34m)\u001b[0m\u001b[0;34m\u001b[0m\u001b[0m\n\u001b[1;32m    259\u001b[0m     \u001b[0ml_sampled\u001b[0m \u001b[0;34m=\u001b[0m \u001b[0mtable_a\u001b[0m\u001b[0;34m.\u001b[0m\u001b[0miloc\u001b[0m\u001b[0;34m[\u001b[0m\u001b[0mlist\u001b[0m\u001b[0;34m(\u001b[0m\u001b[0ms_tbl_indices\u001b[0m\u001b[0;34m)\u001b[0m\u001b[0;34m]\u001b[0m\u001b[0;34m\u001b[0m\u001b[0m\n",
      "\u001b[0;32m/Users/deepu/anaconda/lib/python3.6/site-packages/py_entitymatching/sampler/down_sample.py\u001b[0m in \u001b[0;36m_probe_index\u001b[0;34m(table_b, y_param, s_tbl_sz, s_inv_index, show_progress)\u001b[0m\n\u001b[1;32m    144\u001b[0m         \u001b[0mnum_pos\u001b[0m \u001b[0;34m=\u001b[0m \u001b[0;36m0\u001b[0m\u001b[0;34m\u001b[0m\u001b[0m\n\u001b[1;32m    145\u001b[0m         sorted_key_values = [(k, v) for v, k in sorted(\n\u001b[0;32m--> 146\u001b[0;31m             \u001b[0;34m[\u001b[0m\u001b[0;34m(\u001b[0m\u001b[0mv\u001b[0m\u001b[0;34m,\u001b[0m \u001b[0mk\u001b[0m\u001b[0;34m)\u001b[0m \u001b[0;32mfor\u001b[0m \u001b[0mk\u001b[0m\u001b[0;34m,\u001b[0m \u001b[0mv\u001b[0m \u001b[0;32min\u001b[0m \u001b[0mids_dict\u001b[0m\u001b[0;34m.\u001b[0m\u001b[0mitems\u001b[0m\u001b[0;34m(\u001b[0m\u001b[0;34m)\u001b[0m\u001b[0;34m]\u001b[0m\u001b[0;34m,\u001b[0m \u001b[0mreverse\u001b[0m\u001b[0;34m=\u001b[0m\u001b[0;32mTrue\u001b[0m\u001b[0;34m\u001b[0m\u001b[0m\n\u001b[0m\u001b[1;32m    147\u001b[0m         )]\n\u001b[1;32m    148\u001b[0m         \u001b[0;32mfor\u001b[0m \u001b[0mt\u001b[0m \u001b[0;32min\u001b[0m \u001b[0msorted_key_values\u001b[0m\u001b[0;34m:\u001b[0m\u001b[0;34m\u001b[0m\u001b[0m\n",
      "\u001b[0;32m/Users/deepu/anaconda/lib/python3.6/site-packages/py_entitymatching/sampler/down_sample.py\u001b[0m in \u001b[0;36m<listcomp>\u001b[0;34m(.0)\u001b[0m\n\u001b[1;32m    144\u001b[0m         \u001b[0mnum_pos\u001b[0m \u001b[0;34m=\u001b[0m \u001b[0;36m0\u001b[0m\u001b[0;34m\u001b[0m\u001b[0m\n\u001b[1;32m    145\u001b[0m         sorted_key_values = [(k, v) for v, k in sorted(\n\u001b[0;32m--> 146\u001b[0;31m             \u001b[0;34m[\u001b[0m\u001b[0;34m(\u001b[0m\u001b[0mv\u001b[0m\u001b[0;34m,\u001b[0m \u001b[0mk\u001b[0m\u001b[0;34m)\u001b[0m \u001b[0;32mfor\u001b[0m \u001b[0mk\u001b[0m\u001b[0;34m,\u001b[0m \u001b[0mv\u001b[0m \u001b[0;32min\u001b[0m \u001b[0mids_dict\u001b[0m\u001b[0;34m.\u001b[0m\u001b[0mitems\u001b[0m\u001b[0;34m(\u001b[0m\u001b[0;34m)\u001b[0m\u001b[0;34m]\u001b[0m\u001b[0;34m,\u001b[0m \u001b[0mreverse\u001b[0m\u001b[0;34m=\u001b[0m\u001b[0;32mTrue\u001b[0m\u001b[0;34m\u001b[0m\u001b[0m\n\u001b[0m\u001b[1;32m    147\u001b[0m         )]\n\u001b[1;32m    148\u001b[0m         \u001b[0;32mfor\u001b[0m \u001b[0mt\u001b[0m \u001b[0;32min\u001b[0m \u001b[0msorted_key_values\u001b[0m\u001b[0;34m:\u001b[0m\u001b[0;34m\u001b[0m\u001b[0m\n",
      "\u001b[0;31mKeyboardInterrupt\u001b[0m: "
     ]
    }
   ],
   "source": [
    "sample_A, sample_B = em.down_sample(A, B, size=18000, y_param=2)\n",
    "# Save the datasets because it changes every time we perform down-sampling.\n",
    "em.to_csv_metadata(sample_A, '../datasets/sample_A_generated.csv')\n",
    "em.to_csv_metadata(sample_B, '../datasets/sample_B_generated.csv')"
   ]
  },
  {
   "cell_type": "markdown",
   "metadata": {},
   "source": [
    "## Blocking"
   ]
  },
  {
   "cell_type": "code",
   "execution_count": null,
   "metadata": {
    "collapsed": false,
    "deletable": true,
    "editable": true
   },
   "outputs": [],
   "source": [
    "# Perform blocking\n",
    "ab = em.AttrEquivalenceBlocker()\n",
    "C = ab.block_tables(sample_A, sample_B, 'zipcode', 'zipcode', l_output_attrs=['name', 'address', 'zipcode', 'cuisine'], r_output_attrs=['name', 'address', 'zipcode', 'cuisine'])\n",
    "ob = em.OverlapBlocker()\n",
    "D = ob.block_candset(C, 'address', 'address', overlap_size=4)"
   ]
  },
  {
   "cell_type": "code",
   "execution_count": null,
   "metadata": {
    "collapsed": false,
    "deletable": true,
    "editable": true
   },
   "outputs": [],
   "source": [
    "# Describe the candidate set\n",
    "print(len(D))\n",
    "D.head(2)"
   ]
  },
  {
   "cell_type": "code",
   "execution_count": null,
   "metadata": {
    "collapsed": false,
    "deletable": true,
    "editable": true
   },
   "outputs": [],
   "source": [
    "# Sample the candidate set.\n",
    "S = em.sample_table(D, sample_size=1000) # C is the candidate set to be sampled from.\n",
    "# Write the sample set to a file for further processing.\n",
    "em.to_csv_metadata(S, '../datasets/candidate_sample_generated.csv')"
   ]
  },
  {
   "cell_type": "markdown",
   "metadata": {
    "deletable": true,
    "editable": true
   },
   "source": [
    "## Feature extraction"
   ]
  },
  {
   "cell_type": "code",
   "execution_count": 41,
   "metadata": {
    "collapsed": false
   },
   "outputs": [
    {
     "name": "stderr",
     "output_type": "stream",
     "text": [
      "Metadata file is not present in the given path; proceeding to read the csv file.\n",
      "Metadata file is not present in the given path; proceeding to read the csv file.\n"
     ]
    }
   ],
   "source": [
    "# Loading the saved files\n",
    "import py_entitymatching as em\n",
    "sample_A = em.read_csv_metadata('../datasets/sample_A.csv')\n",
    "sample_B = em.read_csv_metadata('../datasets/sample_B.csv')\n",
    "S = em.read_csv_metadata('../datasets/candidate_sample.csv')\n",
    "G = em.read_csv_metadata('../datasets/candidate_sample_labeled.csv')\n",
    "\n",
    "# Adding metadata to the files\n",
    "em.set_key(sample_A, 'ID')\n",
    "em.set_key(sample_B, 'ID')\n",
    "\n",
    "em.set_key(S, '_id')\n",
    "em.set_fk_ltable(S, 'ltable_ID')\n",
    "em.set_fk_rtable(S, 'rtable_ID')\n",
    "em.set_ltable(S, sample_A)\n",
    "em.set_rtable(S, sample_B)\n",
    "\n",
    "em.set_key(G, '_id')\n",
    "em.set_fk_ltable(G, 'ltable_ID')\n",
    "em.set_fk_rtable(G, 'rtable_ID')\n",
    "em.set_ltable(G, sample_A)\n",
    "em.set_rtable(G, sample_B)\n",
    "IJ = em.split_train_test(G, train_proportion=0.5, random_state=0)\n",
    "I = IJ['train']\n",
    "J = IJ['test']"
   ]
  },
  {
   "cell_type": "code",
   "execution_count": 42,
   "metadata": {
    "collapsed": false,
    "deletable": true,
    "editable": true,
    "scrolled": true
   },
   "outputs": [
    {
     "name": "stderr",
     "output_type": "stream",
     "text": [
      "0%                          100%\n",
      "[##############################] | ETA: 00:00:05 | ETA: 00:00:04 | ETA: 00:00:04 | ETA: 00:00:04 | ETA: 00:00:04 | ETA: 00:00:04 | ETA: 00:00:04 | ETA: 00:00:03 | ETA: 00:00:03 | ETA: 00:00:03 | ETA: 00:00:03 | ETA: 00:00:03 | ETA: 00:00:03 | ETA: 00:00:02 | ETA: 00:00:02 | ETA: 00:00:02 | ETA: 00:00:02 | ETA: 00:00:02 | ETA: 00:00:01 | ETA: 00:00:01 | ETA: 00:00:01 | ETA: 00:00:01 | ETA: 00:00:01 | ETA: 00:00:00 | ETA: 00:00:00 | ETA: 00:00:00 | ETA: 00:00:00 | ETA: 00:00:00 | ETA: 00:00:00 | ETA: 00:00:00 | ETA: 00:00:00\n",
      "Total time elapsed: 00:00:05\n"
     ]
    },
    {
     "data": {
      "text/html": [
       "<div>\n",
       "<table border=\"1\" class=\"dataframe\">\n",
       "  <thead>\n",
       "    <tr style=\"text-align: right;\">\n",
       "      <th></th>\n",
       "      <th>_id</th>\n",
       "      <th>ltable_ID</th>\n",
       "      <th>rtable_ID</th>\n",
       "      <th>name_name_jac_qgm_3_qgm_3</th>\n",
       "      <th>name_name_cos_dlm_dc0_dlm_dc0</th>\n",
       "      <th>name_name_jac_dlm_dc0_dlm_dc0</th>\n",
       "      <th>name_name_mel</th>\n",
       "      <th>name_name_lev_dist</th>\n",
       "      <th>name_name_lev_sim</th>\n",
       "      <th>name_name_nmw</th>\n",
       "      <th>...</th>\n",
       "      <th>cuisine_cuisine_mel</th>\n",
       "      <th>cuisine_cuisine_lev_dist</th>\n",
       "      <th>cuisine_cuisine_lev_sim</th>\n",
       "      <th>cuisine_cuisine_nmw</th>\n",
       "      <th>cuisine_cuisine_sw</th>\n",
       "      <th>ID_ID_exm</th>\n",
       "      <th>ID_ID_anm</th>\n",
       "      <th>ID_ID_lev_dist</th>\n",
       "      <th>ID_ID_lev_sim</th>\n",
       "      <th>label</th>\n",
       "    </tr>\n",
       "  </thead>\n",
       "  <tbody>\n",
       "    <tr>\n",
       "      <th>631</th>\n",
       "      <td>1003068</td>\n",
       "      <td>5272</td>\n",
       "      <td>20785</td>\n",
       "      <td>0.000000</td>\n",
       "      <td>0.000000</td>\n",
       "      <td>0.000000</td>\n",
       "      <td>0.549242</td>\n",
       "      <td>9.0</td>\n",
       "      <td>0.181818</td>\n",
       "      <td>-2.0</td>\n",
       "      <td>...</td>\n",
       "      <td>0.398148</td>\n",
       "      <td>14.0</td>\n",
       "      <td>0.125000</td>\n",
       "      <td>-5.0</td>\n",
       "      <td>2.0</td>\n",
       "      <td>0</td>\n",
       "      <td>0.253644</td>\n",
       "      <td>4</td>\n",
       "      <td>0.2</td>\n",
       "      <td>0</td>\n",
       "    </tr>\n",
       "    <tr>\n",
       "      <th>185</th>\n",
       "      <td>469420</td>\n",
       "      <td>2029</td>\n",
       "      <td>20213</td>\n",
       "      <td>0.033333</td>\n",
       "      <td>0.000000</td>\n",
       "      <td>0.000000</td>\n",
       "      <td>0.535000</td>\n",
       "      <td>11.0</td>\n",
       "      <td>0.266667</td>\n",
       "      <td>1.0</td>\n",
       "      <td>...</td>\n",
       "      <td>0.531490</td>\n",
       "      <td>27.0</td>\n",
       "      <td>0.129032</td>\n",
       "      <td>1.0</td>\n",
       "      <td>4.0</td>\n",
       "      <td>0</td>\n",
       "      <td>0.100381</td>\n",
       "      <td>2</td>\n",
       "      <td>0.6</td>\n",
       "      <td>0</td>\n",
       "    </tr>\n",
       "    <tr>\n",
       "      <th>732</th>\n",
       "      <td>1123677</td>\n",
       "      <td>6975</td>\n",
       "      <td>23836</td>\n",
       "      <td>0.285714</td>\n",
       "      <td>0.666667</td>\n",
       "      <td>0.500000</td>\n",
       "      <td>0.867557</td>\n",
       "      <td>8.0</td>\n",
       "      <td>0.600000</td>\n",
       "      <td>9.0</td>\n",
       "      <td>...</td>\n",
       "      <td>1.000000</td>\n",
       "      <td>0.0</td>\n",
       "      <td>1.000000</td>\n",
       "      <td>7.0</td>\n",
       "      <td>7.0</td>\n",
       "      <td>0</td>\n",
       "      <td>0.292625</td>\n",
       "      <td>5</td>\n",
       "      <td>0.0</td>\n",
       "      <td>1</td>\n",
       "    </tr>\n",
       "    <tr>\n",
       "      <th>404</th>\n",
       "      <td>830665</td>\n",
       "      <td>3643</td>\n",
       "      <td>12177</td>\n",
       "      <td>0.666667</td>\n",
       "      <td>0.500000</td>\n",
       "      <td>0.333333</td>\n",
       "      <td>0.981818</td>\n",
       "      <td>1.0</td>\n",
       "      <td>0.909091</td>\n",
       "      <td>9.0</td>\n",
       "      <td>...</td>\n",
       "      <td>0.495726</td>\n",
       "      <td>11.0</td>\n",
       "      <td>0.153846</td>\n",
       "      <td>-5.0</td>\n",
       "      <td>2.0</td>\n",
       "      <td>0</td>\n",
       "      <td>0.299171</td>\n",
       "      <td>5</td>\n",
       "      <td>0.0</td>\n",
       "      <td>1</td>\n",
       "    </tr>\n",
       "    <tr>\n",
       "      <th>194</th>\n",
       "      <td>476336</td>\n",
       "      <td>2057</td>\n",
       "      <td>22820</td>\n",
       "      <td>0.000000</td>\n",
       "      <td>0.000000</td>\n",
       "      <td>0.000000</td>\n",
       "      <td>0.390476</td>\n",
       "      <td>19.0</td>\n",
       "      <td>0.095238</td>\n",
       "      <td>-4.0</td>\n",
       "      <td>...</td>\n",
       "      <td>0.420635</td>\n",
       "      <td>16.0</td>\n",
       "      <td>0.111111</td>\n",
       "      <td>-9.0</td>\n",
       "      <td>1.0</td>\n",
       "      <td>0</td>\n",
       "      <td>0.090140</td>\n",
       "      <td>4</td>\n",
       "      <td>0.2</td>\n",
       "      <td>0</td>\n",
       "    </tr>\n",
       "  </tbody>\n",
       "</table>\n",
       "<p>5 rows × 36 columns</p>\n",
       "</div>"
      ],
      "text/plain": [
       "         _id  ltable_ID  rtable_ID  name_name_jac_qgm_3_qgm_3  \\\n",
       "631  1003068       5272      20785                   0.000000   \n",
       "185   469420       2029      20213                   0.033333   \n",
       "732  1123677       6975      23836                   0.285714   \n",
       "404   830665       3643      12177                   0.666667   \n",
       "194   476336       2057      22820                   0.000000   \n",
       "\n",
       "     name_name_cos_dlm_dc0_dlm_dc0  name_name_jac_dlm_dc0_dlm_dc0  \\\n",
       "631                       0.000000                       0.000000   \n",
       "185                       0.000000                       0.000000   \n",
       "732                       0.666667                       0.500000   \n",
       "404                       0.500000                       0.333333   \n",
       "194                       0.000000                       0.000000   \n",
       "\n",
       "     name_name_mel  name_name_lev_dist  name_name_lev_sim  name_name_nmw  \\\n",
       "631       0.549242                 9.0           0.181818           -2.0   \n",
       "185       0.535000                11.0           0.266667            1.0   \n",
       "732       0.867557                 8.0           0.600000            9.0   \n",
       "404       0.981818                 1.0           0.909091            9.0   \n",
       "194       0.390476                19.0           0.095238           -4.0   \n",
       "\n",
       "     ...    cuisine_cuisine_mel  cuisine_cuisine_lev_dist  \\\n",
       "631  ...               0.398148                      14.0   \n",
       "185  ...               0.531490                      27.0   \n",
       "732  ...               1.000000                       0.0   \n",
       "404  ...               0.495726                      11.0   \n",
       "194  ...               0.420635                      16.0   \n",
       "\n",
       "     cuisine_cuisine_lev_sim  cuisine_cuisine_nmw  cuisine_cuisine_sw  \\\n",
       "631                 0.125000                 -5.0                 2.0   \n",
       "185                 0.129032                  1.0                 4.0   \n",
       "732                 1.000000                  7.0                 7.0   \n",
       "404                 0.153846                 -5.0                 2.0   \n",
       "194                 0.111111                 -9.0                 1.0   \n",
       "\n",
       "     ID_ID_exm  ID_ID_anm  ID_ID_lev_dist  ID_ID_lev_sim  label  \n",
       "631          0   0.253644               4            0.2      0  \n",
       "185          0   0.100381               2            0.6      0  \n",
       "732          0   0.292625               5            0.0      1  \n",
       "404          0   0.299171               5            0.0      1  \n",
       "194          0   0.090140               4            0.2      0  \n",
       "\n",
       "[5 rows x 36 columns]"
      ]
     },
     "execution_count": 42,
     "metadata": {},
     "output_type": "execute_result"
    }
   ],
   "source": [
    "# Extracting features\n",
    "match_f = em.get_features_for_matching(sample_A, sample_B)\n",
    "H = em.extract_feature_vecs(I, feature_table=match_f,attrs_after=['label'])\n",
    "H.head()"
   ]
  },
  {
   "cell_type": "markdown",
   "metadata": {
    "collapsed": false,
    "deletable": true,
    "editable": true
   },
   "source": [
    "## Matching"
   ]
  },
  {
   "cell_type": "code",
   "execution_count": 43,
   "metadata": {
    "collapsed": false
   },
   "outputs": [],
   "source": [
    "# Create a set of ML-matchers\n",
    "dt = em.DTMatcher(name='DecisionTree', random_state=0)\n",
    "nb = em.NBMatcher(name='NaiveBayes')\n",
    "svm = em.SVMMatcher(name='SVM', random_state=0)\n",
    "rf = em.RFMatcher(name='RF', random_state=0)\n",
    "lg = em.LogRegMatcher(name='LogReg', random_state=0)\n",
    "ln = em.LinRegMatcher(name='LinReg')"
   ]
  },
  {
   "cell_type": "code",
   "execution_count": 44,
   "metadata": {
    "collapsed": false
   },
   "outputs": [
    {
     "data": {
      "text/html": [
       "<div>\n",
       "<table border=\"1\" class=\"dataframe\">\n",
       "  <thead>\n",
       "    <tr style=\"text-align: right;\">\n",
       "      <th></th>\n",
       "      <th>Name</th>\n",
       "      <th>Matcher</th>\n",
       "      <th>Num folds</th>\n",
       "      <th>Fold 1</th>\n",
       "      <th>Fold 2</th>\n",
       "      <th>Fold 3</th>\n",
       "      <th>Fold 4</th>\n",
       "      <th>Fold 5</th>\n",
       "      <th>Mean score</th>\n",
       "    </tr>\n",
       "  </thead>\n",
       "  <tbody>\n",
       "    <tr>\n",
       "      <th>0</th>\n",
       "      <td>DecisionTree</td>\n",
       "      <td>&lt;py_entitymatching.matcher.dtmatcher.DTMatcher object at 0x118030f28&gt;</td>\n",
       "      <td>5</td>\n",
       "      <td>0.725000</td>\n",
       "      <td>0.757576</td>\n",
       "      <td>0.787879</td>\n",
       "      <td>0.804878</td>\n",
       "      <td>0.757576</td>\n",
       "      <td>0.766582</td>\n",
       "    </tr>\n",
       "    <tr>\n",
       "      <th>1</th>\n",
       "      <td>NaiveBayes</td>\n",
       "      <td>&lt;py_entitymatching.matcher.nbmatcher.NBMatcher object at 0x118030fd0&gt;</td>\n",
       "      <td>5</td>\n",
       "      <td>0.780000</td>\n",
       "      <td>0.750000</td>\n",
       "      <td>0.744186</td>\n",
       "      <td>0.833333</td>\n",
       "      <td>0.729730</td>\n",
       "      <td>0.767450</td>\n",
       "    </tr>\n",
       "    <tr>\n",
       "      <th>2</th>\n",
       "      <td>RF</td>\n",
       "      <td>&lt;py_entitymatching.matcher.rfmatcher.RFMatcher object at 0x1177400b8&gt;</td>\n",
       "      <td>5</td>\n",
       "      <td>0.808511</td>\n",
       "      <td>0.800000</td>\n",
       "      <td>0.789474</td>\n",
       "      <td>0.833333</td>\n",
       "      <td>0.725000</td>\n",
       "      <td>0.791264</td>\n",
       "    </tr>\n",
       "    <tr>\n",
       "      <th>3</th>\n",
       "      <td>SVM</td>\n",
       "      <td>&lt;py_entitymatching.matcher.svmmatcher.SVMMatcher object at 0x118030cc0&gt;</td>\n",
       "      <td>5</td>\n",
       "      <td>0.794118</td>\n",
       "      <td>0.857143</td>\n",
       "      <td>0.800000</td>\n",
       "      <td>0.814815</td>\n",
       "      <td>0.730769</td>\n",
       "      <td>0.799369</td>\n",
       "    </tr>\n",
       "    <tr>\n",
       "      <th>4</th>\n",
       "      <td>LinReg</td>\n",
       "      <td>&lt;py_entitymatching.matcher.linregmatcher.LinRegMatcher object at 0x117740cc0&gt;</td>\n",
       "      <td>5</td>\n",
       "      <td>0.754717</td>\n",
       "      <td>0.744186</td>\n",
       "      <td>0.767442</td>\n",
       "      <td>0.844444</td>\n",
       "      <td>0.690476</td>\n",
       "      <td>0.760253</td>\n",
       "    </tr>\n",
       "    <tr>\n",
       "      <th>5</th>\n",
       "      <td>LogReg</td>\n",
       "      <td>&lt;py_entitymatching.matcher.logregmatcher.LogRegMatcher object at 0x117740860&gt;</td>\n",
       "      <td>5</td>\n",
       "      <td>0.770833</td>\n",
       "      <td>0.837838</td>\n",
       "      <td>0.756098</td>\n",
       "      <td>0.818182</td>\n",
       "      <td>0.684211</td>\n",
       "      <td>0.773432</td>\n",
       "    </tr>\n",
       "  </tbody>\n",
       "</table>\n",
       "</div>"
      ],
      "text/plain": [
       "           Name  \\\n",
       "0  DecisionTree   \n",
       "1    NaiveBayes   \n",
       "2            RF   \n",
       "3           SVM   \n",
       "4        LinReg   \n",
       "5        LogReg   \n",
       "\n",
       "                                                                         Matcher  \\\n",
       "0          <py_entitymatching.matcher.dtmatcher.DTMatcher object at 0x118030f28>   \n",
       "1          <py_entitymatching.matcher.nbmatcher.NBMatcher object at 0x118030fd0>   \n",
       "2          <py_entitymatching.matcher.rfmatcher.RFMatcher object at 0x1177400b8>   \n",
       "3        <py_entitymatching.matcher.svmmatcher.SVMMatcher object at 0x118030cc0>   \n",
       "4  <py_entitymatching.matcher.linregmatcher.LinRegMatcher object at 0x117740cc0>   \n",
       "5  <py_entitymatching.matcher.logregmatcher.LogRegMatcher object at 0x117740860>   \n",
       "\n",
       "   Num folds    Fold 1    Fold 2    Fold 3    Fold 4    Fold 5  Mean score  \n",
       "0          5  0.725000  0.757576  0.787879  0.804878  0.757576    0.766582  \n",
       "1          5  0.780000  0.750000  0.744186  0.833333  0.729730    0.767450  \n",
       "2          5  0.808511  0.800000  0.789474  0.833333  0.725000    0.791264  \n",
       "3          5  0.794118  0.857143  0.800000  0.814815  0.730769    0.799369  \n",
       "4          5  0.754717  0.744186  0.767442  0.844444  0.690476    0.760253  \n",
       "5          5  0.770833  0.837838  0.756098  0.818182  0.684211    0.773432  "
      ]
     },
     "execution_count": 44,
     "metadata": {},
     "output_type": "execute_result"
    }
   ],
   "source": [
    "# Report Precision\n",
    "result = em.select_matcher([dt, nb, rf, svm, ln, lg], table=H, \n",
    "        exclude_attrs=['_id', 'ltable_ID', 'rtable_ID', 'label'],\n",
    "        k=5,\n",
    "        target_attr='label', metric='precision', random_state=0)\n",
    "result['cv_stats']"
   ]
  },
  {
   "cell_type": "code",
   "execution_count": 45,
   "metadata": {
    "collapsed": false
   },
   "outputs": [
    {
     "data": {
      "text/html": [
       "<div>\n",
       "<table border=\"1\" class=\"dataframe\">\n",
       "  <thead>\n",
       "    <tr style=\"text-align: right;\">\n",
       "      <th></th>\n",
       "      <th>Name</th>\n",
       "      <th>Matcher</th>\n",
       "      <th>Num folds</th>\n",
       "      <th>Fold 1</th>\n",
       "      <th>Fold 2</th>\n",
       "      <th>Fold 3</th>\n",
       "      <th>Fold 4</th>\n",
       "      <th>Fold 5</th>\n",
       "      <th>Mean score</th>\n",
       "    </tr>\n",
       "  </thead>\n",
       "  <tbody>\n",
       "    <tr>\n",
       "      <th>0</th>\n",
       "      <td>DecisionTree</td>\n",
       "      <td>&lt;py_entitymatching.matcher.dtmatcher.DTMatcher object at 0x118030f28&gt;</td>\n",
       "      <td>5</td>\n",
       "      <td>0.725</td>\n",
       "      <td>0.714286</td>\n",
       "      <td>0.702703</td>\n",
       "      <td>0.804878</td>\n",
       "      <td>0.757576</td>\n",
       "      <td>0.740888</td>\n",
       "    </tr>\n",
       "    <tr>\n",
       "      <th>1</th>\n",
       "      <td>NaiveBayes</td>\n",
       "      <td>&lt;py_entitymatching.matcher.nbmatcher.NBMatcher object at 0x118030fd0&gt;</td>\n",
       "      <td>5</td>\n",
       "      <td>0.975</td>\n",
       "      <td>0.857143</td>\n",
       "      <td>0.864865</td>\n",
       "      <td>0.853659</td>\n",
       "      <td>0.818182</td>\n",
       "      <td>0.873770</td>\n",
       "    </tr>\n",
       "    <tr>\n",
       "      <th>2</th>\n",
       "      <td>RF</td>\n",
       "      <td>&lt;py_entitymatching.matcher.rfmatcher.RFMatcher object at 0x1177400b8&gt;</td>\n",
       "      <td>5</td>\n",
       "      <td>0.950</td>\n",
       "      <td>0.800000</td>\n",
       "      <td>0.810811</td>\n",
       "      <td>0.731707</td>\n",
       "      <td>0.878788</td>\n",
       "      <td>0.834261</td>\n",
       "    </tr>\n",
       "    <tr>\n",
       "      <th>3</th>\n",
       "      <td>SVM</td>\n",
       "      <td>&lt;py_entitymatching.matcher.svmmatcher.SVMMatcher object at 0x118030cc0&gt;</td>\n",
       "      <td>5</td>\n",
       "      <td>0.675</td>\n",
       "      <td>0.685714</td>\n",
       "      <td>0.432432</td>\n",
       "      <td>0.536585</td>\n",
       "      <td>0.575758</td>\n",
       "      <td>0.581098</td>\n",
       "    </tr>\n",
       "    <tr>\n",
       "      <th>4</th>\n",
       "      <td>LinReg</td>\n",
       "      <td>&lt;py_entitymatching.matcher.linregmatcher.LinRegMatcher object at 0x117740cc0&gt;</td>\n",
       "      <td>5</td>\n",
       "      <td>1.000</td>\n",
       "      <td>0.914286</td>\n",
       "      <td>0.891892</td>\n",
       "      <td>0.926829</td>\n",
       "      <td>0.878788</td>\n",
       "      <td>0.922359</td>\n",
       "    </tr>\n",
       "    <tr>\n",
       "      <th>5</th>\n",
       "      <td>LogReg</td>\n",
       "      <td>&lt;py_entitymatching.matcher.logregmatcher.LogRegMatcher object at 0x117740860&gt;</td>\n",
       "      <td>5</td>\n",
       "      <td>0.925</td>\n",
       "      <td>0.885714</td>\n",
       "      <td>0.837838</td>\n",
       "      <td>0.878049</td>\n",
       "      <td>0.787879</td>\n",
       "      <td>0.862896</td>\n",
       "    </tr>\n",
       "  </tbody>\n",
       "</table>\n",
       "</div>"
      ],
      "text/plain": [
       "           Name  \\\n",
       "0  DecisionTree   \n",
       "1    NaiveBayes   \n",
       "2            RF   \n",
       "3           SVM   \n",
       "4        LinReg   \n",
       "5        LogReg   \n",
       "\n",
       "                                                                         Matcher  \\\n",
       "0          <py_entitymatching.matcher.dtmatcher.DTMatcher object at 0x118030f28>   \n",
       "1          <py_entitymatching.matcher.nbmatcher.NBMatcher object at 0x118030fd0>   \n",
       "2          <py_entitymatching.matcher.rfmatcher.RFMatcher object at 0x1177400b8>   \n",
       "3        <py_entitymatching.matcher.svmmatcher.SVMMatcher object at 0x118030cc0>   \n",
       "4  <py_entitymatching.matcher.linregmatcher.LinRegMatcher object at 0x117740cc0>   \n",
       "5  <py_entitymatching.matcher.logregmatcher.LogRegMatcher object at 0x117740860>   \n",
       "\n",
       "   Num folds  Fold 1    Fold 2    Fold 3    Fold 4    Fold 5  Mean score  \n",
       "0          5   0.725  0.714286  0.702703  0.804878  0.757576    0.740888  \n",
       "1          5   0.975  0.857143  0.864865  0.853659  0.818182    0.873770  \n",
       "2          5   0.950  0.800000  0.810811  0.731707  0.878788    0.834261  \n",
       "3          5   0.675  0.685714  0.432432  0.536585  0.575758    0.581098  \n",
       "4          5   1.000  0.914286  0.891892  0.926829  0.878788    0.922359  \n",
       "5          5   0.925  0.885714  0.837838  0.878049  0.787879    0.862896  "
      ]
     },
     "execution_count": 45,
     "metadata": {},
     "output_type": "execute_result"
    }
   ],
   "source": [
    "# Report Recall\n",
    "# Select the best ML matcher using CV\n",
    "result = em.select_matcher([dt, nb, rf, svm, ln, lg], table=H, \n",
    "        exclude_attrs=['_id', 'ltable_ID', 'rtable_ID', 'label'],\n",
    "        k=5,\n",
    "        target_attr='label', metric='recall', random_state=0)\n",
    "result['cv_stats']"
   ]
  },
  {
   "cell_type": "code",
   "execution_count": 46,
   "metadata": {
    "collapsed": false,
    "scrolled": true
   },
   "outputs": [
    {
     "data": {
      "text/html": [
       "<div>\n",
       "<table border=\"1\" class=\"dataframe\">\n",
       "  <thead>\n",
       "    <tr style=\"text-align: right;\">\n",
       "      <th></th>\n",
       "      <th>Name</th>\n",
       "      <th>Matcher</th>\n",
       "      <th>Num folds</th>\n",
       "      <th>Fold 1</th>\n",
       "      <th>Fold 2</th>\n",
       "      <th>Fold 3</th>\n",
       "      <th>Fold 4</th>\n",
       "      <th>Fold 5</th>\n",
       "      <th>Mean score</th>\n",
       "    </tr>\n",
       "  </thead>\n",
       "  <tbody>\n",
       "    <tr>\n",
       "      <th>0</th>\n",
       "      <td>DecisionTree</td>\n",
       "      <td>&lt;py_entitymatching.matcher.dtmatcher.DTMatcher object at 0x118030f28&gt;</td>\n",
       "      <td>5</td>\n",
       "      <td>0.725000</td>\n",
       "      <td>0.735294</td>\n",
       "      <td>0.742857</td>\n",
       "      <td>0.804878</td>\n",
       "      <td>0.757576</td>\n",
       "      <td>0.753121</td>\n",
       "    </tr>\n",
       "    <tr>\n",
       "      <th>1</th>\n",
       "      <td>NaiveBayes</td>\n",
       "      <td>&lt;py_entitymatching.matcher.nbmatcher.NBMatcher object at 0x118030fd0&gt;</td>\n",
       "      <td>5</td>\n",
       "      <td>0.866667</td>\n",
       "      <td>0.800000</td>\n",
       "      <td>0.800000</td>\n",
       "      <td>0.843373</td>\n",
       "      <td>0.771429</td>\n",
       "      <td>0.816294</td>\n",
       "    </tr>\n",
       "    <tr>\n",
       "      <th>2</th>\n",
       "      <td>RF</td>\n",
       "      <td>&lt;py_entitymatching.matcher.rfmatcher.RFMatcher object at 0x1177400b8&gt;</td>\n",
       "      <td>5</td>\n",
       "      <td>0.873563</td>\n",
       "      <td>0.800000</td>\n",
       "      <td>0.800000</td>\n",
       "      <td>0.779221</td>\n",
       "      <td>0.794521</td>\n",
       "      <td>0.809461</td>\n",
       "    </tr>\n",
       "    <tr>\n",
       "      <th>3</th>\n",
       "      <td>SVM</td>\n",
       "      <td>&lt;py_entitymatching.matcher.svmmatcher.SVMMatcher object at 0x118030cc0&gt;</td>\n",
       "      <td>5</td>\n",
       "      <td>0.729730</td>\n",
       "      <td>0.761905</td>\n",
       "      <td>0.561404</td>\n",
       "      <td>0.647059</td>\n",
       "      <td>0.644068</td>\n",
       "      <td>0.668833</td>\n",
       "    </tr>\n",
       "    <tr>\n",
       "      <th>4</th>\n",
       "      <td>LinReg</td>\n",
       "      <td>&lt;py_entitymatching.matcher.linregmatcher.LinRegMatcher object at 0x117740cc0&gt;</td>\n",
       "      <td>5</td>\n",
       "      <td>0.860215</td>\n",
       "      <td>0.820513</td>\n",
       "      <td>0.825000</td>\n",
       "      <td>0.883721</td>\n",
       "      <td>0.773333</td>\n",
       "      <td>0.832556</td>\n",
       "    </tr>\n",
       "    <tr>\n",
       "      <th>5</th>\n",
       "      <td>LogReg</td>\n",
       "      <td>&lt;py_entitymatching.matcher.logregmatcher.LogRegMatcher object at 0x117740860&gt;</td>\n",
       "      <td>5</td>\n",
       "      <td>0.840909</td>\n",
       "      <td>0.861111</td>\n",
       "      <td>0.794872</td>\n",
       "      <td>0.847059</td>\n",
       "      <td>0.732394</td>\n",
       "      <td>0.815269</td>\n",
       "    </tr>\n",
       "  </tbody>\n",
       "</table>\n",
       "</div>"
      ],
      "text/plain": [
       "           Name  \\\n",
       "0  DecisionTree   \n",
       "1    NaiveBayes   \n",
       "2            RF   \n",
       "3           SVM   \n",
       "4        LinReg   \n",
       "5        LogReg   \n",
       "\n",
       "                                                                         Matcher  \\\n",
       "0          <py_entitymatching.matcher.dtmatcher.DTMatcher object at 0x118030f28>   \n",
       "1          <py_entitymatching.matcher.nbmatcher.NBMatcher object at 0x118030fd0>   \n",
       "2          <py_entitymatching.matcher.rfmatcher.RFMatcher object at 0x1177400b8>   \n",
       "3        <py_entitymatching.matcher.svmmatcher.SVMMatcher object at 0x118030cc0>   \n",
       "4  <py_entitymatching.matcher.linregmatcher.LinRegMatcher object at 0x117740cc0>   \n",
       "5  <py_entitymatching.matcher.logregmatcher.LogRegMatcher object at 0x117740860>   \n",
       "\n",
       "   Num folds    Fold 1    Fold 2    Fold 3    Fold 4    Fold 5  Mean score  \n",
       "0          5  0.725000  0.735294  0.742857  0.804878  0.757576    0.753121  \n",
       "1          5  0.866667  0.800000  0.800000  0.843373  0.771429    0.816294  \n",
       "2          5  0.873563  0.800000  0.800000  0.779221  0.794521    0.809461  \n",
       "3          5  0.729730  0.761905  0.561404  0.647059  0.644068    0.668833  \n",
       "4          5  0.860215  0.820513  0.825000  0.883721  0.773333    0.832556  \n",
       "5          5  0.840909  0.861111  0.794872  0.847059  0.732394    0.815269  "
      ]
     },
     "execution_count": 46,
     "metadata": {},
     "output_type": "execute_result"
    }
   ],
   "source": [
    "# Report F1\n",
    "# Select the best ML matcher using CV\n",
    "result = em.select_matcher([dt, nb, rf, svm, ln, lg], table=H, \n",
    "        exclude_attrs=['_id', 'ltable_ID', 'rtable_ID', 'label'],\n",
    "        k=5,\n",
    "        target_attr='label', metric='f1', random_state=0)\n",
    "result['cv_stats']"
   ]
  },
  {
   "cell_type": "markdown",
   "metadata": {},
   "source": [
    "# Debug Matcher"
   ]
  },
  {
   "cell_type": "code",
   "execution_count": null,
   "metadata": {
    "collapsed": true
   },
   "outputs": [],
   "source": []
  },
  {
   "cell_type": "markdown",
   "metadata": {},
   "source": [
    "# Find Matcher after debugging"
   ]
  },
  {
   "cell_type": "code",
   "execution_count": 52,
   "metadata": {
    "collapsed": false
   },
   "outputs": [
    {
     "name": "stderr",
     "output_type": "stream",
     "text": [
      "0%                          100%\n",
      "[##############################] | ETA: 00:00:04 | ETA: 00:00:04 | ETA: 00:00:04 | ETA: 00:00:04 | ETA: 00:00:04 | ETA: 00:00:03 | ETA: 00:00:03 | ETA: 00:00:03 | ETA: 00:00:03 | ETA: 00:00:03 | ETA: 00:00:02 | ETA: 00:00:02 | ETA: 00:00:02 | ETA: 00:00:02 | ETA: 00:00:02 | ETA: 00:00:02 | ETA: 00:00:01 | ETA: 00:00:01 | ETA: 00:00:01 | ETA: 00:00:01 | ETA: 00:00:01 | ETA: 00:00:01 | ETA: 00:00:00 | ETA: 00:00:00 | ETA: 00:00:00 | ETA: 00:00:00 | ETA: 00:00:00 | ETA: 00:00:00 | ETA: 00:00:00 | ETA: 00:00:00 | ETA: 00:00:00\n",
      "Total time elapsed: 00:00:04\n",
      "0%                          100%\n",
      "[#                             ] | ETA: 00:00:03"
     ]
    },
    {
     "name": "stdout",
     "output_type": "stream",
     "text": [
      "Decision Tree\n",
      "Precision : 80.81% (139/172)\n",
      "Recall : 69.85% (139/199)\n",
      "F1 : 74.93%\n",
      "False positives : 33 (out of 172 positive predictions)\n",
      "False negatives : 60 (out of 328 negative predictions)\n"
     ]
    },
    {
     "name": "stderr",
     "output_type": "stream",
     "text": [
      "[##############################] | ETA: 00:00:04 | ETA: 00:00:03 | ETA: 00:00:03 | ETA: 00:00:03 | ETA: 00:00:03 | ETA: 00:00:03 | ETA: 00:00:03 | ETA: 00:00:02 | ETA: 00:00:02 | ETA: 00:00:02 | ETA: 00:00:02 | ETA: 00:00:02 | ETA: 00:00:02 | ETA: 00:00:02 | ETA: 00:00:02 | ETA: 00:00:02 | ETA: 00:00:01 | ETA: 00:00:01 | ETA: 00:00:01 | ETA: 00:00:01 | ETA: 00:00:01 | ETA: 00:00:01 | ETA: 00:00:00 | ETA: 00:00:00 | ETA: 00:00:00 | ETA: 00:00:00 | ETA: 00:00:00 | ETA: 00:00:00 | ETA: 00:00:00 | ETA: 00:00:00\n",
      "Total time elapsed: 00:00:04\n",
      "0%                          100%\n",
      "[#                             ] | ETA: 00:00:03"
     ]
    },
    {
     "name": "stdout",
     "output_type": "stream",
     "text": [
      "Naive Bayes\n",
      "Precision : 81.73% (170/208)\n",
      "Recall : 85.43% (170/199)\n",
      "F1 : 83.54%\n",
      "False positives : 38 (out of 208 positive predictions)\n",
      "False negatives : 29 (out of 292 negative predictions)\n"
     ]
    },
    {
     "name": "stderr",
     "output_type": "stream",
     "text": [
      "[##############################] | ETA: 00:00:04 | ETA: 00:00:03 | ETA: 00:00:04 | ETA: 00:00:04 | ETA: 00:00:04 | ETA: 00:00:04 | ETA: 00:00:03 | ETA: 00:00:03 | ETA: 00:00:03 | ETA: 00:00:03 | ETA: 00:00:03 | ETA: 00:00:02 | ETA: 00:00:02 | ETA: 00:00:02 | ETA: 00:00:02 | ETA: 00:00:02 | ETA: 00:00:01 | ETA: 00:00:01 | ETA: 00:00:01 | ETA: 00:00:01 | ETA: 00:00:01 | ETA: 00:00:01 | ETA: 00:00:00 | ETA: 00:00:00 | ETA: 00:00:00 | ETA: 00:00:00 | ETA: 00:00:00 | ETA: 00:00:00 | ETA: 00:00:00 | ETA: 00:00:00\n",
      "Total time elapsed: 00:00:04\n",
      "0%                          100%\n",
      "[#                             ] | ETA: 00:00:03"
     ]
    },
    {
     "name": "stdout",
     "output_type": "stream",
     "text": [
      "Random Forest\n",
      "Precision : 83.43% (151/181)\n",
      "Recall : 75.88% (151/199)\n",
      "F1 : 79.47%\n",
      "False positives : 30 (out of 181 positive predictions)\n",
      "False negatives : 48 (out of 319 negative predictions)\n"
     ]
    },
    {
     "name": "stderr",
     "output_type": "stream",
     "text": [
      "[##############################] | ETA: 00:00:04 | ETA: 00:00:03 | ETA: 00:00:03 | ETA: 00:00:03 | ETA: 00:00:03 | ETA: 00:00:03 | ETA: 00:00:03 | ETA: 00:00:03 | ETA: 00:00:03 | ETA: 00:00:02 | ETA: 00:00:02 | ETA: 00:00:02 | ETA: 00:00:02 | ETA: 00:00:02 | ETA: 00:00:02 | ETA: 00:00:02 | ETA: 00:00:01 | ETA: 00:00:01 | ETA: 00:00:01 | ETA: 00:00:01 | ETA: 00:00:01 | ETA: 00:00:01 | ETA: 00:00:00 | ETA: 00:00:00 | ETA: 00:00:00 | ETA: 00:00:00 | ETA: 00:00:00 | ETA: 00:00:00 | ETA: 00:00:00 | ETA: 00:00:00\n",
      "Total time elapsed: 00:00:04\n",
      "0%                          100%\n",
      "[#                             ] | ETA: 00:00:03"
     ]
    },
    {
     "name": "stdout",
     "output_type": "stream",
     "text": [
      "SVM\n",
      "Precision : 83.08% (108/130)\n",
      "Recall : 54.27% (108/199)\n",
      "F1 : 65.65%\n",
      "False positives : 22 (out of 130 positive predictions)\n",
      "False negatives : 91 (out of 370 negative predictions)\n"
     ]
    },
    {
     "name": "stderr",
     "output_type": "stream",
     "text": [
      "[##############################] | ETA: 00:00:04 | ETA: 00:00:03 | ETA: 00:00:03 | ETA: 00:00:03 | ETA: 00:00:03 | ETA: 00:00:03 | ETA: 00:00:03 | ETA: 00:00:03 | ETA: 00:00:03 | ETA: 00:00:03 | ETA: 00:00:02 | ETA: 00:00:02 | ETA: 00:00:02 | ETA: 00:00:02 | ETA: 00:00:02 | ETA: 00:00:02 | ETA: 00:00:02 | ETA: 00:00:01 | ETA: 00:00:01 | ETA: 00:00:01 | ETA: 00:00:01 | ETA: 00:00:01 | ETA: 00:00:01 | ETA: 00:00:00 | ETA: 00:00:00 | ETA: 00:00:00 | ETA: 00:00:00 | ETA: 00:00:00 | ETA: 00:00:00 | ETA: 00:00:00\n",
      "Total time elapsed: 00:00:05\n",
      "0%                          100%\n",
      "[#                             ] | ETA: 00:00:04"
     ]
    },
    {
     "name": "stdout",
     "output_type": "stream",
     "text": [
      "Linear Regression\n",
      "Precision : 80.0% (180/225)\n",
      "Recall : 90.45% (180/199)\n",
      "F1 : 84.91%\n",
      "False positives : 45 (out of 225 positive predictions)\n",
      "False negatives : 19 (out of 275 negative predictions)\n"
     ]
    },
    {
     "name": "stderr",
     "output_type": "stream",
     "text": [
      "[##############################] | ETA: 00:00:04 | ETA: 00:00:05 | ETA: 00:00:05 | ETA: 00:00:05 | ETA: 00:00:05 | ETA: 00:00:04 | ETA: 00:00:04 | ETA: 00:00:04 | ETA: 00:00:04 | ETA: 00:00:03 | ETA: 00:00:03 | ETA: 00:00:03 | ETA: 00:00:03 | ETA: 00:00:02 | ETA: 00:00:02 | ETA: 00:00:02 | ETA: 00:00:02 | ETA: 00:00:02 | ETA: 00:00:01 | ETA: 00:00:01 | ETA: 00:00:01 | ETA: 00:00:01 | ETA: 00:00:01 | ETA: 00:00:00 | ETA: 00:00:00 | ETA: 00:00:00 | ETA: 00:00:00 | ETA: 00:00:00 | ETA: 00:00:00 | ETA: 00:00:00"
     ]
    },
    {
     "name": "stdout",
     "output_type": "stream",
     "text": [
      "Logistic Regression\n",
      "Precision : 82.86% (174/210)\n",
      "Recall : 87.44% (174/199)\n",
      "F1 : 85.09%\n",
      "False positives : 36 (out of 210 positive predictions)\n",
      "False negatives : 25 (out of 290 negative predictions)\n"
     ]
    },
    {
     "name": "stderr",
     "output_type": "stream",
     "text": [
      "\n",
      "Total time elapsed: 00:00:05\n"
     ]
    }
   ],
   "source": [
    "# Train using feature vectors from I\n",
    "matchers = [dt, nb, rf, svm, ln, lg];\n",
    "names = ['Decision Tree', 'Naive Bayes', 'Random Forest', 'SVM', 'Linear Regression', 'Logistic Regression']\n",
    "for i in range(0,len(matchers)):\n",
    "    matcher = matchers[i]\n",
    "    name = names[i]\n",
    "    matcher.fit(table=H, \n",
    "           exclude_attrs=['_id', 'ltable_ID', 'rtable_ID', 'label'], \n",
    "           target_attr='label')\n",
    "\n",
    "    # Convert J into a set of feature vectors using F\n",
    "    L = em.extract_feature_vecs(J, feature_table=match_f,attrs_after=['label'])\n",
    "\n",
    "    # Predict on L \n",
    "    predictions = matcher.predict(table=L, exclude_attrs=['_id', 'ltable_ID', 'rtable_ID', 'label'], \n",
    "                  append=True, target_attr='predicted', inplace=False)\n",
    "    # Evaluate the predictions\n",
    "    eval_result = em.eval_matches(predictions, 'label', 'predicted')\n",
    "    print(name)\n",
    "    em.print_eval_summary(eval_result)"
   ]
  },
  {
   "cell_type": "code",
   "execution_count": null,
   "metadata": {
    "collapsed": false
   },
   "outputs": [],
   "source": []
  }
 ],
 "metadata": {
  "kernelspec": {
   "display_name": "Python 3",
   "language": "python",
   "name": "python3"
  },
  "language_info": {
   "codemirror_mode": {
    "name": "ipython",
    "version": 3
   },
   "file_extension": ".py",
   "mimetype": "text/x-python",
   "name": "python",
   "nbconvert_exporter": "python",
   "pygments_lexer": "ipython3",
   "version": "3.6.0"
  }
 },
 "nbformat": 4,
 "nbformat_minor": 2
}
