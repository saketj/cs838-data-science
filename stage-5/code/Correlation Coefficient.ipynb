{
 "cells": [
  {
   "cell_type": "code",
   "execution_count": 32,
   "metadata": {
    "collapsed": false
   },
   "outputs": [
    {
     "data": {
      "image/png": "[encoded data removed]",
      "text/plain": [
       "<matplotlib.figure.Figure at 0x110141a90>"
      ]
     },
     "metadata": {},
     "output_type": "display_data"
    },
    {
     "name": "stdout",
     "output_type": "stream",
     "text": [
      "[[ 1.          0.13673305]\n",
      " [ 0.13673305  1.        ]]\n",
      "Done\n"
     ]
    }
   ],
   "source": [
    "import re\n",
    "import csv\n",
    "import json\n",
    "import numpy\n",
    "\n",
    "reader = csv.DictReader(open('../data/Table_E.csv'))\n",
    "\n",
    "#f = csv.writer(open(\"../datasets/inspection_data.csv\", \"w\"))\n",
    "#Are pricey restaurants located in areas with high median household income?\n",
    "\n",
    "# Write CSV Header\n",
    "#f.writerow([\"name\", \"address\", \"zipcode\", \"cuisine\"])\n",
    "row = 1\n",
    "#name,address,zipcode,cuisine,price, rating, review_count, violation_code,critical_flag, grade,\n",
    "#median_household_income, median_real_estate_value,population_density,cost_of_living,population\n",
    "dict = {};\n",
    "attrs = ['rating', 'review_count', 'price', 'median_household_income', 'zipcode', 'median_real_estate_value','cost_of_living', 'population_density','population'];\n",
    "for i in attrs:\n",
    "    dict[i] = [];\n",
    "#dict = {'price':[], 'median_household_income':[]}\n",
    "for x in reader:\n",
    "    valid = True\n",
    "    for i in attrs:\n",
    "        if(x[i] is None):\n",
    "            valid = False\n",
    "            break\n",
    "    if(valid == True):\n",
    "        for i in attrs:\n",
    "            val = x[i]\n",
    "            if(i == 'rating'):\n",
    "                val =eval(val)\n",
    "            if(i == 'review_count'):\n",
    "                val = eval(val)\n",
    "            if(i == 'price'):\n",
    "                val = len(val)\n",
    "            if(i =='median_household_income'):\n",
    "                val = eval(val)\n",
    "            if(i == 'median_real_estate_value'):\n",
    "                val = eval(val)\n",
    "            if(i=='cost_of_living'):\n",
    "                val = eval(val)\n",
    "            if(i=='population_density'):\n",
    "                val = eval(val)\n",
    "            if(i=='population'):\n",
    "                val = eval(val)\n",
    "            dict[i].append(val)\n",
    "    #name = x['DBA']\n",
    "    #address = x['BUILDING'] + \" \" + x['STREET']\n",
    "    #zipcode = x['ZIPCODE']\n",
    "    #cuisine = x['CUISINE DESCRIPTION']\n",
    "    #if(len(name)>=1 and len(zipcode) >= 1 and len(address) >= 1 and len(cuisine) >= 1 and row % 10 == 0):\n",
    "    #    f.writerow([name.lower(), address.lower(), zipcode, cuisine.lower()])\n",
    "    #row = row + 1\n",
    "import matplotlib.pyplot as plt\n",
    "plt.scatter(dict['review_count'],dict['rating'])\n",
    "plt.show()\n",
    "print(numpy.corrcoef(dict['review_count'],dict['rating']))\n",
    "#for i in attrs:\n",
    "#    print(dict[i])\n",
    "print(\"Done\")"
   ]
  }
 ],
 "metadata": {
  "kernelspec": {
   "display_name": "Python 3",
   "language": "python",
   "name": "python3"
  },
  "language_info": {
   "codemirror_mode": {
    "name": "ipython",
    "version": 3
   },
   "file_extension": ".py",
   "mimetype": "text/x-python",
   "name": "python",
   "nbconvert_exporter": "python",
   "pygments_lexer": "ipython3",
   "version": "3.6.0"
  }
 },
 "nbformat": 4,
 "nbformat_minor": 2
}
