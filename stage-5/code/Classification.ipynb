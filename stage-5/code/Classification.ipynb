{
 "cells": [
  {
   "cell_type": "code",
   "execution_count": null,
   "metadata": {
    "collapsed": false
   },
   "outputs": [],
   "source": [
    "import pandas as pd\n",
    "import numpy as np\n",
    "import math\n",
    "import pylab as plt\n",
    "from sklearn import model_selection\n",
    "from sklearn import preprocessing\n",
    "from sklearn.metrics import accuracy_score\n",
    "from sklearn.model_selection import train_test_split\n",
    "from sklearn.model_selection import GridSearchCV\n",
    "from sklearn.metrics import classification_report\n",
    "from sklearn.metrics import confusion_matrix\n",
    "from sklearn.metrics import accuracy_score\n",
    "from sklearn.linear_model import LogisticRegression\n",
    "from sklearn.tree import DecisionTreeClassifier\n",
    "from sklearn.neighbors import KNeighborsClassifier\n",
    "from sklearn.discriminant_analysis import LinearDiscriminantAnalysis\n",
    "from sklearn.naive_bayes import GaussianNB\n",
    "from sklearn.svm import SVC\n",
    "import warnings\n",
    "warnings.filterwarnings('ignore')\n",
    "\n",
    "%matplotlib inline\n",
    "\n",
    "dataframe =  pd.read_csv('../data/Table_E.csv')"
   ]
  },
  {
   "cell_type": "markdown",
   "metadata": {},
   "source": [
    "# A. DATASET SUMMARY\n",
    "## 1. Peak into the data"
   ]
  },
  {
   "cell_type": "code",
   "execution_count": null,
   "metadata": {
    "collapsed": false
   },
   "outputs": [],
   "source": [
    "print(dataframe.head(3))"
   ]
  },
  {
   "cell_type": "markdown",
   "metadata": {},
   "source": [
    "## 2. Statistics"
   ]
  },
  {
   "cell_type": "code",
   "execution_count": null,
   "metadata": {
    "collapsed": false
   },
   "outputs": [],
   "source": [
    "print(dataframe.describe())"
   ]
  },
  {
   "cell_type": "markdown",
   "metadata": {},
   "source": [
    "## 3. Transforming string categorical variables to integers"
   ]
  },
  {
   "cell_type": "code",
   "execution_count": null,
   "metadata": {
    "collapsed": false
   },
   "outputs": [],
   "source": [
    "le = preprocessing.LabelEncoder()\n",
    "dataframe['violation_code'] = le.fit_transform(dataframe['violation_code'])\n",
    "dataframe['price'] = le.fit_transform(dataframe['price'])\n",
    "dataframe['critical_flag'] = le.fit_transform(dataframe['critical_flag'])\n",
    "dataframe['grade'] = le.fit_transform(dataframe['grade'])\n",
    "dataframe['neighborhood'] = le.fit_transform(dataframe['neighborhood'])\n",
    "dataframe['borough'] = le.fit_transform(dataframe['borough'])\n",
    "dataframe['rating'] = le.fit_transform(dataframe['rating'])\n",
    "\n",
    "data = dataframe.values"
   ]
  },
  {
   "cell_type": "markdown",
   "metadata": {},
   "source": [
    "## 2. Histogram Plot of attributes"
   ]
  },
  {
   "cell_type": "code",
   "execution_count": null,
   "metadata": {
    "collapsed": false
   },
   "outputs": [],
   "source": [
    "dataframe.hist(figsize=(15,12))"
   ]
  },
  {
   "cell_type": "markdown",
   "metadata": {},
   "source": [
    "# B. CLASSIFICATION"
   ]
  },
  {
   "cell_type": "code",
   "execution_count": null,
   "metadata": {
    "collapsed": false
   },
   "outputs": [],
   "source": [
    "# function that implements different classification algorithms\n",
    "def classify(X,y,name):\n",
    "    metric = 'accuracy'\n",
    "    seed = 7\n",
    "\n",
    "    # Set of all classification algorithms considered\n",
    "    models = []\n",
    "    models.append(('LR', LogisticRegression()))\n",
    "    models.append(('LDA', LinearDiscriminantAnalysis()))\n",
    "    models.append(('KNN', KNeighborsClassifier()))\n",
    "    models.append(('CART', DecisionTreeClassifier()))\n",
    "    models.append(('NB', GaussianNB()))\n",
    "    models.append(('SVM', SVC()))\n",
    "\n",
    "    # Cross-validation accuracy for different algorithms\n",
    "    names = []\n",
    "    performance = []\n",
    "    for technique, model in models:\n",
    "        k_fold = model_selection.KFold(n_splits=5, random_state=seed)\n",
    "        cv_perf = model_selection.cross_val_score(model, X, y, cv=k_fold, scoring=metric)\n",
    "        performance.append(cv_perf)\n",
    "        names.append(technique)\n",
    "        print(\"Technique:%s, Accuracy_mean: %f, Accuracy_std: %f)\" % (technique, cv_perf.mean(), cv_perf.std()))\n",
    "\n",
    "\n",
    "    # Comparison of the techniques\n",
    "    plt.figure()\n",
    "    plt.title(name)\n",
    "    plt.boxplot(performance)\n",
    "    plt.xticks(range(1,len(names)+1),names)\n",
    "    plt.ylabel('Accuracy')\n",
    "    plt.xlabel('Techniques')\n",
    "    plt.show()"
   ]
  },
  {
   "cell_type": "markdown",
   "metadata": {},
   "source": [
    "## 1. Predicting restaurant price from other attributes"
   ]
  },
  {
   "cell_type": "code",
   "execution_count": null,
   "metadata": {
    "collapsed": false
   },
   "outputs": [],
   "source": [
    "# Selection of the best classifier\n",
    "feature_attrs = [2,5,6,7,8,9,10,11,12,13,14,15,16]\n",
    "label_attrs = 4\n",
    "\n",
    "print('Predicting restaurant price from other attributes')\n",
    "print('Unique classes of the labels in the data ' , (np.unique(data[:,label_attrs])))\n",
    "X = data[:,feature_attrs]\n",
    "X_scaled = preprocessing.scale(X)\n",
    "y = list(data[:,label_attrs])\n",
    "# Train/test split\n",
    "X_train, X_test, y_train, y_test = train_test_split(X_scaled, y, test_size=0.8, random_state=0)\n",
    "classify(X_train,y_train,'Predict Restuarant Prices')"
   ]
  },
  {
   "cell_type": "markdown",
   "metadata": {},
   "source": [
    "### Best classifier is chosen as logistic regression"
   ]
  },
  {
   "cell_type": "code",
   "execution_count": null,
   "metadata": {
    "collapsed": false
   },
   "outputs": [],
   "source": [
    "# Set the parameters by cross-validation\n",
    "tuned_parameters = [{'C': [0.001, 0.01, 0.1, 1, 10, 100, 1000] }]\n",
    "\n",
    "scores = ['accuracy','precision_macro', 'recall_macro']\n",
    "\n",
    "for score in scores:\n",
    "    print(\"# Tuning hyper-parameters for %s\" % score)\n",
    "    print()\n",
    "    clf = GridSearchCV(LogisticRegression(penalty='l2'), tuned_parameters, cv=5, scoring='%s' % score)\n",
    "    clf.fit(X_train, y_train)\n",
    "    print()\n",
    "    print(\"Grid scores for the best parameter on development set:\")\n",
    "    print(\"%0.3f (+/-%0.03f) for %r\" % (clf.cv_results_['mean_test_score'][clf.best_index_], clf.cv_results_['std_test_score'][clf.best_index_], clf.cv_results_['params'][clf.best_index_]))\n",
    "\n",
    "    print(\"Classification report:\")\n",
    "    print()\n",
    "    print(\"The model is trained on the training set.\")\n",
    "    print(\"The scores are computed on the test set.\")\n",
    "    print()\n",
    "    y_true, y_pred = y_test, clf.predict(X_test)\n",
    "    print('Test set accuracy: %f '% accuracy_score(y_true, y_pred))\n",
    "    print('Test set precision, recall, f1-score, support:')\n",
    "    print(classification_report(y_true, y_pred))\n",
    "    print()\n"
   ]
  },
  {
   "cell_type": "markdown",
   "metadata": {},
   "source": [
    "## 2. Predicting restaurant rating from other attributes"
   ]
  },
  {
   "cell_type": "code",
   "execution_count": null,
   "metadata": {
    "collapsed": false
   },
   "outputs": [],
   "source": [
    "feature_attrs = [2,4,6,7,8,9,10,11,12,13,14,15,16]\n",
    "label_attrs = 5\n",
    "\n",
    "print('Predicting restaurant price from other attributes')\n",
    "print('Unique classes of the labels in the data ' , (np.unique(data[:,label_attrs])))\n",
    "X = data[:,feature_attrs]\n",
    "X_scaled = preprocessing.scale(X)\n",
    "y = list(data[:,label_attrs])\n",
    "# Train/test split\n",
    "X_train, X_test, y_train, y_test = train_test_split(X_scaled, y, test_size=0.8, random_state=0)\n",
    "classify(X_train,y_train,'Predict Restuarant Ratings')"
   ]
  },
  {
   "cell_type": "markdown",
   "metadata": {},
   "source": [
    "### Best classifier is chosen as LinearDiscriminantAnalysis"
   ]
  },
  {
   "cell_type": "code",
   "execution_count": null,
   "metadata": {
    "collapsed": false
   },
   "outputs": [],
   "source": [
    "# Set the parameters by cross-validation\n",
    "tuned_parameters = [{'solver': ['svd', 'lsqr', 'eigen'] }]\n",
    "\n",
    "scores = ['accuracy','precision_macro', 'recall_macro']\n",
    "\n",
    "for score in scores:\n",
    "    print(\"# Tuning hyper-parameters for %s\" % score)\n",
    "    print()\n",
    "    clf = GridSearchCV(LinearDiscriminantAnalysis(), tuned_parameters, cv=5, scoring='%s' % score)\n",
    "    clf.fit(X_train, y_train)\n",
    "    print()\n",
    "    print(\"Grid scores for the best parameter on development set:\")\n",
    "    print(\"%0.3f (+/-%0.03f) for %r\" % (clf.cv_results_['mean_test_score'][clf.best_index_], clf.cv_results_['std_test_score'][clf.best_index_], clf.cv_results_['params'][clf.best_index_]))\n",
    "\n",
    "    print(\"Classification report:\")\n",
    "    print()\n",
    "    print(\"The model is trained on the training set.\")\n",
    "    print(\"The scores are computed on the test set.\")\n",
    "    print()\n",
    "    y_true, y_pred = y_test, clf.predict(X_test)\n",
    "    print('Test set accuracy: %f '% accuracy_score(y_true, y_pred))\n",
    "    print('Test set precision, recall, f1-score, support:')\n",
    "    print(classification_report(y_true, y_pred))\n",
    "    print()\n"
   ]
  },
  {
   "cell_type": "markdown",
   "metadata": {},
   "source": [
    "## 3. Predicting critical flag from other attributes"
   ]
  },
  {
   "cell_type": "code",
   "execution_count": null,
   "metadata": {
    "collapsed": false
   },
   "outputs": [],
   "source": [
    "feature_attrs = [2,5,6,7,4,9,10,11,12,13,14,15,16]\n",
    "label_attrs = 8\n",
    "\n",
    "print('Predicting restaurant price from other attributes')\n",
    "print('Unique classes of the labels in the data ' , (np.unique(data[:,label_attrs])))\n",
    "X = data[:,feature_attrs]\n",
    "X_scaled = preprocessing.scale(X)\n",
    "y = list(data[:,label_attrs])\n",
    "# Train/test split\n",
    "X_train, X_test, y_train, y_test = train_test_split(X_scaled, y, test_size=0.8, random_state=0)\n",
    "classify(X_train,y_train,'Predict Restuarant Critical Flag')"
   ]
  },
  {
   "cell_type": "markdown",
   "metadata": {},
   "source": [
    "### Best classifier is chosen as Decision Trees"
   ]
  },
  {
   "cell_type": "code",
   "execution_count": null,
   "metadata": {
    "collapsed": false
   },
   "outputs": [],
   "source": [
    "# Set the parameters by cross-validation\n",
    "tuned_parameters = [{'max_depth':range(3,20),\n",
    "                    'criterion':['gini','entropy']}]\n",
    "\n",
    "scores = ['accuracy','precision_macro', 'recall_macro']\n",
    "\n",
    "for score in scores:\n",
    "    print(\"# Tuning hyper-parameters for %s\" % score)\n",
    "    print()\n",
    "    clf = GridSearchCV(DecisionTreeClassifier(), tuned_parameters, cv=5, scoring='%s' % score)\n",
    "    clf.fit(X_train, y_train)\n",
    "    print()\n",
    "    print(\"Grid scores for the best parameter on development set:\")\n",
    "    print(\"%0.3f (+/-%0.03f) for %r\" % (clf.cv_results_['mean_test_score'][clf.best_index_], clf.cv_results_['std_test_score'][clf.best_index_], clf.cv_results_['params'][clf.best_index_]))\n",
    "\n",
    "    print(\"Classification report:\")\n",
    "    print()\n",
    "    print(\"The model is trained on the training set.\")\n",
    "    print(\"The scores are computed on the test set.\")\n",
    "    print()\n",
    "    y_true, y_pred = y_test, clf.predict(X_test)\n",
    "    print('Test set accuracy: %f '% accuracy_score(y_true, y_pred))\n",
    "    print('Test set precision, recall, f1-score, support:')\n",
    "    print(classification_report(y_true, y_pred))\n",
    "    print()\n"
   ]
  },
  {
   "cell_type": "markdown",
   "metadata": {},
   "source": [
    "## 4. Predicting borough from other attributes"
   ]
  },
  {
   "cell_type": "code",
   "execution_count": null,
   "metadata": {
    "collapsed": false
   },
   "outputs": [],
   "source": [
    "feature_attrs = [2,5,6,7,4,9,10,11,12,13,14,15,8]\n",
    "label_attrs = 16\n",
    "\n",
    "print('Predicting restaurant price from other attributes')\n",
    "print('Unique classes of the labels in the data ' , (np.unique(data[:,label_attrs])))\n",
    "X = data[:,feature_attrs]\n",
    "X_scaled = preprocessing.scale(X)\n",
    "y = list(data[:,label_attrs])\n",
    "# Train/test split\n",
    "X_train, X_test, y_train, y_test = train_test_split(X_scaled, y, test_size=0.8, random_state=0)\n",
    "classify(X_train,y_train,'Predict borough of the Restuarant')"
   ]
  },
  {
   "cell_type": "markdown",
   "metadata": {
    "collapsed": true
   },
   "source": [
    "### Best classifier is chosen as Decision Trees"
   ]
  },
  {
   "cell_type": "code",
   "execution_count": null,
   "metadata": {
    "collapsed": false
   },
   "outputs": [],
   "source": [
    "# Set the parameters by cross-validation\n",
    "tuned_parameters = [{'max_depth':range(3,20),\n",
    "                    'criterion':['gini','entropy']}]\n",
    "\n",
    "scores = ['accuracy','precision_macro', 'recall_macro']\n",
    "\n",
    "for score in scores:\n",
    "    print(\"# Tuning hyper-parameters for %s\" % score)\n",
    "    print()\n",
    "    clf = GridSearchCV(DecisionTreeClassifier(), tuned_parameters, cv=5, scoring='%s' % score)\n",
    "    clf.fit(X_train, y_train)\n",
    "    print()\n",
    "    print(\"Grid scores for the best parameter on development set:\")\n",
    "    print(\"%0.3f (+/-%0.03f) for %r\" % (clf.cv_results_['mean_test_score'][clf.best_index_], clf.cv_results_['std_test_score'][clf.best_index_], clf.cv_results_['params'][clf.best_index_]))\n",
    "\n",
    "    print(\"Classification report:\")\n",
    "    print()\n",
    "    print(\"The model is trained on the training set.\")\n",
    "    print(\"The scores are computed on the test set.\")\n",
    "    print()\n",
    "    y_true, y_pred = y_test, clf.predict(X_test)\n",
    "    print('Test set accuracy: %f '% accuracy_score(y_true, y_pred))\n",
    "    print('Test set precision, recall, f1-score, support:')\n",
    "    print(classification_report(y_true, y_pred))\n",
    "    print()\n"
   ]
  }
 ],
 "metadata": {
  "kernelspec": {
   "display_name": "Python 3",
   "language": "python",
   "name": "python3"
  },
  "language_info": {
   "codemirror_mode": {
    "name": "ipython",
    "version": 3
   },
   "file_extension": ".py",
   "mimetype": "text/x-python",
   "name": "python",
   "nbconvert_exporter": "python",
   "pygments_lexer": "ipython3",
   "version": "3.6.0"
  }
 },
 "nbformat": 4,
 "nbformat_minor": 2
}
