{
 "cells": [
  {
   "cell_type": "code",
   "execution_count": 1,
   "metadata": {
    "collapsed": false
   },
   "outputs": [],
   "source": [
    "import pandas as pd\n",
    "import numpy as np\n",
    "import math\n",
    "import pylab as plt\n",
    "from sklearn import model_selection\n",
    "from sklearn import preprocessing\n",
    "from sklearn.metrics import accuracy_score\n",
    "from sklearn.model_selection import train_test_split\n",
    "from sklearn.model_selection import GridSearchCV\n",
    "from sklearn.metrics import classification_report\n",
    "from sklearn.metrics import confusion_matrix\n",
    "from sklearn.metrics import accuracy_score\n",
    "from sklearn.linear_model import LogisticRegression\n",
    "from sklearn.tree import DecisionTreeClassifier\n",
    "from sklearn.neighbors import KNeighborsClassifier\n",
    "from sklearn.discriminant_analysis import LinearDiscriminantAnalysis\n",
    "from sklearn.naive_bayes import GaussianNB\n",
    "from sklearn.svm import SVC\n",
    "import warnings\n",
    "warnings.filterwarnings('ignore')\n",
    "\n",
    "%matplotlib inline\n",
    "\n",
    "dataframe =  pd.read_csv('../data/Table_E.csv')"
   ]
  },
  {
   "cell_type": "markdown",
   "metadata": {},
   "source": [
    "# A. DATASET SUMMARY\n",
    "## 1. Peak into the data"
   ]
  },
  {
   "cell_type": "code",
   "execution_count": 2,
   "metadata": {
    "collapsed": false
   },
   "outputs": [
    {
     "name": "stdout",
     "output_type": "stream",
     "text": [
      "              name                  address  zipcode  \\\n",
      "0          juniper           237 w 35th st,    10001   \n",
      "1      izakaya mew  53 w 35th st, basement,    10001   \n",
      "2  chelsea station             290 8th ave,    10001   \n",
      "\n",
      "                          cuisine price  rating  review_count violation_code  \\\n",
      "0                   bars american    $$     4.0           180            06C   \n",
      "1                   bars japanese    $$     4.0          1232            06C   \n",
      "2  mediterranean italian american    $$     4.0            25            02G   \n",
      "\n",
      "  critical_flag grade  median_household_income  median_real_estate_value  \\\n",
      "0      Critical     A                    81671                    650200   \n",
      "1      Critical     B                    81671                    650200   \n",
      "2      Critical     Z                    81671                    650200   \n",
      "\n",
      "   population_density  cost_of_living  population         neighborhood  \\\n",
      "0               35350           157.4       21966  Chelsea and Clinton   \n",
      "1               35350           157.4       21966  Chelsea and Clinton   \n",
      "2               35350           157.4       21966  Chelsea and Clinton   \n",
      "\n",
      "     borough  \n",
      "0  Manhattan  \n",
      "1  Manhattan  \n",
      "2  Manhattan  \n"
     ]
    }
   ],
   "source": [
    "print(dataframe.head(3))"
   ]
  },
  {
   "cell_type": "markdown",
   "metadata": {},
   "source": [
    "## 2. Statistics"
   ]
  },
  {
   "cell_type": "code",
   "execution_count": 3,
   "metadata": {
    "collapsed": false
   },
   "outputs": [
    {
     "name": "stdout",
     "output_type": "stream",
     "text": [
      "            zipcode       rating  review_count  median_household_income  \\\n",
      "count   5560.000000  5560.000000   5560.000000              5560.000000   \n",
      "mean   10730.568525     3.596223    120.814568             64329.035971   \n",
      "std      577.140012     0.732660    231.550470             28443.900208   \n",
      "min    10001.000000     1.000000      1.000000             20232.000000   \n",
      "25%    10029.000000     3.000000     14.000000             43398.000000   \n",
      "50%    11105.000000     3.500000     49.000000             57525.000000   \n",
      "75%    11229.000000     4.000000    138.000000             82332.000000   \n",
      "max    11435.000000     5.000000   5147.000000            230952.000000   \n",
      "\n",
      "       median_real_estate_value  population_density  cost_of_living  \\\n",
      "count              5.560000e+03         5560.000000     5560.000000   \n",
      "mean               6.100510e+05        50517.521043      159.687680   \n",
      "std                2.145011e+05        30005.150638        7.106094   \n",
      "min                7.600000e+04         1213.000000      128.800000   \n",
      "25%                4.411000e+05        27558.000000      155.300000   \n",
      "50%                5.988000e+05        46936.000000      159.400000   \n",
      "75%                7.596000e+05        66957.000000      163.700000   \n",
      "max                1.000001e+06       140990.000000      186.200000   \n",
      "\n",
      "          population  \n",
      "count    5560.000000  \n",
      "mean    55211.378777  \n",
      "std     24869.524217  \n",
      "min      2807.000000  \n",
      "25%     34751.000000  \n",
      "50%     55478.000000  \n",
      "75%     74630.000000  \n",
      "max    107962.000000  \n"
     ]
    }
   ],
   "source": [
    "print(dataframe.describe())"
   ]
  },
  {
   "cell_type": "markdown",
   "metadata": {},
   "source": [
    "## 3. Transforming string categorical variables to integers"
   ]
  },
  {
   "cell_type": "code",
   "execution_count": 4,
   "metadata": {
    "collapsed": false
   },
   "outputs": [],
   "source": [
    "le = preprocessing.LabelEncoder()\n",
    "dataframe['violation_code'] = le.fit_transform(dataframe['violation_code'])\n",
    "dataframe['price'] = le.fit_transform(dataframe['price'])\n",
    "dataframe['critical_flag'] = le.fit_transform(dataframe['critical_flag'])\n",
    "dataframe['grade'] = le.fit_transform(dataframe['grade'])\n",
    "dataframe['neighborhood'] = le.fit_transform(dataframe['neighborhood'])\n",
    "dataframe['borough'] = le.fit_transform(dataframe['borough'])\n",
    "dataframe['rating'] = le.fit_transform(dataframe['rating'])\n",
    "\n",
    "data = dataframe.values"
   ]
  },
  {
   "cell_type": "markdown",
   "metadata": {},
   "source": [
    "## 2. Histogram Plot of attributes"
   ]
  },
  {
   "cell_type": "code",
   "execution_count": 5,
   "metadata": {
    "collapsed": false
   },
   "outputs": [
    {
     "data": {
      "text/plain": [
       "array([[<matplotlib.axes._subplots.AxesSubplot object at 0x118124668>,\n",
       "        <matplotlib.axes._subplots.AxesSubplot object at 0x11beeda58>,\n",
       "        <matplotlib.axes._subplots.AxesSubplot object at 0x11bf00f28>,\n",
       "        <matplotlib.axes._subplots.AxesSubplot object at 0x11bfb2e10>],\n",
       "       [<matplotlib.axes._subplots.AxesSubplot object at 0x11bfd6fd0>,\n",
       "        <matplotlib.axes._subplots.AxesSubplot object at 0x11bfd6c50>,\n",
       "        <matplotlib.axes._subplots.AxesSubplot object at 0x11c0dd9b0>,\n",
       "        <matplotlib.axes._subplots.AxesSubplot object at 0x11c138208>],\n",
       "       [<matplotlib.axes._subplots.AxesSubplot object at 0x11c19d518>,\n",
       "        <matplotlib.axes._subplots.AxesSubplot object at 0x11c1fa080>,\n",
       "        <matplotlib.axes._subplots.AxesSubplot object at 0x11c2610b8>,\n",
       "        <matplotlib.axes._subplots.AxesSubplot object at 0x11c2b3e80>],\n",
       "       [<matplotlib.axes._subplots.AxesSubplot object at 0x11c31afd0>,\n",
       "        <matplotlib.axes._subplots.AxesSubplot object at 0x11c375cc0>,\n",
       "        <matplotlib.axes._subplots.AxesSubplot object at 0x11c3e5128>,\n",
       "        <matplotlib.axes._subplots.AxesSubplot object at 0x11c432b00>]], dtype=object)"
      ]
     },
     "execution_count": 5,
     "metadata": {},
     "output_type": "execute_result"
    },
    {
     "data": {
      "image/png": "[encoded data removed]",
      "text/plain": [
       "<matplotlib.figure.Figure at 0x10d9387b8>"
      ]
     },
     "metadata": {},
     "output_type": "display_data"
    }
   ],
   "source": [
    "dataframe.hist(figsize=(15,12))"
   ]
  },
  {
   "cell_type": "markdown",
   "metadata": {},
   "source": [
    "# B. CLASSIFICATION"
   ]
  },
  {
   "cell_type": "code",
   "execution_count": 6,
   "metadata": {
    "collapsed": false
   },
   "outputs": [],
   "source": [
    "# function that implements different classification algorithms\n",
    "def classify(X,y,name):\n",
    "    metric = 'accuracy'\n",
    "    seed = 7\n",
    "\n",
    "    # Set of all classification algorithms considered\n",
    "    models = []\n",
    "    models.append(('LR', LogisticRegression()))\n",
    "    models.append(('LDA', LinearDiscriminantAnalysis()))\n",
    "    models.append(('KNN', KNeighborsClassifier()))\n",
    "    models.append(('CART', DecisionTreeClassifier()))\n",
    "    models.append(('NB', GaussianNB()))\n",
    "    models.append(('SVM', SVC()))\n",
    "\n",
    "    # Cross-validation accuracy for different algorithms\n",
    "    names = []\n",
    "    performance = []\n",
    "    for technique, model in models:\n",
    "        k_fold = model_selection.KFold(n_splits=5, random_state=seed)\n",
    "        cv_perf = model_selection.cross_val_score(model, X, y, cv=k_fold, scoring=metric)\n",
    "        performance.append(cv_perf)\n",
    "        names.append(technique)\n",
    "        print(\"Technique:%s, Accuracy_mean: %f, Accuracy_std: %f)\" % (technique, cv_perf.mean(), cv_perf.std()))\n",
    "\n",
    "\n",
    "    # Comparison of the techniques\n",
    "    plt.figure()\n",
    "    plt.title(name)\n",
    "    plt.boxplot(performance)\n",
    "    plt.xticks(range(1,len(names)+1),names)\n",
    "    plt.ylabel('Accuracy')\n",
    "    plt.xlabel('Techniques')\n",
    "    plt.show()"
   ]
  },
  {
   "cell_type": "markdown",
   "metadata": {},
   "source": [
    "## 1. Predicting restaurant price from other attributes"
   ]
  },
  {
   "cell_type": "code",
   "execution_count": 7,
   "metadata": {
    "collapsed": false
   },
   "outputs": [
    {
     "name": "stdout",
     "output_type": "stream",
     "text": [
      "Predicting restaurant price from other attributes\n",
      "Unique classes of the labels in the data  [0 1 2 3]\n",
      "Technique:LR, Accuracy_mean: 0.654652, Accuracy_std: 0.024036)\n",
      "Technique:LDA, Accuracy_mean: 0.604319, Accuracy_std: 0.015247)\n",
      "Technique:KNN, Accuracy_mean: 0.556680, Accuracy_std: 0.027086)\n",
      "Technique:CART, Accuracy_mean: 0.573749, Accuracy_std: 0.020439)\n",
      "Technique:NB, Accuracy_mean: 0.392991, Accuracy_std: 0.067657)\n",
      "Technique:SVM, Accuracy_mean: 0.621391, Accuracy_std: 0.022305)\n"
     ]
    },
    {
     "data": {
      "image/png": "[encoded data removed]",
      "text/plain": [
       "<matplotlib.figure.Figure at 0x11c537b38>"
      ]
     },
     "metadata": {},
     "output_type": "display_data"
    }
   ],
   "source": [
    "# Selection of the best classifier\n",
    "feature_attrs = [2,5,6,7,8,9,10,11,12,13,14,15,16]\n",
    "label_attrs = 4\n",
    "\n",
    "print('Predicting restaurant price from other attributes')\n",
    "print('Unique classes of the labels in the data ' , (np.unique(data[:,label_attrs])))\n",
    "X = data[:,feature_attrs]\n",
    "X_scaled = preprocessing.scale(X)\n",
    "y = list(data[:,label_attrs])\n",
    "# Train/test split\n",
    "X_train, X_test, y_train, y_test = train_test_split(X_scaled, y, test_size=0.8, random_state=0)\n",
    "classify(X_train,y_train,'Predict Restuarant Prices')"
   ]
  },
  {
   "cell_type": "markdown",
   "metadata": {},
   "source": [
    "### Best classifier is chosen as logistic regression"
   ]
  },
  {
   "cell_type": "code",
   "execution_count": 8,
   "metadata": {
    "collapsed": false
   },
   "outputs": [
    {
     "name": "stdout",
     "output_type": "stream",
     "text": [
      "# Tuning hyper-parameters for accuracy\n",
      "\n",
      "\n",
      "Grid scores for the best parameter on development set:\n",
      "0.661 (+/-0.010) for {'C': 10}\n",
      "Classification report:\n",
      "\n",
      "The model is trained on the training set.\n",
      "The scores are computed on the test set.\n",
      "\n",
      "Test set accuracy: 0.621628 \n",
      "Test set precision, recall, f1-score, support:\n",
      "             precision    recall  f1-score   support\n",
      "\n",
      "          0       0.58      0.67      0.62      1813\n",
      "          1       0.65      0.66      0.66      2361\n",
      "          2       0.00      0.00      0.00       233\n",
      "          3       0.00      0.00      0.00        41\n",
      "\n",
      "avg / total       0.59      0.62      0.60      4448\n",
      "\n",
      "\n",
      "# Tuning hyper-parameters for precision_macro\n",
      "\n",
      "\n",
      "Grid scores for the best parameter on development set:\n",
      "0.331 (+/-0.005) for {'C': 10}\n",
      "Classification report:\n",
      "\n",
      "The model is trained on the training set.\n",
      "The scores are computed on the test set.\n",
      "\n",
      "Test set accuracy: 0.621628 \n",
      "Test set precision, recall, f1-score, support:\n",
      "             precision    recall  f1-score   support\n",
      "\n",
      "          0       0.58      0.67      0.62      1813\n",
      "          1       0.65      0.66      0.66      2361\n",
      "          2       0.00      0.00      0.00       233\n",
      "          3       0.00      0.00      0.00        41\n",
      "\n",
      "avg / total       0.59      0.62      0.60      4448\n",
      "\n",
      "\n",
      "# Tuning hyper-parameters for recall_macro\n",
      "\n",
      "\n",
      "Grid scores for the best parameter on development set:\n",
      "0.355 (+/-0.007) for {'C': 10}\n",
      "Classification report:\n",
      "\n",
      "The model is trained on the training set.\n",
      "The scores are computed on the test set.\n",
      "\n",
      "Test set accuracy: 0.621628 \n",
      "Test set precision, recall, f1-score, support:\n",
      "             precision    recall  f1-score   support\n",
      "\n",
      "          0       0.58      0.67      0.62      1813\n",
      "          1       0.65      0.66      0.66      2361\n",
      "          2       0.00      0.00      0.00       233\n",
      "          3       0.00      0.00      0.00        41\n",
      "\n",
      "avg / total       0.59      0.62      0.60      4448\n",
      "\n",
      "\n"
     ]
    }
   ],
   "source": [
    "# Set the parameters by cross-validation\n",
    "tuned_parameters = [{'C': [0.001, 0.01, 0.1, 1, 10, 100, 1000] }]\n",
    "\n",
    "scores = ['accuracy','precision_macro', 'recall_macro']\n",
    "\n",
    "for score in scores:\n",
    "    print(\"# Tuning hyper-parameters for %s\" % score)\n",
    "    print()\n",
    "    clf = GridSearchCV(LogisticRegression(penalty='l2'), tuned_parameters, cv=5, scoring='%s' % score)\n",
    "    clf.fit(X_train, y_train)\n",
    "    print()\n",
    "    print(\"Grid scores for the best parameter on development set:\")\n",
    "    print(\"%0.3f (+/-%0.03f) for %r\" % (clf.cv_results_['mean_test_score'][clf.best_index_], clf.cv_results_['std_test_score'][clf.best_index_], clf.cv_results_['params'][clf.best_index_]))\n",
    "\n",
    "    print(\"Classification report:\")\n",
    "    print()\n",
    "    print(\"The model is trained on the training set.\")\n",
    "    print(\"The scores are computed on the test set.\")\n",
    "    print()\n",
    "    y_true, y_pred = y_test, clf.predict(X_test)\n",
    "    print('Test set accuracy: %f '% accuracy_score(y_true, y_pred))\n",
    "    print('Test set precision, recall, f1-score, support:')\n",
    "    print(classification_report(y_true, y_pred))\n",
    "    print()\n"
   ]
  },
  {
   "cell_type": "markdown",
   "metadata": {},
   "source": [
    "## 2. Predicting restaurant rating from other attributes"
   ]
  },
  {
   "cell_type": "code",
   "execution_count": 9,
   "metadata": {
    "collapsed": false
   },
   "outputs": [
    {
     "name": "stdout",
     "output_type": "stream",
     "text": [
      "Predicting restaurant price from other attributes\n",
      "Unique classes of the labels in the data  [0 1 2 3 4 5 6 7 8]\n",
      "Technique:LR, Accuracy_mean: 0.340811, Accuracy_std: 0.022341)\n",
      "Technique:LDA, Accuracy_mean: 0.333612, Accuracy_std: 0.019802)\n",
      "Technique:KNN, Accuracy_mean: 0.261698, Accuracy_std: 0.026694)\n",
      "Technique:CART, Accuracy_mean: 0.227500, Accuracy_std: 0.029663)\n",
      "Technique:NB, Accuracy_mean: 0.223920, Accuracy_std: 0.016640)\n",
      "Technique:SVM, Accuracy_mean: 0.328215, Accuracy_std: 0.021471)\n"
     ]
    },
    {
     "data": {
      "image/png": "[encoded data removed]",
      "text/plain": [
       "<matplotlib.figure.Figure at 0x11cba9f28>"
      ]
     },
     "metadata": {},
     "output_type": "display_data"
    }
   ],
   "source": [
    "feature_attrs = [2,4,6,7,8,9,10,11,12,13,14,15,16]\n",
    "label_attrs = 5\n",
    "\n",
    "print('Predicting restaurant price from other attributes')\n",
    "print('Unique classes of the labels in the data ' , (np.unique(data[:,label_attrs])))\n",
    "X = data[:,feature_attrs]\n",
    "X_scaled = preprocessing.scale(X)\n",
    "y = list(data[:,label_attrs])\n",
    "# Train/test split\n",
    "X_train, X_test, y_train, y_test = train_test_split(X_scaled, y, test_size=0.8, random_state=0)\n",
    "classify(X_train,y_train,'Predict Restuarant Ratings')"
   ]
  },
  {
   "cell_type": "markdown",
   "metadata": {},
   "source": [
    "### Best classifier is chosen as Logistic Regression"
   ]
  },
  {
   "cell_type": "code",
   "execution_count": 10,
   "metadata": {
    "collapsed": false
   },
   "outputs": [
    {
     "name": "stdout",
     "output_type": "stream",
     "text": [
      "# Tuning hyper-parameters for accuracy\n",
      "\n",
      "\n",
      "Grid scores for the best parameter on development set:\n",
      "0.353 (+/-0.017) for {'C': 0.1}\n",
      "Classification report:\n",
      "\n",
      "The model is trained on the training set.\n",
      "The scores are computed on the test set.\n",
      "\n",
      "Test set accuracy: 0.318570 \n",
      "Test set precision, recall, f1-score, support:\n",
      "             precision    recall  f1-score   support\n",
      "\n",
      "          0       0.00      0.00      0.00        34\n",
      "          1       0.00      0.00      0.00        59\n",
      "          2       0.00      0.00      0.00       139\n",
      "          3       0.00      0.00      0.00       300\n",
      "          4       0.18      0.16      0.17       594\n",
      "          5       0.28      0.13      0.17      1186\n",
      "          6       0.35      0.81      0.49      1437\n",
      "          7       0.00      0.00      0.00       596\n",
      "          8       0.00      0.00      0.00       103\n",
      "\n",
      "avg / total       0.21      0.32      0.23      4448\n",
      "\n",
      "\n",
      "# Tuning hyper-parameters for precision_macro\n",
      "\n",
      "\n",
      "Grid scores for the best parameter on development set:\n",
      "0.101 (+/-0.014) for {'C': 0.001}\n",
      "Classification report:\n",
      "\n",
      "The model is trained on the training set.\n",
      "The scores are computed on the test set.\n",
      "\n",
      "Test set accuracy: 0.308453 \n",
      "Test set precision, recall, f1-score, support:\n",
      "             precision    recall  f1-score   support\n",
      "\n",
      "          0       0.00      0.00      0.00        34\n",
      "          1       0.00      0.00      0.00        59\n",
      "          2       0.00      0.00      0.00       139\n",
      "          3       0.00      0.00      0.00       300\n",
      "          4       0.17      0.29      0.22       594\n",
      "          5       0.27      0.09      0.14      1186\n",
      "          6       0.36      0.76      0.49      1437\n",
      "          7       0.00      0.00      0.00       596\n",
      "          8       0.00      0.00      0.00       103\n",
      "\n",
      "avg / total       0.21      0.31      0.22      4448\n",
      "\n",
      "\n",
      "# Tuning hyper-parameters for recall_macro\n",
      "\n",
      "\n",
      "Grid scores for the best parameter on development set:\n",
      "0.138 (+/-0.015) for {'C': 0.001}\n",
      "Classification report:\n",
      "\n",
      "The model is trained on the training set.\n",
      "The scores are computed on the test set.\n",
      "\n",
      "Test set accuracy: 0.308453 \n",
      "Test set precision, recall, f1-score, support:\n",
      "             precision    recall  f1-score   support\n",
      "\n",
      "          0       0.00      0.00      0.00        34\n",
      "          1       0.00      0.00      0.00        59\n",
      "          2       0.00      0.00      0.00       139\n",
      "          3       0.00      0.00      0.00       300\n",
      "          4       0.17      0.29      0.22       594\n",
      "          5       0.27      0.09      0.14      1186\n",
      "          6       0.36      0.76      0.49      1437\n",
      "          7       0.00      0.00      0.00       596\n",
      "          8       0.00      0.00      0.00       103\n",
      "\n",
      "avg / total       0.21      0.31      0.22      4448\n",
      "\n",
      "\n"
     ]
    }
   ],
   "source": [
    "# Set the parameters by cross-validation\n",
    "tuned_parameters = [{'C': [0.001, 0.01, 0.1, 1, 10, 100, 1000] }]\n",
    "\n",
    "scores = ['accuracy','precision_macro', 'recall_macro']\n",
    "\n",
    "for score in scores:\n",
    "    print(\"# Tuning hyper-parameters for %s\" % score)\n",
    "    print()\n",
    "    clf = GridSearchCV(LogisticRegression(penalty='l2'), tuned_parameters, cv=5, scoring='%s' % score)\n",
    "    clf.fit(X_train, y_train)\n",
    "    print()\n",
    "    print(\"Grid scores for the best parameter on development set:\")\n",
    "    print(\"%0.3f (+/-%0.03f) for %r\" % (clf.cv_results_['mean_test_score'][clf.best_index_], clf.cv_results_['std_test_score'][clf.best_index_], clf.cv_results_['params'][clf.best_index_]))\n",
    "\n",
    "    print(\"Classification report:\")\n",
    "    print()\n",
    "    print(\"The model is trained on the training set.\")\n",
    "    print(\"The scores are computed on the test set.\")\n",
    "    print()\n",
    "    y_true, y_pred = y_test, clf.predict(X_test)\n",
    "    print('Test set accuracy: %f '% accuracy_score(y_true, y_pred))\n",
    "    print('Test set precision, recall, f1-score, support:')\n",
    "    print(classification_report(y_true, y_pred))\n",
    "    print()\n"
   ]
  },
  {
   "cell_type": "markdown",
   "metadata": {},
   "source": [
    "## 3. Predicting critical flag from other attributes"
   ]
  },
  {
   "cell_type": "code",
   "execution_count": 11,
   "metadata": {
    "collapsed": false
   },
   "outputs": [
    {
     "name": "stdout",
     "output_type": "stream",
     "text": [
      "Predicting restaurant price from other attributes\n",
      "Unique classes of the labels in the data  [0 1]\n",
      "Technique:LR, Accuracy_mean: 0.989209, Accuracy_std: 0.010104)\n",
      "Technique:LDA, Accuracy_mean: 0.957726, Accuracy_std: 0.007879)\n",
      "Technique:KNN, Accuracy_mean: 0.806629, Accuracy_std: 0.024116)\n",
      "Technique:CART, Accuracy_mean: 1.000000, Accuracy_std: 0.000000)\n",
      "Technique:NB, Accuracy_mean: 0.933434, Accuracy_std: 0.024900)\n",
      "Technique:SVM, Accuracy_mean: 0.929847, Accuracy_std: 0.010149)\n"
     ]
    },
    {
     "data": {
      "image/png": "[encoded data removed]",
      "text/plain": [
       "<matplotlib.figure.Figure at 0x11c57a160>"
      ]
     },
     "metadata": {},
     "output_type": "display_data"
    }
   ],
   "source": [
    "feature_attrs = [2,5,6,7,4,9,10,11,12,13,14,15,16]\n",
    "label_attrs = 8\n",
    "\n",
    "print('Predicting restaurant price from other attributes')\n",
    "print('Unique classes of the labels in the data ' , (np.unique(data[:,label_attrs])))\n",
    "X = data[:,feature_attrs]\n",
    "X_scaled = preprocessing.scale(X)\n",
    "y = list(data[:,label_attrs])\n",
    "# Train/test split\n",
    "X_train, X_test, y_train, y_test = train_test_split(X_scaled, y, test_size=0.8, random_state=0)\n",
    "classify(X_train,y_train,'Predict Restuarant Critical Flag')"
   ]
  },
  {
   "cell_type": "markdown",
   "metadata": {},
   "source": [
    "### Best classifier is chosen as Decision Trees"
   ]
  },
  {
   "cell_type": "code",
   "execution_count": 12,
   "metadata": {
    "collapsed": false
   },
   "outputs": [
    {
     "name": "stdout",
     "output_type": "stream",
     "text": [
      "# Tuning hyper-parameters for accuracy\n",
      "\n",
      "\n",
      "Grid scores for the best parameter on development set:\n",
      "1.000 (+/-0.000) for {'criterion': 'gini', 'max_depth': 3}\n",
      "Classification report:\n",
      "\n",
      "The model is trained on the training set.\n",
      "The scores are computed on the test set.\n",
      "\n",
      "Test set accuracy: 1.000000 \n",
      "Test set precision, recall, f1-score, support:\n",
      "             precision    recall  f1-score   support\n",
      "\n",
      "          0       1.00      1.00      1.00      2383\n",
      "          1       1.00      1.00      1.00      2065\n",
      "\n",
      "avg / total       1.00      1.00      1.00      4448\n",
      "\n",
      "\n",
      "# Tuning hyper-parameters for precision_macro\n",
      "\n",
      "\n",
      "Grid scores for the best parameter on development set:\n",
      "1.000 (+/-0.000) for {'criterion': 'gini', 'max_depth': 3}\n",
      "Classification report:\n",
      "\n",
      "The model is trained on the training set.\n",
      "The scores are computed on the test set.\n",
      "\n",
      "Test set accuracy: 1.000000 \n",
      "Test set precision, recall, f1-score, support:\n",
      "             precision    recall  f1-score   support\n",
      "\n",
      "          0       1.00      1.00      1.00      2383\n",
      "          1       1.00      1.00      1.00      2065\n",
      "\n",
      "avg / total       1.00      1.00      1.00      4448\n",
      "\n",
      "\n",
      "# Tuning hyper-parameters for recall_macro\n",
      "\n",
      "\n",
      "Grid scores for the best parameter on development set:\n",
      "1.000 (+/-0.000) for {'criterion': 'gini', 'max_depth': 3}\n",
      "Classification report:\n",
      "\n",
      "The model is trained on the training set.\n",
      "The scores are computed on the test set.\n",
      "\n",
      "Test set accuracy: 1.000000 \n",
      "Test set precision, recall, f1-score, support:\n",
      "             precision    recall  f1-score   support\n",
      "\n",
      "          0       1.00      1.00      1.00      2383\n",
      "          1       1.00      1.00      1.00      2065\n",
      "\n",
      "avg / total       1.00      1.00      1.00      4448\n",
      "\n",
      "\n"
     ]
    }
   ],
   "source": [
    "# Set the parameters by cross-validation\n",
    "tuned_parameters = [{'max_depth':range(3,20),\n",
    "                    'criterion':['gini','entropy']}]\n",
    "\n",
    "scores = ['accuracy','precision_macro', 'recall_macro']\n",
    "\n",
    "for score in scores:\n",
    "    print(\"# Tuning hyper-parameters for %s\" % score)\n",
    "    print()\n",
    "    clf = GridSearchCV(DecisionTreeClassifier(), tuned_parameters, cv=5, scoring='%s' % score)\n",
    "    clf.fit(X_train, y_train)\n",
    "    print()\n",
    "    print(\"Grid scores for the best parameter on development set:\")\n",
    "    print(\"%0.3f (+/-%0.03f) for %r\" % (clf.cv_results_['mean_test_score'][clf.best_index_], clf.cv_results_['std_test_score'][clf.best_index_], clf.cv_results_['params'][clf.best_index_]))\n",
    "\n",
    "    print(\"Classification report:\")\n",
    "    print()\n",
    "    print(\"The model is trained on the training set.\")\n",
    "    print(\"The scores are computed on the test set.\")\n",
    "    print()\n",
    "    y_true, y_pred = y_test, clf.predict(X_test)\n",
    "    print('Test set accuracy: %f '% accuracy_score(y_true, y_pred))\n",
    "    print('Test set precision, recall, f1-score, support:')\n",
    "    print(classification_report(y_true, y_pred))\n",
    "    print()\n"
   ]
  },
  {
   "cell_type": "markdown",
   "metadata": {},
   "source": [
    "## 4. Predicting borough from other attributes"
   ]
  },
  {
   "cell_type": "code",
   "execution_count": 13,
   "metadata": {
    "collapsed": false
   },
   "outputs": [
    {
     "name": "stdout",
     "output_type": "stream",
     "text": [
      "Predicting restaurant price from other attributes\n",
      "Unique classes of the labels in the data  [0 1 2 3 4]\n",
      "Technique:LR, Accuracy_mean: 0.914564, Accuracy_std: 0.014797)\n",
      "Technique:LDA, Accuracy_mean: 0.956817, Accuracy_std: 0.011656)\n",
      "Technique:KNN, Accuracy_mean: 0.886709, Accuracy_std: 0.017483)\n",
      "Technique:CART, Accuracy_mean: 1.000000, Accuracy_std: 0.000000)\n",
      "Technique:NB, Accuracy_mean: 0.999103, Accuracy_std: 0.001794)\n",
      "Technique:SVM, Accuracy_mean: 0.926255, Accuracy_std: 0.013256)\n"
     ]
    },
    {
     "data": {
      "image/png": "[encoded data removed]",
      "text/plain": [
       "<matplotlib.figure.Figure at 0x11d9be240>"
      ]
     },
     "metadata": {},
     "output_type": "display_data"
    }
   ],
   "source": [
    "feature_attrs = [2,5,6,7,4,9,10,11,12,13,14,15,8]\n",
    "label_attrs = 16\n",
    "\n",
    "print('Predicting restaurant price from other attributes')\n",
    "print('Unique classes of the labels in the data ' , (np.unique(data[:,label_attrs])))\n",
    "X = data[:,feature_attrs]\n",
    "X_scaled = preprocessing.scale(X)\n",
    "y = list(data[:,label_attrs])\n",
    "# Train/test split\n",
    "X_train, X_test, y_train, y_test = train_test_split(X_scaled, y, test_size=0.8, random_state=0)\n",
    "classify(X_train,y_train,'Predict borough of the Restuarant')"
   ]
  },
  {
   "cell_type": "markdown",
   "metadata": {
    "collapsed": true
   },
   "source": [
    "### Best classifier is chosen as Decision Trees"
   ]
  },
  {
   "cell_type": "code",
   "execution_count": 14,
   "metadata": {
    "collapsed": false
   },
   "outputs": [
    {
     "name": "stdout",
     "output_type": "stream",
     "text": [
      "# Tuning hyper-parameters for accuracy\n",
      "\n",
      "\n",
      "Grid scores for the best parameter on development set:\n",
      "1.000 (+/-0.000) for {'criterion': 'gini', 'max_depth': 5}\n",
      "Classification report:\n",
      "\n",
      "The model is trained on the training set.\n",
      "The scores are computed on the test set.\n",
      "\n",
      "Test set accuracy: 0.998651 \n",
      "Test set precision, recall, f1-score, support:\n",
      "             precision    recall  f1-score   support\n",
      "\n",
      "          0       1.00      1.00      1.00       405\n",
      "          1       1.00      1.00      1.00      1489\n",
      "          2       1.00      1.00      1.00      1470\n",
      "          3       1.00      1.00      1.00       843\n",
      "          4       0.98      1.00      0.99       241\n",
      "\n",
      "avg / total       1.00      1.00      1.00      4448\n",
      "\n",
      "\n",
      "# Tuning hyper-parameters for precision_macro\n",
      "\n",
      "\n",
      "Grid scores for the best parameter on development set:\n",
      "1.000 (+/-0.000) for {'criterion': 'gini', 'max_depth': 5}\n",
      "Classification report:\n",
      "\n",
      "The model is trained on the training set.\n",
      "The scores are computed on the test set.\n",
      "\n",
      "Test set accuracy: 0.998651 \n",
      "Test set precision, recall, f1-score, support:\n",
      "             precision    recall  f1-score   support\n",
      "\n",
      "          0       1.00      1.00      1.00       405\n",
      "          1       1.00      1.00      1.00      1489\n",
      "          2       1.00      1.00      1.00      1470\n",
      "          3       1.00      1.00      1.00       843\n",
      "          4       0.98      1.00      0.99       241\n",
      "\n",
      "avg / total       1.00      1.00      1.00      4448\n",
      "\n",
      "\n",
      "# Tuning hyper-parameters for recall_macro\n",
      "\n",
      "\n",
      "Grid scores for the best parameter on development set:\n",
      "1.000 (+/-0.000) for {'criterion': 'gini', 'max_depth': 5}\n",
      "Classification report:\n",
      "\n",
      "The model is trained on the training set.\n",
      "The scores are computed on the test set.\n",
      "\n",
      "Test set accuracy: 0.998651 \n",
      "Test set precision, recall, f1-score, support:\n",
      "             precision    recall  f1-score   support\n",
      "\n",
      "          0       1.00      1.00      1.00       405\n",
      "          1       1.00      1.00      1.00      1489\n",
      "          2       1.00      1.00      1.00      1470\n",
      "          3       1.00      1.00      1.00       843\n",
      "          4       0.98      1.00      0.99       241\n",
      "\n",
      "avg / total       1.00      1.00      1.00      4448\n",
      "\n",
      "\n"
     ]
    }
   ],
   "source": [
    "# Set the parameters by cross-validation\n",
    "tuned_parameters = [{'max_depth':range(3,20),\n",
    "                    'criterion':['gini','entropy']}]\n",
    "\n",
    "scores = ['accuracy','precision_macro', 'recall_macro']\n",
    "\n",
    "for score in scores:\n",
    "    print(\"# Tuning hyper-parameters for %s\" % score)\n",
    "    print()\n",
    "    clf = GridSearchCV(DecisionTreeClassifier(), tuned_parameters, cv=5, scoring='%s' % score)\n",
    "    clf.fit(X_train, y_train)\n",
    "    print()\n",
    "    print(\"Grid scores for the best parameter on development set:\")\n",
    "    print(\"%0.3f (+/-%0.03f) for %r\" % (clf.cv_results_['mean_test_score'][clf.best_index_], clf.cv_results_['std_test_score'][clf.best_index_], clf.cv_results_['params'][clf.best_index_]))\n",
    "\n",
    "    print(\"Classification report:\")\n",
    "    print()\n",
    "    print(\"The model is trained on the training set.\")\n",
    "    print(\"The scores are computed on the test set.\")\n",
    "    print()\n",
    "    y_true, y_pred = y_test, clf.predict(X_test)\n",
    "    print('Test set accuracy: %f '% accuracy_score(y_true, y_pred))\n",
    "    print('Test set precision, recall, f1-score, support:')\n",
    "    print(classification_report(y_true, y_pred))\n",
    "    print()\n"
   ]
  }
 ],
 "metadata": {
  "kernelspec": {
   "display_name": "Python 3",
   "language": "python",
   "name": "python3"
  },
  "language_info": {
   "codemirror_mode": {
    "name": "ipython",
    "version": 3
   },
   "file_extension": ".py",
   "mimetype": "text/x-python",
   "name": "python",
   "nbconvert_exporter": "python",
   "pygments_lexer": "ipython3",
   "version": "3.6.0"
  }
 },
 "nbformat": 4,
 "nbformat_minor": 2
}
