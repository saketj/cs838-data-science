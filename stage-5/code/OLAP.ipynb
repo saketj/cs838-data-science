{
 "cells": [
  {
   "cell_type": "markdown",
   "metadata": {},
   "source": [
    "# Python Package Requirements"
   ]
  },
  {
   "cell_type": "code",
   "execution_count": 1,
   "metadata": {
    "collapsed": true,
    "deletable": true,
    "editable": true
   },
   "outputs": [],
   "source": [
    "# Requirements:\n",
    "## - Install the following python packages:\n",
    "###  - `pip3 install cubes sqlalchemy flask`"
   ]
  },
  {
   "cell_type": "markdown",
   "metadata": {},
   "source": [
    "# Create Schema and Load Data"
   ]
  },
  {
   "cell_type": "code",
   "execution_count": 2,
   "metadata": {
    "collapsed": false,
    "deletable": true,
    "editable": true
   },
   "outputs": [
    {
     "name": "stdout",
     "output_type": "stream",
     "text": [
      "Created schema and loaded data.\n"
     ]
    }
   ],
   "source": [
    "from sqlalchemy import create_engine\n",
    "from cubes.tutorial.sql import create_table_from_csv\n",
    "engine = create_engine(\"sqlite:///data.sqlite\")\n",
    "create_table_from_csv(engine,\n",
    "                     \"../data/Table_E.csv\",\n",
    "                     table_name=\"nyc_restaurants\",\n",
    "                     fields=[\n",
    "                        (\"name\", \"string\"),\n",
    "                        (\"address\", \"string\"),\n",
    "                        (\"zipcode\", \"string\"),\n",
    "                        (\"cuisine\", \"string\"),\n",
    "                        (\"price\", \"string\"),\n",
    "                        (\"rating\", \"string\"),\n",
    "                        (\"review_count\", \"integer\"),\n",
    "                        (\"violation_code\", \"string\"),\n",
    "                        (\"critical_flag\", \"string\"),\n",
    "                        (\"grade\", \"string\"),\n",
    "                        (\"median_household_income\", \"integer\"),\n",
    "                        (\"median_real_estate_value\", \"integer\"),\n",
    "                        (\"population_density\", \"integer\"),\n",
    "                        (\"cost_of_living\", \"integer\"),\n",
    "                        (\"population\", \"integer\"),\n",
    "                        (\"neighborhood\", \"string\"),\n",
    "                        (\"borough\", \"string\")\n",
    "                     ],\n",
    "                     create_id=True)\n",
    "print('Created schema and loaded data.')"
   ]
  },
  {
   "cell_type": "markdown",
   "metadata": {},
   "source": [
    "# Create OLAP Cube"
   ]
  },
  {
   "cell_type": "code",
   "execution_count": 3,
   "metadata": {
    "collapsed": false,
    "deletable": true,
    "editable": true
   },
   "outputs": [
    {
     "name": "stdout",
     "output_type": "stream",
     "text": [
      "Created OLAP cube.\n"
     ]
    }
   ],
   "source": [
    "from cubes import Workspace\n",
    "workspace = Workspace()\n",
    "workspace.register_default_store(\"sql\", url=\"sqlite:///data.sqlite\")\n",
    "workspace.import_model(\"olap_model.json\")\n",
    "browser = workspace.browser(\"nyc_restaurants\")\n",
    "print('Created OLAP cube.')"
   ]
  },
  {
   "cell_type": "markdown",
   "metadata": {},
   "source": [
    "# Aggregation by borough"
   ]
  },
  {
   "cell_type": "code",
   "execution_count": 4,
   "metadata": {
    "collapsed": false,
    "deletable": true,
    "editable": true
   },
   "outputs": [
    {
     "name": "stdout",
     "output_type": "stream",
     "text": [
      "Aggregation results:\n",
      "Borough, Number of Restaurants\n",
      "Bronx , 519\n",
      "Brooklyn , 1846\n",
      "Manhattan , 1821\n",
      "Queens , 1078\n",
      "Staten Island , 296\n"
     ]
    }
   ],
   "source": [
    "result = browser.aggregate(drilldown=[\"area:borough\"])\n",
    "print('Aggregation results:')\n",
    "print(\"Borough, Number of Restaurants\")\n",
    "for record in result:\n",
    "    print(record['area.borough'], \",\",record['num_restaurants'])"
   ]
  },
  {
   "cell_type": "markdown",
   "metadata": {},
   "source": [
    "# Aggregation by neighborhood"
   ]
  },
  {
   "cell_type": "code",
   "execution_count": 5,
   "metadata": {
    "collapsed": false
   },
   "outputs": [
    {
     "name": "stdout",
     "output_type": "stream",
     "text": [
      "Aggregation results:\n",
      "Neighborhood, Number of Restaurants\n",
      "Bronx Park and Fordham , 103\n",
      "Central Bronx , 23\n",
      "High Bridge and Morrisania , 36\n",
      "Hunts Point and Mott Haven , 38\n",
      "Kingsbridge and Riverdale , 62\n",
      "Northeast Bronx , 77\n",
      "Southeast Bronx , 180\n",
      "Borough Park , 136\n",
      "Bushwick and Williamsburg , 172\n",
      "Canarsie and Flatlands , 82\n",
      "Central Brooklyn , 239\n",
      "East New York and New Lots , 54\n",
      "Flatbush , 105\n",
      "Greenpoint , 207\n",
      "Northwest Brooklyn , 442\n",
      "Southern Brooklyn , 191\n",
      "Southwest Brooklyn , 133\n",
      "Sunset Park , 85\n",
      "Battery Park , 3\n",
      "Central Harlem , 88\n",
      "Chelsea and Clinton , 260\n",
      "East Harlem , 83\n",
      "Gramercy Park and Murray Hill , 181\n",
      "Greenwich Village and Soho , 273\n",
      "Inwood and Washington Heights , 201\n",
      "Lower East Side , 212\n",
      "Lower Manhattan , 206\n",
      "Upper East Side , 120\n",
      "Upper West Side , 194\n",
      "Central Queens , 31\n",
      "Jamaica , 105\n",
      "North Queens , 185\n",
      "Northeast Queens , 67\n",
      "Northwest Queens , 172\n",
      "Southeast Queens , 71\n",
      "Southwest Queens , 97\n",
      "West Central Queens , 129\n",
      "West Queens , 221\n",
      "Mid-Island , 55\n",
      "Port Richmond , 57\n",
      "South Shore , 106\n",
      "Stapleton and St. George , 78\n"
     ]
    }
   ],
   "source": [
    "result = browser.aggregate(drilldown=[\"area:neighborhood\"])\n",
    "print('Aggregation results:') \n",
    "print(\"Neighborhood, Number of Restaurants\")\n",
    "for record in result:\n",
    "    print(record['area.neighborhood'], \",\",record['num_restaurants'])"
   ]
  },
  {
   "cell_type": "markdown",
   "metadata": {},
   "source": [
    "# Aggregation by restaurant price type"
   ]
  },
  {
   "cell_type": "code",
   "execution_count": 6,
   "metadata": {
    "collapsed": false
   },
   "outputs": [
    {
     "name": "stdout",
     "output_type": "stream",
     "text": [
      "Aggregation results:\n",
      "Price Type, Number of Restaurants\n",
      "$ , 2280\n",
      "$$ , 2930\n",
      "$$$ , 300\n",
      "$$$$ , 50\n"
     ]
    }
   ],
   "source": [
    "result = browser.aggregate(drilldown=[\"price\"])\n",
    "print('Aggregation results:')\n",
    "print(\"Price Type, Number of Restaurants\")\n",
    "for record in result:\n",
    "    print(record['price'], \",\", record['num_restaurants'])"
   ]
  },
  {
   "cell_type": "markdown",
   "metadata": {},
   "source": [
    "# Aggregation by restaurant rating "
   ]
  },
  {
   "cell_type": "code",
   "execution_count": 7,
   "metadata": {
    "collapsed": false
   },
   "outputs": [
    {
     "name": "stdout",
     "output_type": "stream",
     "text": [
      "Aggregation results:\n",
      "Rating, Number of Restaurants\n",
      "1.0 , 43\n",
      "1.5 , 85\n",
      "2.0 , 168\n",
      "2.5 , 379\n",
      "3.0 , 780\n",
      "3.5 , 1424\n",
      "4.0 , 1825\n",
      "4.5 , 726\n",
      "5.0 , 130\n"
     ]
    }
   ],
   "source": [
    "result = browser.aggregate(drilldown=[\"rating\"])\n",
    "print('Aggregation results:')\n",
    "print(\"Rating, Number of Restaurants\")\n",
    "for record in result:\n",
    "    print(record['rating'], \",\", record['num_restaurants'])"
   ]
  },
  {
   "cell_type": "markdown",
   "metadata": {},
   "source": [
    "# Aggregation by critical health violation"
   ]
  },
  {
   "cell_type": "code",
   "execution_count": 8,
   "metadata": {
    "collapsed": false
   },
   "outputs": [
    {
     "name": "stdout",
     "output_type": "stream",
     "text": [
      "Aggregation results:\n",
      "Health Violation, Number of Restaurants\n",
      "Critical , 2991\n",
      "Not Critical , 2569\n"
     ]
    }
   ],
   "source": [
    "result = browser.aggregate(drilldown=[\"critical_flag\"])\n",
    "print('Aggregation results:')\n",
    "print(\"Health Violation, Number of Restaurants\")\n",
    "for record in result:\n",
    "    print(record['critical_flag'], \",\", record['num_restaurants'])"
   ]
  },
  {
   "cell_type": "markdown",
   "metadata": {},
   "source": [
    "# Aggregation by health violation grade"
   ]
  },
  {
   "cell_type": "code",
   "execution_count": 10,
   "metadata": {
    "collapsed": false
   },
   "outputs": [
    {
     "name": "stdout",
     "output_type": "stream",
     "text": [
      "Aggregation results:\n",
      "Health Violation Grade, Number of Restaurants\n",
      "A , 4881\n",
      "B , 422\n",
      "C , 46\n",
      "P , 10\n",
      "Z , 201\n"
     ]
    }
   ],
   "source": [
    "result = browser.aggregate(drilldown=[\"grade\"])\n",
    "print('Aggregation results:')\n",
    "print(\"Health Violation Grade, Number of Restaurants\")\n",
    "for record in result:\n",
    "    print(record['grade'], \",\", record['num_restaurants'])"
   ]
  }
 ],
 "metadata": {
  "kernelspec": {
   "display_name": "Python 3",
   "language": "python",
   "name": "python3"
  },
  "language_info": {
   "codemirror_mode": {
    "name": "ipython",
    "version": 3
   },
   "file_extension": ".py",
   "mimetype": "text/x-python",
   "name": "python",
   "nbconvert_exporter": "python",
   "pygments_lexer": "ipython3",
   "version": "3.6.1"
  }
 },
 "nbformat": 4,
 "nbformat_minor": 2
}
