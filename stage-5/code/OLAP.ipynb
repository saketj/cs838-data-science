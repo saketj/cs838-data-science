{
 "cells": [
  {
   "cell_type": "markdown",
   "metadata": {},
   "source": [
    "# Python Package Requirements"
   ]
  },
  {
   "cell_type": "code",
   "execution_count": 1,
   "metadata": {
    "collapsed": true,
    "deletable": true,
    "editable": true
   },
   "outputs": [],
   "source": [
    "# Requirements:\n",
    "## - Install the following python packages:\n",
    "###  - `pip3 install cubes sqlalchemy flask`"
   ]
  },
  {
   "cell_type": "markdown",
   "metadata": {},
   "source": [
    "# Create Schema and Load Data"
   ]
  },
  {
   "cell_type": "code",
   "execution_count": 2,
   "metadata": {
    "collapsed": false,
    "deletable": true,
    "editable": true
   },
   "outputs": [
    {
     "name": "stdout",
     "output_type": "stream",
     "text": [
      "Created schema and loaded data.\n"
     ]
    }
   ],
   "source": [
    "from sqlalchemy import create_engine\n",
    "from cubes.tutorial.sql import create_table_from_csv\n",
    "engine = create_engine(\"sqlite:///data.sqlite\")\n",
    "create_table_from_csv(engine,\n",
    "                     \"../data/Table_E.csv\",\n",
    "                     table_name=\"nyc_restaurants\",\n",
    "                     fields=[\n",
    "                        (\"name\", \"string\"),\n",
    "                        (\"address\", \"string\"),\n",
    "                        (\"zipcode\", \"string\"),\n",
    "                        (\"cuisine\", \"string\"),\n",
    "                        (\"price\", \"string\"),\n",
    "                        (\"rating\", \"string\"),\n",
    "                        (\"review_count\", \"integer\"),\n",
    "                        (\"violation_code\", \"string\"),\n",
    "                        (\"critical_flag\", \"string\"),\n",
    "                        (\"grade\", \"string\"),\n",
    "                        (\"median_household_income\", \"integer\"),\n",
    "                        (\"median_real_estate_value\", \"integer\"),\n",
    "                        (\"population_density\", \"integer\"),\n",
    "                        (\"cost_of_living\", \"integer\"),\n",
    "                        (\"population\", \"integer\"),\n",
    "                        (\"neighborhood\", \"string\"),\n",
    "                        (\"borough\", \"string\")\n",
    "                     ],\n",
    "                     create_id=True)\n",
    "print('Created schema and loaded data.')"
   ]
  },
  {
   "cell_type": "markdown",
   "metadata": {},
   "source": [
    "# Create OLAP Cube"
   ]
  },
  {
   "cell_type": "code",
   "execution_count": 3,
   "metadata": {
    "collapsed": false,
    "deletable": true,
    "editable": true
   },
   "outputs": [
    {
     "name": "stdout",
     "output_type": "stream",
     "text": [
      "Created OLAP cube.\n"
     ]
    }
   ],
   "source": [
    "from cubes import Workspace\n",
    "workspace = Workspace()\n",
    "workspace.register_default_store(\"sql\", url=\"sqlite:///data.sqlite\")\n",
    "workspace.import_model(\"olap_model.json\")\n",
    "browser = workspace.browser(\"nyc_restaurants\")\n",
    "cube = workspace.cube(\"nyc_restaurants\")\n",
    "print('Created OLAP cube.')"
   ]
  },
  {
   "cell_type": "markdown",
   "metadata": {},
   "source": [
    "# Aggregation by borough"
   ]
  },
  {
   "cell_type": "code",
   "execution_count": 4,
   "metadata": {
    "collapsed": false,
    "deletable": true,
    "editable": true
   },
   "outputs": [
    {
     "name": "stdout",
     "output_type": "stream",
     "text": [
      "Aggregation results:\n",
      "Borough, Number of Restaurants\n",
      "Bronx , 519\n",
      "Brooklyn , 1846\n",
      "Manhattan , 1821\n",
      "Queens , 1078\n",
      "Staten Island , 296\n"
     ]
    }
   ],
   "source": [
    "result = browser.aggregate(drilldown=[\"area:borough\"])\n",
    "print('Aggregation results:')\n",
    "print(\"Borough, Number of Restaurants\")\n",
    "for record in result:\n",
    "    print(record['area.borough'], \",\",record['num_restaurants'])"
   ]
  },
  {
   "cell_type": "markdown",
   "metadata": {},
   "source": [
    "# Aggregation by neighborhood"
   ]
  },
  {
   "cell_type": "code",
   "execution_count": 5,
   "metadata": {
    "collapsed": false
   },
   "outputs": [
    {
     "name": "stdout",
     "output_type": "stream",
     "text": [
      "Aggregation results:\n",
      "Neighborhood, Number of Restaurants\n",
      "Bronx Park and Fordham , 103\n",
      "Central Bronx , 23\n",
      "High Bridge and Morrisania , 36\n",
      "Hunts Point and Mott Haven , 38\n",
      "Kingsbridge and Riverdale , 62\n",
      "Northeast Bronx , 77\n",
      "Southeast Bronx , 180\n",
      "Borough Park , 136\n",
      "Bushwick and Williamsburg , 172\n",
      "Canarsie and Flatlands , 82\n",
      "Central Brooklyn , 239\n",
      "East New York and New Lots , 54\n",
      "Flatbush , 105\n",
      "Greenpoint , 207\n",
      "Northwest Brooklyn , 442\n",
      "Southern Brooklyn , 191\n",
      "Southwest Brooklyn , 133\n",
      "Sunset Park , 85\n",
      "Battery Park , 3\n",
      "Central Harlem , 88\n",
      "Chelsea and Clinton , 260\n",
      "East Harlem , 83\n",
      "Gramercy Park and Murray Hill , 181\n",
      "Greenwich Village and Soho , 273\n",
      "Inwood and Washington Heights , 201\n",
      "Lower East Side , 212\n",
      "Lower Manhattan , 206\n",
      "Upper East Side , 120\n",
      "Upper West Side , 194\n",
      "Central Queens , 31\n",
      "Jamaica , 105\n",
      "North Queens , 185\n",
      "Northeast Queens , 67\n",
      "Northwest Queens , 172\n",
      "Southeast Queens , 71\n",
      "Southwest Queens , 97\n",
      "West Central Queens , 129\n",
      "West Queens , 221\n",
      "Mid-Island , 55\n",
      "Port Richmond , 57\n",
      "South Shore , 106\n",
      "Stapleton and St. George , 78\n"
     ]
    }
   ],
   "source": [
    "result = browser.aggregate(drilldown=[\"area:neighborhood\"])\n",
    "print('Aggregation results:') \n",
    "print(\"Neighborhood, Number of Restaurants\")\n",
    "for record in result:\n",
    "    print(record['area.neighborhood'], \",\",record['num_restaurants'])"
   ]
  },
  {
   "cell_type": "markdown",
   "metadata": {},
   "source": [
    "# Aggregation by restaurant price type"
   ]
  },
  {
   "cell_type": "code",
   "execution_count": 6,
   "metadata": {
    "collapsed": false
   },
   "outputs": [
    {
     "name": "stdout",
     "output_type": "stream",
     "text": [
      "Aggregation results:\n",
      "Price Type, Number of Restaurants\n",
      "$ , 2280\n",
      "$$ , 2930\n",
      "$$$ , 300\n",
      "$$$$ , 50\n"
     ]
    }
   ],
   "source": [
    "result = browser.aggregate(drilldown=[\"price\"])\n",
    "print('Aggregation results:')\n",
    "print(\"Price Type, Number of Restaurants\")\n",
    "for record in result:\n",
    "    print(record['price'], \",\", record['num_restaurants'])"
   ]
  },
  {
   "cell_type": "markdown",
   "metadata": {},
   "source": [
    "# Aggregation by restaurant rating "
   ]
  },
  {
   "cell_type": "code",
   "execution_count": 7,
   "metadata": {
    "collapsed": false
   },
   "outputs": [
    {
     "name": "stdout",
     "output_type": "stream",
     "text": [
      "Aggregation results:\n",
      "Rating, Number of Restaurants\n",
      "1.0 , 43\n",
      "1.5 , 85\n",
      "2.0 , 168\n",
      "2.5 , 379\n",
      "3.0 , 780\n",
      "3.5 , 1424\n",
      "4.0 , 1825\n",
      "4.5 , 726\n",
      "5.0 , 130\n"
     ]
    }
   ],
   "source": [
    "result = browser.aggregate(drilldown=[\"rating\"])\n",
    "print('Aggregation results:')\n",
    "print(\"Rating, Number of Restaurants\")\n",
    "for record in result:\n",
    "    print(record['rating'], \",\", record['num_restaurants'])"
   ]
  },
  {
   "cell_type": "markdown",
   "metadata": {},
   "source": [
    "# Aggregation by critical health violation"
   ]
  },
  {
   "cell_type": "code",
   "execution_count": 8,
   "metadata": {
    "collapsed": false
   },
   "outputs": [
    {
     "name": "stdout",
     "output_type": "stream",
     "text": [
      "Aggregation results:\n",
      "Health Violation, Number of Restaurants\n",
      "Critical , 2991\n",
      "Not Critical , 2569\n"
     ]
    }
   ],
   "source": [
    "result = browser.aggregate(drilldown=[\"critical_flag\"])\n",
    "print('Aggregation results:')\n",
    "print(\"Health Violation, Number of Restaurants\")\n",
    "for record in result:\n",
    "    print(record['critical_flag'], \",\", record['num_restaurants'])"
   ]
  },
  {
   "cell_type": "markdown",
   "metadata": {},
   "source": [
    "# Aggregation by health violation grade"
   ]
  },
  {
   "cell_type": "code",
   "execution_count": 9,
   "metadata": {
    "collapsed": false
   },
   "outputs": [
    {
     "name": "stdout",
     "output_type": "stream",
     "text": [
      "Aggregation results:\n",
      "Health Violation Grade, Number of Restaurants\n",
      "A , 4881\n",
      "B , 422\n",
      "C , 46\n",
      "P , 10\n",
      "Z , 201\n"
     ]
    }
   ],
   "source": [
    "result = browser.aggregate(drilldown=[\"grade\"])\n",
    "print('Aggregation results:')\n",
    "print(\"Health Violation Grade, Number of Restaurants\")\n",
    "for record in result:\n",
    "    print(record['grade'], \",\", record['num_restaurants'])"
   ]
  },
  {
   "cell_type": "markdown",
   "metadata": {},
   "source": [
    "# Slice on 'Critical' health violation by Borough"
   ]
  },
  {
   "cell_type": "code",
   "execution_count": 10,
   "metadata": {
    "collapsed": false
   },
   "outputs": [
    {
     "name": "stdout",
     "output_type": "stream",
     "text": [
      "Aggregation results for grade \"A\" violation:\n",
      "Borough, Number of Restaurants\n",
      "Bronx , 281\n",
      "Brooklyn , 977\n",
      "Manhattan , 1007\n",
      "Queens , 561\n",
      "Staten Island , 165\n"
     ]
    }
   ],
   "source": [
    "from cubes import PointCut\n",
    "from cubes import Cell\n",
    "cut = PointCut(\"critical_flag\", [\"Critical\"])\n",
    "cell = Cell(cube, [cut])\n",
    "result = browser.aggregate(cell, drilldown=[\"area:borough\"])\n",
    "print('Aggregation results for grade \"A\" violation:')\n",
    "print(\"Borough, Number of Restaurants\")\n",
    "for record in result:\n",
    "    print(record['area.borough'], \",\", record['num_restaurants'])"
   ]
  },
  {
   "cell_type": "markdown",
   "metadata": {},
   "source": [
    "# Dice on 'Critical' and Grade 'A' Health Violation by Borough"
   ]
  },
  {
   "cell_type": "code",
   "execution_count": 14,
   "metadata": {
    "collapsed": false
   },
   "outputs": [
    {
     "name": "stdout",
     "output_type": "stream",
     "text": [
      "Aggregation results for \"critical\" and grade \"A\" violation:\n",
      "Borough, Number of Restaurants\n",
      "Bronx , 230\n",
      "Brooklyn , 821\n",
      "Manhattan , 839\n",
      "Queens , 500\n",
      "Staten Island , 140\n"
     ]
    }
   ],
   "source": [
    "from cubes import PointCut\n",
    "from cubes import Cell\n",
    "cuts = [\n",
    "    PointCut(\"grade\", [\"A\"]),\n",
    "    PointCut(\"critical_flag\", [\"Critical\"])\n",
    "]\n",
    "cell = Cell(cube, cuts)\n",
    "result = browser.aggregate(cell, drilldown=[\"area:borough\"])\n",
    "print('Aggregation results for \"critical\" and grade \"A\" violation:')\n",
    "print(\"Borough, Number of Restaurants\")\n",
    "for record in result:\n",
    "    print(record['area.borough'], \",\", record['num_restaurants'])"
   ]
  },
  {
   "cell_type": "markdown",
   "metadata": {},
   "source": [
    "# Slice on 'Critical' Health Violation by Neighborhood"
   ]
  },
  {
   "cell_type": "code",
   "execution_count": 11,
   "metadata": {
    "collapsed": false
   },
   "outputs": [
    {
     "name": "stdout",
     "output_type": "stream",
     "text": [
      "Aggregation results for \"critical\" violation:\n",
      "Neighborhood, Number of Restaurants\n",
      "Bronx Park and Fordham , 54\n",
      "Central Bronx , 14\n",
      "High Bridge and Morrisania , 16\n",
      "Hunts Point and Mott Haven , 20\n",
      "Kingsbridge and Riverdale , 39\n",
      "Northeast Bronx , 43\n",
      "Southeast Bronx , 95\n",
      "Borough Park , 63\n",
      "Bushwick and Williamsburg , 97\n",
      "Canarsie and Flatlands , 41\n",
      "Central Brooklyn , 124\n",
      "East New York and New Lots , 28\n",
      "Flatbush , 56\n",
      "Greenpoint , 112\n",
      "Northwest Brooklyn , 243\n",
      "Southern Brooklyn , 95\n",
      "Southwest Brooklyn , 77\n",
      "Sunset Park , 41\n",
      "Battery Park , 1\n",
      "Central Harlem , 46\n",
      "Chelsea and Clinton , 155\n",
      "East Harlem , 52\n",
      "Gramercy Park and Murray Hill , 94\n",
      "Greenwich Village and Soho , 151\n",
      "Inwood and Washington Heights , 99\n",
      "Lower East Side , 115\n",
      "Lower Manhattan , 107\n",
      "Upper East Side , 76\n",
      "Upper West Side , 111\n",
      "Central Queens , 13\n",
      "Jamaica , 54\n",
      "North Queens , 95\n",
      "Northeast Queens , 38\n",
      "Northwest Queens , 91\n",
      "Southeast Queens , 33\n",
      "Southwest Queens , 50\n",
      "West Central Queens , 58\n",
      "West Queens , 129\n",
      "Mid-Island , 34\n",
      "Port Richmond , 31\n",
      "South Shore , 57\n",
      "Stapleton and St. George , 43\n"
     ]
    }
   ],
   "source": [
    "from cubes import PointCut\n",
    "from cubes import Cell\n",
    "cut = PointCut(\"critical_flag\", [\"Critical\"])\n",
    "cell = Cell(cube, [cut])\n",
    "result = browser.aggregate(cell, drilldown=[\"area:neighborhood\"])\n",
    "print('Aggregation results for \"critical\" violation:')\n",
    "print(\"Neighborhood, Number of Restaurants\")\n",
    "for record in result:\n",
    "    print(record['area.neighborhood'], \",\", record['num_restaurants'])"
   ]
  },
  {
   "cell_type": "markdown",
   "metadata": {},
   "source": [
    "# Dice on 'Critical' and Grade 'A' Health Violation by Neighborhood"
   ]
  },
  {
   "cell_type": "code",
   "execution_count": 15,
   "metadata": {
    "collapsed": false
   },
   "outputs": [
    {
     "name": "stdout",
     "output_type": "stream",
     "text": [
      "Aggregation results for \"critical\" and grade \"A\" violation:\n",
      "Neighborhood, Number of Restaurants\n",
      "Bronx Park and Fordham , 46\n",
      "Central Bronx , 10\n",
      "High Bridge and Morrisania , 12\n",
      "Hunts Point and Mott Haven , 17\n",
      "Kingsbridge and Riverdale , 27\n",
      "Northeast Bronx , 40\n",
      "Southeast Bronx , 78\n",
      "Borough Park , 48\n",
      "Bushwick and Williamsburg , 76\n",
      "Canarsie and Flatlands , 38\n",
      "Central Brooklyn , 101\n",
      "East New York and New Lots , 23\n",
      "Flatbush , 49\n",
      "Greenpoint , 100\n",
      "Northwest Brooklyn , 207\n",
      "Southern Brooklyn , 81\n",
      "Southwest Brooklyn , 65\n",
      "Sunset Park , 33\n",
      "Central Harlem , 35\n",
      "Chelsea and Clinton , 129\n",
      "East Harlem , 43\n",
      "Gramercy Park and Murray Hill , 79\n",
      "Greenwich Village and Soho , 131\n",
      "Inwood and Washington Heights , 71\n",
      "Lower East Side , 93\n",
      "Lower Manhattan , 89\n",
      "Upper East Side , 69\n",
      "Upper West Side , 100\n",
      "Central Queens , 12\n",
      "Jamaica , 48\n",
      "North Queens , 85\n",
      "Northeast Queens , 35\n",
      "Northwest Queens , 82\n",
      "Southeast Queens , 29\n",
      "Southwest Queens , 42\n",
      "West Central Queens , 52\n",
      "West Queens , 115\n",
      "Mid-Island , 31\n",
      "Port Richmond , 26\n",
      "South Shore , 47\n",
      "Stapleton and St. George , 36\n"
     ]
    }
   ],
   "source": [
    "from cubes import PointCut\n",
    "from cubes import Cell\n",
    "cuts = [\n",
    "    PointCut(\"grade\", [\"A\"]),\n",
    "    PointCut(\"critical_flag\", [\"Critical\"])\n",
    "]\n",
    "cell = Cell(cube, cuts)\n",
    "result = browser.aggregate(cell, drilldown=[\"area:neighborhood\"])\n",
    "print('Aggregation results for \"critical\" and grade \"A\" violation:')\n",
    "print(\"Neighborhood, Number of Restaurants\")\n",
    "for record in result:\n",
    "    print(record['area.neighborhood'], \",\", record['num_restaurants'])"
   ]
  },
  {
   "cell_type": "markdown",
   "metadata": {
    "deletable": true,
    "editable": true
   },
   "source": [
    "# Slice on 'Critical' Health Violation by Rating"
   ]
  },
  {
   "cell_type": "code",
   "execution_count": 12,
   "metadata": {
    "collapsed": false,
    "deletable": true,
    "editable": true
   },
   "outputs": [
    {
     "name": "stdout",
     "output_type": "stream",
     "text": [
      "Aggregation results for \"critical\" violation:\n",
      "Rating, Number of Restaurants\n",
      "1.0 , 21\n",
      "1.5 , 46\n",
      "2.0 , 82\n",
      "2.5 , 211\n",
      "3.0 , 414\n",
      "3.5 , 793\n",
      "4.0 , 979\n",
      "4.5 , 378\n",
      "5.0 , 67\n"
     ]
    }
   ],
   "source": [
    "from cubes import PointCut\n",
    "from cubes import Cell\n",
    "cut = PointCut(\"critical_flag\", [\"Critical\"])\n",
    "cell = Cell(cube, [cut])\n",
    "result = browser.aggregate(cell, drilldown=[\"rating\"])\n",
    "print('Aggregation results for \"critical\" violation:')\n",
    "print(\"Rating, Number of Restaurants\")\n",
    "for record in result:\n",
    "    print(record['rating'], \",\", record['num_restaurants'])"
   ]
  },
  {
   "cell_type": "markdown",
   "metadata": {},
   "source": [
    "# Dice on 'Critical' and Grade 'A' Health Violation by Rating"
   ]
  },
  {
   "cell_type": "code",
   "execution_count": 16,
   "metadata": {
    "collapsed": false,
    "deletable": true,
    "editable": true
   },
   "outputs": [
    {
     "name": "stdout",
     "output_type": "stream",
     "text": [
      "Aggregation results for \"critical\" and grade \"A\" violation:\n",
      "Rating, Number of Restaurants\n",
      "1.0 , 19\n",
      "1.5 , 40\n",
      "2.0 , 73\n",
      "2.5 , 175\n",
      "3.0 , 333\n",
      "3.5 , 666\n",
      "4.0 , 836\n",
      "4.5 , 329\n",
      "5.0 , 59\n"
     ]
    }
   ],
   "source": [
    "from cubes import PointCut\n",
    "from cubes import Cell\n",
    "cuts = [\n",
    "    PointCut(\"grade\", [\"A\"]),\n",
    "    PointCut(\"critical_flag\", [\"Critical\"])\n",
    "]\n",
    "cell = Cell(cube, cuts)\n",
    "result = browser.aggregate(cell, drilldown=[\"rating\"])\n",
    "print('Aggregation results for \"critical\" and grade \"A\" violation:')\n",
    "print(\"Rating, Number of Restaurants\")\n",
    "for record in result:\n",
    "    print(record['rating'], \",\", record['num_restaurants'])"
   ]
  },
  {
   "cell_type": "markdown",
   "metadata": {},
   "source": [
    "# Slice on 'Critical' Health Violation by Price"
   ]
  },
  {
   "cell_type": "code",
   "execution_count": 13,
   "metadata": {
    "collapsed": false,
    "deletable": true,
    "editable": true
   },
   "outputs": [
    {
     "name": "stdout",
     "output_type": "stream",
     "text": [
      "Aggregation results for \"critical\" violation:\n",
      "Rating, Number of Restaurants\n",
      "$ , 1215\n",
      "$$ , 1597\n",
      "$$$ , 155\n",
      "$$$$ , 24\n"
     ]
    }
   ],
   "source": [
    "from cubes import PointCut\n",
    "from cubes import Cell\n",
    "cut = PointCut(\"critical_flag\", [\"Critical\"])\n",
    "cell = Cell(cube, [cut])\n",
    "result = browser.aggregate(cell, drilldown=[\"price\"])\n",
    "print('Aggregation results for \"critical\" violation:')\n",
    "print(\"Rating, Number of Restaurants\")\n",
    "for record in result:\n",
    "    print(record['price'], \",\", record['num_restaurants'])"
   ]
  },
  {
   "cell_type": "markdown",
   "metadata": {},
   "source": [
    "# Dice on 'Critical' and Grade 'A' Health Violation by Price"
   ]
  },
  {
   "cell_type": "code",
   "execution_count": 18,
   "metadata": {
    "collapsed": false,
    "deletable": true,
    "editable": true
   },
   "outputs": [
    {
     "name": "stdout",
     "output_type": "stream",
     "text": [
      "Aggregation results for \"critical\" and grade \"A\" violation:\n",
      "Price, Number of Restaurants\n",
      "$ , 1047\n",
      "$$ , 1331\n",
      "$$$ , 132\n",
      "$$$$ , 20\n"
     ]
    }
   ],
   "source": [
    "from cubes import PointCut\n",
    "from cubes import Cell\n",
    "cuts = [\n",
    "    PointCut(\"grade\", [\"A\"]),\n",
    "    PointCut(\"critical_flag\", [\"Critical\"])\n",
    "]\n",
    "cell = Cell(cube, cuts)\n",
    "result = browser.aggregate(cell, drilldown=[\"price\"])\n",
    "print('Aggregation results for \"critical\" and grade \"A\" violation:')\n",
    "print(\"Price, Number of Restaurants\")\n",
    "for record in result:\n",
    "    print(record['price'], \",\", record['num_restaurants'])"
   ]
  }
 ],
 "metadata": {
  "kernelspec": {
   "display_name": "Python 3",
   "language": "python",
   "name": "python3"
  },
  "language_info": {
   "codemirror_mode": {
    "name": "ipython",
    "version": 3
   },
   "file_extension": ".py",
   "mimetype": "text/x-python",
   "name": "python",
   "nbconvert_exporter": "python",
   "pygments_lexer": "ipython3",
   "version": "3.6.1"
  }
 },
 "nbformat": 4,
 "nbformat_minor": 2
}
