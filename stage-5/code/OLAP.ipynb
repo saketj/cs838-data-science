{
 "cells": [
  {
   "cell_type": "markdown",
   "metadata": {},
   "source": [
    "# Python Package Requirements"
   ]
  },
  {
   "cell_type": "code",
   "execution_count": 1,
   "metadata": {
    "collapsed": true,
    "deletable": true,
    "editable": true
   },
   "outputs": [],
   "source": [
    "# Requirements:\n",
    "## - Install the following python packages:\n",
    "###  - `pip3 install cubes sqlalchemy flask pandas`"
   ]
  },
  {
   "cell_type": "markdown",
   "metadata": {},
   "source": [
    "# Create Schema and Load Data"
   ]
  },
  {
   "cell_type": "code",
   "execution_count": 2,
   "metadata": {
    "collapsed": false,
    "deletable": true,
    "editable": true
   },
   "outputs": [
    {
     "name": "stdout",
     "output_type": "stream",
     "text": [
      "Created schema and loaded data.\n"
     ]
    }
   ],
   "source": [
    "from sqlalchemy import create_engine\n",
    "from cubes.tutorial.sql import create_table_from_csv\n",
    "engine = create_engine(\"sqlite:///data.sqlite\")\n",
    "create_table_from_csv(engine,\n",
    "                     \"../data/Table_E.csv\",\n",
    "                     table_name=\"nyc_restaurants\",\n",
    "                     fields=[\n",
    "                        (\"name\", \"string\"),\n",
    "                        (\"address\", \"string\"),\n",
    "                        (\"zipcode\", \"string\"),\n",
    "                        (\"cuisine\", \"string\"),\n",
    "                        (\"price\", \"string\"),\n",
    "                        (\"violation_code\", \"string\"),\n",
    "                        (\"critical_flag\", \"string\"),\n",
    "                        (\"grade\", \"string\"),\n",
    "                        (\"median_household_income\", \"integer\"),\n",
    "                        (\"median_real_estate_value\", \"integer\"),\n",
    "                        (\"population_density\", \"integer\"),\n",
    "                        (\"cost_of_living\", \"integer\"),\n",
    "                        (\"population\", \"integer\"),\n",
    "                        (\"neighborhood\", \"string\"),\n",
    "                        (\"borough\", \"string\")\n",
    "                     ],\n",
    "                     create_id=True)\n",
    "print('Created schema and loaded data.')"
   ]
  },
  {
   "cell_type": "markdown",
   "metadata": {},
   "source": [
    "# Create OLAP Cube"
   ]
  },
  {
   "cell_type": "code",
   "execution_count": 3,
   "metadata": {
    "collapsed": false,
    "deletable": true,
    "editable": true
   },
   "outputs": [
    {
     "name": "stdout",
     "output_type": "stream",
     "text": [
      "Created OLAP cube.\n"
     ]
    }
   ],
   "source": [
    "from cubes import Workspace\n",
    "workspace = Workspace()\n",
    "workspace.register_default_store(\"sql\", url=\"sqlite:///data.sqlite\")\n",
    "workspace.import_model(\"olap_model.json\")\n",
    "browser = workspace.browser(\"nyc_restaurants\")\n",
    "print('Created OLAP cube.')"
   ]
  },
  {
   "cell_type": "markdown",
   "metadata": {},
   "source": [
    "# Aggregation by borough"
   ]
  },
  {
   "cell_type": "code",
   "execution_count": 4,
   "metadata": {
    "collapsed": false,
    "deletable": true,
    "editable": true
   },
   "outputs": [
    {
     "name": "stdout",
     "output_type": "stream",
     "text": [
      "Aggregation results:\n",
      "Borough, Number of Restaurants\n",
      "Bronx , 519\n",
      "Brooklyn , 1846\n",
      "Manhattan , 1821\n",
      "Queens , 1078\n",
      "Staten Island , 296\n"
     ]
    }
   ],
   "source": [
    "import pandas\n",
    "result = browser.aggregate(drilldown=[\"area:borough\"])\n",
    "print('Aggregation results:')\n",
    "print(\"Borough, Number of Restaurants\")\n",
    "for record in result:\n",
    "    print(record['area.borough'], \",\",record['num_restaurants'])"
   ]
  },
  {
   "cell_type": "markdown",
   "metadata": {},
   "source": [
    "# Aggregation by neighborhood"
   ]
  },
  {
   "cell_type": "code",
   "execution_count": 5,
   "metadata": {
    "collapsed": false
   },
   "outputs": [
    {
     "name": "stdout",
     "output_type": "stream",
     "text": [
      "Aggregation results:\n",
      "Neighborhood, Number of Restaurants\n",
      "Bronx Park and Fordham , 103\n",
      "Central Bronx , 23\n",
      "High Bridge and Morrisania , 36\n",
      "Hunts Point and Mott Haven , 38\n",
      "Kingsbridge and Riverdale , 62\n",
      "Northeast Bronx , 77\n",
      "Southeast Bronx , 180\n",
      "Borough Park , 136\n",
      "Bushwick and Williamsburg , 172\n",
      "Canarsie and Flatlands , 82\n",
      "Central Brooklyn , 239\n",
      "East New York and New Lots , 54\n",
      "Flatbush , 105\n",
      "Greenpoint , 207\n",
      "Northwest Brooklyn , 442\n",
      "Southern Brooklyn , 191\n",
      "Southwest Brooklyn , 133\n",
      "Sunset Park , 85\n",
      "Battery Park , 3\n",
      "Central Harlem , 88\n",
      "Chelsea and Clinton , 260\n",
      "East Harlem , 83\n",
      "Gramercy Park and Murray Hill , 181\n",
      "Greenwich Village and Soho , 273\n",
      "Inwood and Washington Heights , 201\n",
      "Lower East Side , 212\n",
      "Lower Manhattan , 206\n",
      "Upper East Side , 120\n",
      "Upper West Side , 194\n",
      "Central Queens , 31\n",
      "Jamaica , 105\n",
      "North Queens , 185\n",
      "Northeast Queens , 67\n",
      "Northwest Queens , 172\n",
      "Southeast Queens , 71\n",
      "Southwest Queens , 97\n",
      "West Central Queens , 129\n",
      "West Queens , 221\n",
      "Mid-Island , 55\n",
      "Port Richmond , 57\n",
      "South Shore , 106\n",
      "Stapleton and St. George , 78\n"
     ]
    }
   ],
   "source": [
    "result = browser.aggregate(drilldown=[\"area:neighborhood\"])\n",
    "print('Aggregation results:') \n",
    "print(\"Neighborhood, Number of Restaurants\")\n",
    "for record in result:\n",
    "    print(record['area.neighborhood'], \",\",record['num_restaurants'])"
   ]
  },
  {
   "cell_type": "markdown",
   "metadata": {},
   "source": [
    "# Aggregation by zipcode"
   ]
  },
  {
   "cell_type": "code",
   "execution_count": 6,
   "metadata": {
    "collapsed": false
   },
   "outputs": [
    {
     "name": "stdout",
     "output_type": "stream",
     "text": [
      "Aggregation results:\n",
      "Zipcode, Number of Restaurants\n",
      "10458 , 40\n",
      "10467 , 39\n",
      "10468 , 24\n",
      "10453 , 11\n",
      "10457 , 8\n",
      "10460 , 4\n",
      "10451 , 22\n",
      "10452 , 7\n",
      "10456 , 7\n",
      "10454 , 9\n",
      "10455 , 15\n",
      "10459 , 9\n",
      "10474 , 5\n",
      "10463 , 44\n",
      "10471 , 18\n",
      "10466 , 20\n",
      "10469 , 19\n",
      "10470 , 13\n",
      "10475 , 25\n",
      "10461 , 48\n",
      "10462 , 57\n",
      "10464 , 20\n",
      "10465 , 21\n",
      "10472 , 23\n",
      "10473 , 11\n",
      "11204 , 31\n",
      "11218 , 60\n",
      "11219 , 18\n",
      "11230 , 27\n",
      "11206 , 58\n",
      "11221 , 33\n",
      "11237 , 81\n",
      "11234 , 42\n",
      "11236 , 32\n",
      "11239 , 8\n",
      "11212 , 20\n",
      "11213 , 22\n",
      "11216 , 63\n",
      "11233 , 22\n",
      "11238 , 112\n",
      "11207 , 21\n",
      "11208 , 33\n",
      "11203 , 24\n",
      "11210 , 28\n",
      "11225 , 43\n",
      "11226 , 10\n",
      "11211 , 104\n",
      "11222 , 103\n",
      "11201 , 153\n",
      "11205 , 50\n",
      "11215 , 93\n",
      "11217 , 79\n",
      "11231 , 67\n",
      "11223 , 58\n",
      "11224 , 16\n",
      "11229 , 48\n",
      "11235 , 69\n",
      "11209 , 61\n",
      "11214 , 61\n",
      "11228 , 11\n",
      "11220 , 64\n",
      "11232 , 21\n",
      "10282 , 3\n",
      "10026 , 19\n",
      "10027 , 48\n",
      "10030 , 11\n",
      "10037 , 2\n",
      "10039 , 8\n",
      "10001 , 56\n",
      "10011 , 53\n",
      "10018 , 39\n",
      "10019 , 61\n",
      "10036 , 51\n",
      "10029 , 62\n",
      "10035 , 21\n",
      "10010 , 28\n",
      "10016 , 68\n",
      "10017 , 22\n",
      "10022 , 63\n",
      "10012 , 93\n",
      "10013 , 107\n",
      "10014 , 73\n",
      "10031 , 45\n",
      "10032 , 58\n",
      "10033 , 37\n",
      "10034 , 35\n",
      "10040 , 26\n",
      "10002 , 108\n",
      "10003 , 72\n",
      "10009 , 32\n",
      "10004 , 50\n",
      "10005 , 16\n",
      "10006 , 20\n",
      "10007 , 43\n",
      "10038 , 74\n",
      "10280 , 3\n",
      "10021 , 24\n",
      "10028 , 49\n",
      "10044 , 2\n",
      "10128 , 45\n",
      "10023 , 35\n",
      "10024 , 81\n",
      "10025 , 78\n",
      "11365 , 8\n",
      "11366 , 11\n",
      "11367 , 12\n",
      "11412 , 5\n",
      "11423 , 5\n",
      "11432 , 51\n",
      "11433 , 4\n",
      "11434 , 25\n",
      "11435 , 15\n",
      "11354 , 76\n",
      "11355 , 47\n",
      "11356 , 14\n",
      "11357 , 15\n",
      "11358 , 31\n",
      "11360 , 2\n",
      "11361 , 31\n",
      "11362 , 16\n",
      "11363 , 4\n",
      "11364 , 16\n",
      "11101 , 20\n",
      "11102 , 18\n",
      "11103 , 45\n",
      "11104 , 29\n",
      "11105 , 28\n",
      "11106 , 32\n",
      "11004 , 10\n",
      "11040 , 5\n",
      "11411 , 5\n",
      "11413 , 14\n",
      "11422 , 11\n",
      "11426 , 7\n",
      "11427 , 6\n",
      "11428 , 5\n",
      "11429 , 8\n",
      "11414 , 9\n",
      "11415 , 11\n",
      "11416 , 9\n",
      "11417 , 16\n",
      "11418 , 9\n",
      "11419 , 19\n",
      "11420 , 8\n",
      "11421 , 16\n",
      "11374 , 18\n",
      "11375 , 36\n",
      "11379 , 10\n",
      "11385 , 65\n",
      "11368 , 20\n",
      "11369 , 6\n",
      "11370 , 6\n",
      "11372 , 75\n",
      "11373 , 66\n",
      "11377 , 33\n",
      "11378 , 15\n",
      "10314 , 55\n",
      "10302 , 20\n",
      "10303 , 11\n",
      "10310 , 26\n",
      "10306 , 41\n",
      "10307 , 6\n",
      "10308 , 12\n",
      "10309 , 15\n",
      "10312 , 32\n",
      "10301 , 30\n",
      "10304 , 12\n",
      "10305 , 36\n"
     ]
    }
   ],
   "source": [
    "result = browser.aggregate(drilldown=[\"area:zipcode\"])\n",
    "print('Aggregation results:')\n",
    "print(\"Zipcode, Number of Restaurants\")\n",
    "for record in result:\n",
    "    print(record['area.zipcode'], \",\",record['num_restaurants'])"
   ]
  }
 ],
 "metadata": {
  "kernelspec": {
   "display_name": "Python 3",
   "language": "python",
   "name": "python3"
  },
  "language_info": {
   "codemirror_mode": {
    "name": "ipython",
    "version": 3
   },
   "file_extension": ".py",
   "mimetype": "text/x-python",
   "name": "python",
   "nbconvert_exporter": "python",
   "pygments_lexer": "ipython3",
   "version": "3.6.1"
  }
 },
 "nbformat": 4,
 "nbformat_minor": 2
}
